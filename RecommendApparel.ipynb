{
  "nbformat": 4,
  "nbformat_minor": 0,
  "metadata": {
    "colab": {
      "provenance": [],
      "authorship_tag": "ABX9TyMj2UceGtt36w4Fvb9CjZJ3",
      "include_colab_link": true
    },
    "kernelspec": {
      "name": "python3",
      "display_name": "Python 3"
    },
    "language_info": {
      "name": "python"
    },
    "widgets": {
      "application/vnd.jupyter.widget-state+json": {
        "4a3834d616594e22bb472c2d1e238112": {
          "model_module": "@jupyter-widgets/controls",
          "model_name": "IntProgressModel",
          "model_module_version": "1.5.0",
          "state": {
            "_dom_classes": [],
            "_model_module": "@jupyter-widgets/controls",
            "_model_module_version": "1.5.0",
            "_model_name": "IntProgressModel",
            "_view_count": null,
            "_view_module": "@jupyter-widgets/controls",
            "_view_module_version": "1.5.0",
            "_view_name": "ProgressView",
            "bar_style": "",
            "description": "936/936",
            "description_tooltip": null,
            "layout": "IPY_MODEL_2f085c4624dc43dbbbf5d8d75648c10a",
            "max": 936,
            "min": 0,
            "orientation": "horizontal",
            "style": "IPY_MODEL_e66d4be64451419ea020881c5715dbb9",
            "value": 936
          }
        },
        "2f085c4624dc43dbbbf5d8d75648c10a": {
          "model_module": "@jupyter-widgets/base",
          "model_name": "LayoutModel",
          "model_module_version": "1.2.0",
          "state": {
            "_model_module": "@jupyter-widgets/base",
            "_model_module_version": "1.2.0",
            "_model_name": "LayoutModel",
            "_view_count": null,
            "_view_module": "@jupyter-widgets/base",
            "_view_module_version": "1.2.0",
            "_view_name": "LayoutView",
            "align_content": null,
            "align_items": null,
            "align_self": null,
            "border": null,
            "bottom": null,
            "display": null,
            "flex": null,
            "flex_flow": null,
            "grid_area": null,
            "grid_auto_columns": null,
            "grid_auto_flow": null,
            "grid_auto_rows": null,
            "grid_column": null,
            "grid_gap": null,
            "grid_row": null,
            "grid_template_areas": null,
            "grid_template_columns": null,
            "grid_template_rows": null,
            "height": null,
            "justify_content": null,
            "justify_items": null,
            "left": null,
            "margin": null,
            "max_height": null,
            "max_width": null,
            "min_height": null,
            "min_width": null,
            "object_fit": null,
            "object_position": null,
            "order": null,
            "overflow": null,
            "overflow_x": null,
            "overflow_y": null,
            "padding": null,
            "right": null,
            "top": null,
            "visibility": null,
            "width": null
          }
        },
        "e66d4be64451419ea020881c5715dbb9": {
          "model_module": "@jupyter-widgets/controls",
          "model_name": "ProgressStyleModel",
          "model_module_version": "1.5.0",
          "state": {
            "_model_module": "@jupyter-widgets/controls",
            "_model_module_version": "1.5.0",
            "_model_name": "ProgressStyleModel",
            "_view_count": null,
            "_view_module": "@jupyter-widgets/base",
            "_view_module_version": "1.2.0",
            "_view_name": "StyleView",
            "bar_color": null,
            "description_width": ""
          }
        }
      }
    }
  },
  "cells": [
    {
      "cell_type": "markdown",
      "metadata": {
        "id": "view-in-github",
        "colab_type": "text"
      },
      "source": [
        "<a href=\"https://colab.research.google.com/github/vkrisvasan/FashionAssist/blob/main/RecommendApparel.ipynb\" target=\"_parent\"><img src=\"https://colab.research.google.com/assets/colab-badge.svg\" alt=\"Open In Colab\"/></a>"
      ]
    },
    {
      "cell_type": "code",
      "execution_count": 55,
      "metadata": {
        "colab": {
          "base_uri": "https://localhost:8080/"
        },
        "id": "41YS9qTblKzW",
        "outputId": "a69ef8c7-7d21-4e14-c8f3-00ef4b43db36"
      },
      "outputs": [
        {
          "output_type": "stream",
          "name": "stdout",
          "text": [
            "Requirement already satisfied: google-cloud-aiplatform in /usr/local/lib/python3.10/dist-packages (1.52.0)\n",
            "Requirement already satisfied: ragstack-ai in /usr/local/lib/python3.10/dist-packages (1.0.6)\n",
            "Requirement already satisfied: google-api-core[grpc]!=2.0.*,!=2.1.*,!=2.2.*,!=2.3.*,!=2.4.*,!=2.5.*,!=2.6.*,!=2.7.*,<3.0.0dev,>=1.34.1 in /usr/local/lib/python3.10/dist-packages (from google-cloud-aiplatform) (2.11.1)\n",
            "Requirement already satisfied: google-auth<3.0.0dev,>=2.14.1 in /usr/local/lib/python3.10/dist-packages (from google-cloud-aiplatform) (2.27.0)\n",
            "Requirement already satisfied: proto-plus<2.0.0dev,>=1.22.0 in /usr/local/lib/python3.10/dist-packages (from google-cloud-aiplatform) (1.23.0)\n",
            "Requirement already satisfied: protobuf!=3.20.0,!=3.20.1,!=4.21.0,!=4.21.1,!=4.21.2,!=4.21.3,!=4.21.4,!=4.21.5,<5.0.0dev,>=3.19.5 in /usr/local/lib/python3.10/dist-packages (from google-cloud-aiplatform) (3.20.3)\n",
            "Requirement already satisfied: packaging>=14.3 in /usr/local/lib/python3.10/dist-packages (from google-cloud-aiplatform) (23.2)\n",
            "Requirement already satisfied: google-cloud-storage<3.0.0dev,>=1.32.0 in /usr/local/lib/python3.10/dist-packages (from google-cloud-aiplatform) (2.14.0)\n",
            "Requirement already satisfied: google-cloud-bigquery!=3.20.0,<4.0.0dev,>=1.15.0 in /usr/local/lib/python3.10/dist-packages (from google-cloud-aiplatform) (3.21.0)\n",
            "Requirement already satisfied: google-cloud-resource-manager<3.0.0dev,>=1.3.3 in /usr/local/lib/python3.10/dist-packages (from google-cloud-aiplatform) (1.12.3)\n",
            "Requirement already satisfied: shapely<3.0.0dev in /usr/local/lib/python3.10/dist-packages (from google-cloud-aiplatform) (2.0.4)\n",
            "Requirement already satisfied: pydantic<3 in /usr/local/lib/python3.10/dist-packages (from google-cloud-aiplatform) (2.7.1)\n",
            "Requirement already satisfied: docstring-parser<1 in /usr/local/lib/python3.10/dist-packages (from google-cloud-aiplatform) (0.16)\n",
            "Requirement already satisfied: ragstack-ai-colbert==1.0.5 in /usr/local/lib/python3.10/dist-packages (from ragstack-ai) (1.0.5)\n",
            "Requirement already satisfied: ragstack-ai-langchain[colbert,google,nvidia]==1.0.6 in /usr/local/lib/python3.10/dist-packages (from ragstack-ai) (1.0.6)\n",
            "Requirement already satisfied: ragstack-ai-llamaindex[azure,bedrock,colbert,google]==1.0.5 in /usr/local/lib/python3.10/dist-packages (from ragstack-ai) (1.0.5)\n",
            "Requirement already satisfied: cassio<0.2.0,>=0.1.7 in /usr/local/lib/python3.10/dist-packages (from ragstack-ai-colbert==1.0.5->ragstack-ai) (0.1.7)\n",
            "Requirement already satisfied: colbert-ai==0.2.19 in /usr/local/lib/python3.10/dist-packages (from ragstack-ai-colbert==1.0.5->ragstack-ai) (0.2.19)\n",
            "Requirement already satisfied: pyarrow==14.0.1 in /usr/local/lib/python3.10/dist-packages (from ragstack-ai-colbert==1.0.5->ragstack-ai) (14.0.1)\n",
            "Requirement already satisfied: torch==2.2.1 in /usr/local/lib/python3.10/dist-packages (from ragstack-ai-colbert==1.0.5->ragstack-ai) (2.2.1)\n",
            "Requirement already satisfied: astrapy<2,>=1 in /usr/local/lib/python3.10/dist-packages (from ragstack-ai-langchain[colbert,google,nvidia]==1.0.6->ragstack-ai) (1.2.0)\n",
            "Requirement already satisfied: langchain==0.1.19 in /usr/local/lib/python3.10/dist-packages (from ragstack-ai-langchain[colbert,google,nvidia]==1.0.6->ragstack-ai) (0.1.19)\n",
            "Requirement already satisfied: langchain-astradb==0.3.0 in /usr/local/lib/python3.10/dist-packages (from ragstack-ai-langchain[colbert,google,nvidia]==1.0.6->ragstack-ai) (0.3.0)\n",
            "Requirement already satisfied: langchain-community==0.0.38 in /usr/local/lib/python3.10/dist-packages (from ragstack-ai-langchain[colbert,google,nvidia]==1.0.6->ragstack-ai) (0.0.38)\n",
            "Requirement already satisfied: langchain-core==0.1.52 in /usr/local/lib/python3.10/dist-packages (from ragstack-ai-langchain[colbert,google,nvidia]==1.0.6->ragstack-ai) (0.1.52)\n",
            "Requirement already satisfied: langchain-openai==0.1.3 in /usr/local/lib/python3.10/dist-packages (from ragstack-ai-langchain[colbert,google,nvidia]==1.0.6->ragstack-ai) (0.1.3)\n",
            "Requirement already satisfied: unstructured==0.14.2 in /usr/local/lib/python3.10/dist-packages (from ragstack-ai-langchain[colbert,google,nvidia]==1.0.6->ragstack-ai) (0.14.2)\n",
            "Requirement already satisfied: langchain-google-genai==0.0.11 in /usr/local/lib/python3.10/dist-packages (from ragstack-ai-langchain[colbert,google,nvidia]==1.0.6->ragstack-ai) (0.0.11)\n",
            "Requirement already satisfied: langchain-google-vertexai==1.0.1 in /usr/local/lib/python3.10/dist-packages (from ragstack-ai-langchain[colbert,google,nvidia]==1.0.6->ragstack-ai) (1.0.1)\n",
            "Requirement already satisfied: langchain-nvidia-ai-endpoints==0.0.9 in /usr/local/lib/python3.10/dist-packages (from ragstack-ai-langchain[colbert,google,nvidia]==1.0.6->ragstack-ai) (0.0.9)\n",
            "Requirement already satisfied: cffi<2.0.0,>=1.16.0 in /usr/local/lib/python3.10/dist-packages (from ragstack-ai-llamaindex[azure,bedrock,colbert,google]==1.0.5->ragstack-ai) (1.16.0)\n",
            "Requirement already satisfied: llama-index==0.10.31 in /usr/local/lib/python3.10/dist-packages (from ragstack-ai-llamaindex[azure,bedrock,colbert,google]==1.0.5->ragstack-ai) (0.10.31)\n",
            "Requirement already satisfied: llama-index-embeddings-langchain==0.1.2 in /usr/local/lib/python3.10/dist-packages (from ragstack-ai-llamaindex[azure,bedrock,colbert,google]==1.0.5->ragstack-ai) (0.1.2)\n",
            "Requirement already satisfied: llama-index-tools-cassandra==0.1.1 in /usr/local/lib/python3.10/dist-packages (from ragstack-ai-llamaindex[azure,bedrock,colbert,google]==1.0.5->ragstack-ai) (0.1.1)\n",
            "Requirement already satisfied: llama-index-vector-stores-astra-db==0.1.7 in /usr/local/lib/python3.10/dist-packages (from ragstack-ai-llamaindex[azure,bedrock,colbert,google]==1.0.5->ragstack-ai) (0.1.7)\n",
            "Requirement already satisfied: llama-index-vector-stores-cassandra==0.1.3 in /usr/local/lib/python3.10/dist-packages (from ragstack-ai-llamaindex[azure,bedrock,colbert,google]==1.0.5->ragstack-ai) (0.1.3)\n",
            "Requirement already satisfied: llama-parse==0.4.1 in /usr/local/lib/python3.10/dist-packages (from ragstack-ai-llamaindex[azure,bedrock,colbert,google]==1.0.5->ragstack-ai) (0.4.1)\n",
            "Requirement already satisfied: llama-index-embeddings-gemini==0.1.6 in /usr/local/lib/python3.10/dist-packages (from ragstack-ai-llamaindex[azure,bedrock,colbert,google]==1.0.5->ragstack-ai) (0.1.6)\n",
            "Requirement already satisfied: llama-index-llms-gemini==0.1.7 in /usr/local/lib/python3.10/dist-packages (from ragstack-ai-llamaindex[azure,bedrock,colbert,google]==1.0.5->ragstack-ai) (0.1.7)\n",
            "Requirement already satisfied: llama-index-llms-vertex==0.1.5 in /usr/local/lib/python3.10/dist-packages (from ragstack-ai-llamaindex[azure,bedrock,colbert,google]==1.0.5->ragstack-ai) (0.1.5)\n",
            "Requirement already satisfied: llama-index-multi-modal-llms-gemini==0.1.5 in /usr/local/lib/python3.10/dist-packages (from ragstack-ai-llamaindex[azure,bedrock,colbert,google]==1.0.5->ragstack-ai) (0.1.5)\n",
            "Requirement already satisfied: llama-index-embeddings-bedrock==0.1.4 in /usr/local/lib/python3.10/dist-packages (from ragstack-ai-llamaindex[azure,bedrock,colbert,google]==1.0.5->ragstack-ai) (0.1.4)\n",
            "Requirement already satisfied: llama-index-llms-bedrock==0.1.7 in /usr/local/lib/python3.10/dist-packages (from ragstack-ai-llamaindex[azure,bedrock,colbert,google]==1.0.5->ragstack-ai) (0.1.7)\n",
            "Requirement already satisfied: llama-index-embeddings-azure-openai==0.1.7 in /usr/local/lib/python3.10/dist-packages (from ragstack-ai-llamaindex[azure,bedrock,colbert,google]==1.0.5->ragstack-ai) (0.1.7)\n",
            "Requirement already satisfied: llama-index-llms-azure-openai==0.1.6 in /usr/local/lib/python3.10/dist-packages (from ragstack-ai-llamaindex[azure,bedrock,colbert,google]==1.0.5->ragstack-ai) (0.1.6)\n",
            "Requirement already satisfied: bitarray in /usr/local/lib/python3.10/dist-packages (from colbert-ai==0.2.19->ragstack-ai-colbert==1.0.5->ragstack-ai) (2.9.2)\n",
            "Requirement already satisfied: datasets in /usr/local/lib/python3.10/dist-packages (from colbert-ai==0.2.19->ragstack-ai-colbert==1.0.5->ragstack-ai) (2.19.1)\n",
            "Requirement already satisfied: flask in /usr/local/lib/python3.10/dist-packages (from colbert-ai==0.2.19->ragstack-ai-colbert==1.0.5->ragstack-ai) (2.2.5)\n",
            "Requirement already satisfied: git-python in /usr/local/lib/python3.10/dist-packages (from colbert-ai==0.2.19->ragstack-ai-colbert==1.0.5->ragstack-ai) (1.0.3)\n",
            "Requirement already satisfied: python-dotenv in /usr/local/lib/python3.10/dist-packages (from colbert-ai==0.2.19->ragstack-ai-colbert==1.0.5->ragstack-ai) (1.0.1)\n",
            "Requirement already satisfied: ninja in /usr/local/lib/python3.10/dist-packages (from colbert-ai==0.2.19->ragstack-ai-colbert==1.0.5->ragstack-ai) (1.11.1.1)\n",
            "Requirement already satisfied: scipy in /usr/local/lib/python3.10/dist-packages (from colbert-ai==0.2.19->ragstack-ai-colbert==1.0.5->ragstack-ai) (1.11.4)\n",
            "Requirement already satisfied: tqdm in /usr/local/lib/python3.10/dist-packages (from colbert-ai==0.2.19->ragstack-ai-colbert==1.0.5->ragstack-ai) (4.66.4)\n",
            "Requirement already satisfied: transformers in /usr/local/lib/python3.10/dist-packages (from colbert-ai==0.2.19->ragstack-ai-colbert==1.0.5->ragstack-ai) (4.41.0)\n",
            "Requirement already satisfied: ujson in /usr/local/lib/python3.10/dist-packages (from colbert-ai==0.2.19->ragstack-ai-colbert==1.0.5->ragstack-ai) (5.10.0)\n",
            "Requirement already satisfied: PyYAML>=5.3 in /usr/local/lib/python3.10/dist-packages (from langchain==0.1.19->ragstack-ai-langchain[colbert,google,nvidia]==1.0.6->ragstack-ai) (6.0.1)\n",
            "Requirement already satisfied: SQLAlchemy<3,>=1.4 in /usr/local/lib/python3.10/dist-packages (from langchain==0.1.19->ragstack-ai-langchain[colbert,google,nvidia]==1.0.6->ragstack-ai) (2.0.30)\n",
            "Requirement already satisfied: aiohttp<4.0.0,>=3.8.3 in /usr/local/lib/python3.10/dist-packages (from langchain==0.1.19->ragstack-ai-langchain[colbert,google,nvidia]==1.0.6->ragstack-ai) (3.9.5)\n",
            "Requirement already satisfied: async-timeout<5.0.0,>=4.0.0 in /usr/local/lib/python3.10/dist-packages (from langchain==0.1.19->ragstack-ai-langchain[colbert,google,nvidia]==1.0.6->ragstack-ai) (4.0.3)\n",
            "Requirement already satisfied: dataclasses-json<0.7,>=0.5.7 in /usr/local/lib/python3.10/dist-packages (from langchain==0.1.19->ragstack-ai-langchain[colbert,google,nvidia]==1.0.6->ragstack-ai) (0.6.6)\n",
            "Requirement already satisfied: langchain-text-splitters<0.1,>=0.0.1 in /usr/local/lib/python3.10/dist-packages (from langchain==0.1.19->ragstack-ai-langchain[colbert,google,nvidia]==1.0.6->ragstack-ai) (0.0.2)\n",
            "Requirement already satisfied: langsmith<0.2.0,>=0.1.17 in /usr/local/lib/python3.10/dist-packages (from langchain==0.1.19->ragstack-ai-langchain[colbert,google,nvidia]==1.0.6->ragstack-ai) (0.1.63)\n",
            "Requirement already satisfied: numpy<2,>=1 in /usr/local/lib/python3.10/dist-packages (from langchain==0.1.19->ragstack-ai-langchain[colbert,google,nvidia]==1.0.6->ragstack-ai) (1.25.2)\n",
            "Requirement already satisfied: requests<3,>=2 in /usr/local/lib/python3.10/dist-packages (from langchain==0.1.19->ragstack-ai-langchain[colbert,google,nvidia]==1.0.6->ragstack-ai) (2.31.0)\n",
            "Requirement already satisfied: tenacity<9.0.0,>=8.1.0 in /usr/local/lib/python3.10/dist-packages (from langchain==0.1.19->ragstack-ai-langchain[colbert,google,nvidia]==1.0.6->ragstack-ai) (8.3.0)\n",
            "Requirement already satisfied: jsonpatch<2.0,>=1.33 in /usr/local/lib/python3.10/dist-packages (from langchain-core==0.1.52->ragstack-ai-langchain[colbert,google,nvidia]==1.0.6->ragstack-ai) (1.33)\n",
            "Requirement already satisfied: google-generativeai<0.5.0,>=0.4.1 in /usr/local/lib/python3.10/dist-packages (from langchain-google-genai==0.0.11->ragstack-ai-langchain[colbert,google,nvidia]==1.0.6->ragstack-ai) (0.4.1)\n",
            "Requirement already satisfied: types-protobuf<5.0.0.0,>=4.24.0.4 in /usr/local/lib/python3.10/dist-packages (from langchain-google-vertexai==1.0.1->ragstack-ai-langchain[colbert,google,nvidia]==1.0.6->ragstack-ai) (4.25.0.20240417)\n",
            "Requirement already satisfied: types-requests<3.0.0,>=2.31.0 in /usr/local/lib/python3.10/dist-packages (from langchain-google-vertexai==1.0.1->ragstack-ai-langchain[colbert,google,nvidia]==1.0.6->ragstack-ai) (2.32.0.20240523)\n",
            "Requirement already satisfied: pillow<11.0.0,>=10.0.0 in /usr/local/lib/python3.10/dist-packages (from langchain-nvidia-ai-endpoints==0.0.9->ragstack-ai-langchain[colbert,google,nvidia]==1.0.6->ragstack-ai) (10.3.0)\n",
            "Requirement already satisfied: openai<2.0.0,>=1.10.0 in /usr/local/lib/python3.10/dist-packages (from langchain-openai==0.1.3->ragstack-ai-langchain[colbert,google,nvidia]==1.0.6->ragstack-ai) (1.30.3)\n",
            "Requirement already satisfied: tiktoken<1,>=0.5.2 in /usr/local/lib/python3.10/dist-packages (from langchain-openai==0.1.3->ragstack-ai-langchain[colbert,google,nvidia]==1.0.6->ragstack-ai) (0.7.0)\n",
            "Requirement already satisfied: llama-index-agent-openai<0.3.0,>=0.1.4 in /usr/local/lib/python3.10/dist-packages (from llama-index==0.10.31->ragstack-ai-llamaindex[azure,bedrock,colbert,google]==1.0.5->ragstack-ai) (0.2.5)\n",
            "Requirement already satisfied: llama-index-cli<0.2.0,>=0.1.2 in /usr/local/lib/python3.10/dist-packages (from llama-index==0.10.31->ragstack-ai-llamaindex[azure,bedrock,colbert,google]==1.0.5->ragstack-ai) (0.1.12)\n",
            "Requirement already satisfied: llama-index-core<0.11.0,>=0.10.31 in /usr/local/lib/python3.10/dist-packages (from llama-index==0.10.31->ragstack-ai-llamaindex[azure,bedrock,colbert,google]==1.0.5->ragstack-ai) (0.10.39.post1)\n",
            "Requirement already satisfied: llama-index-embeddings-openai<0.2.0,>=0.1.5 in /usr/local/lib/python3.10/dist-packages (from llama-index==0.10.31->ragstack-ai-llamaindex[azure,bedrock,colbert,google]==1.0.5->ragstack-ai) (0.1.10)\n",
            "Requirement already satisfied: llama-index-indices-managed-llama-cloud<0.2.0,>=0.1.2 in /usr/local/lib/python3.10/dist-packages (from llama-index==0.10.31->ragstack-ai-llamaindex[azure,bedrock,colbert,google]==1.0.5->ragstack-ai) (0.1.6)\n",
            "Requirement already satisfied: llama-index-legacy<0.10.0,>=0.9.48 in /usr/local/lib/python3.10/dist-packages (from llama-index==0.10.31->ragstack-ai-llamaindex[azure,bedrock,colbert,google]==1.0.5->ragstack-ai) (0.9.48)\n",
            "Requirement already satisfied: llama-index-llms-openai<0.2.0,>=0.1.13 in /usr/local/lib/python3.10/dist-packages (from llama-index==0.10.31->ragstack-ai-llamaindex[azure,bedrock,colbert,google]==1.0.5->ragstack-ai) (0.1.21)\n",
            "Requirement already satisfied: llama-index-multi-modal-llms-openai<0.2.0,>=0.1.3 in /usr/local/lib/python3.10/dist-packages (from llama-index==0.10.31->ragstack-ai-llamaindex[azure,bedrock,colbert,google]==1.0.5->ragstack-ai) (0.1.6)\n",
            "Requirement already satisfied: llama-index-program-openai<0.2.0,>=0.1.3 in /usr/local/lib/python3.10/dist-packages (from llama-index==0.10.31->ragstack-ai-llamaindex[azure,bedrock,colbert,google]==1.0.5->ragstack-ai) (0.1.6)\n",
            "Requirement already satisfied: llama-index-question-gen-openai<0.2.0,>=0.1.2 in /usr/local/lib/python3.10/dist-packages (from llama-index==0.10.31->ragstack-ai-llamaindex[azure,bedrock,colbert,google]==1.0.5->ragstack-ai) (0.1.3)\n",
            "Requirement already satisfied: llama-index-readers-file<0.2.0,>=0.1.4 in /usr/local/lib/python3.10/dist-packages (from llama-index==0.10.31->ragstack-ai-llamaindex[azure,bedrock,colbert,google]==1.0.5->ragstack-ai) (0.1.23)\n",
            "Requirement already satisfied: llama-index-readers-llama-parse<0.2.0,>=0.1.2 in /usr/local/lib/python3.10/dist-packages (from llama-index==0.10.31->ragstack-ai-llamaindex[azure,bedrock,colbert,google]==1.0.5->ragstack-ai) (0.1.4)\n",
            "Requirement already satisfied: boto3<2.0.0,>=1.34.23 in /usr/local/lib/python3.10/dist-packages (from llama-index-embeddings-bedrock==0.1.4->ragstack-ai-llamaindex[azure,bedrock,colbert,google]==1.0.5->ragstack-ai) (1.34.113)\n",
            "Requirement already satisfied: azure-identity<2.0.0,>=1.15.0 in /usr/local/lib/python3.10/dist-packages (from llama-index-llms-azure-openai==0.1.6->ragstack-ai-llamaindex[azure,bedrock,colbert,google]==1.0.5->ragstack-ai) (1.16.0)\n",
            "Requirement already satisfied: httpx in /usr/local/lib/python3.10/dist-packages (from llama-index-llms-azure-openai==0.1.6->ragstack-ai-llamaindex[azure,bedrock,colbert,google]==1.0.5->ragstack-ai) (0.27.0)\n",
            "Requirement already satisfied: llama-index-llms-anthropic<0.2.0,>=0.1.7 in /usr/local/lib/python3.10/dist-packages (from llama-index-llms-bedrock==0.1.7->ragstack-ai-llamaindex[azure,bedrock,colbert,google]==1.0.5->ragstack-ai) (0.1.11)\n",
            "Requirement already satisfied: filelock in /usr/local/lib/python3.10/dist-packages (from torch==2.2.1->ragstack-ai-colbert==1.0.5->ragstack-ai) (3.14.0)\n",
            "Requirement already satisfied: typing-extensions>=4.8.0 in /usr/local/lib/python3.10/dist-packages (from torch==2.2.1->ragstack-ai-colbert==1.0.5->ragstack-ai) (4.11.0)\n",
            "Requirement already satisfied: sympy in /usr/local/lib/python3.10/dist-packages (from torch==2.2.1->ragstack-ai-colbert==1.0.5->ragstack-ai) (1.12)\n",
            "Requirement already satisfied: networkx in /usr/local/lib/python3.10/dist-packages (from torch==2.2.1->ragstack-ai-colbert==1.0.5->ragstack-ai) (3.3)\n",
            "Requirement already satisfied: jinja2 in /usr/local/lib/python3.10/dist-packages (from torch==2.2.1->ragstack-ai-colbert==1.0.5->ragstack-ai) (3.1.4)\n",
            "Requirement already satisfied: fsspec in /usr/local/lib/python3.10/dist-packages (from torch==2.2.1->ragstack-ai-colbert==1.0.5->ragstack-ai) (2023.6.0)\n",
            "Requirement already satisfied: nvidia-cuda-nvrtc-cu12==12.1.105 in /usr/local/lib/python3.10/dist-packages (from torch==2.2.1->ragstack-ai-colbert==1.0.5->ragstack-ai) (12.1.105)\n",
            "Requirement already satisfied: nvidia-cuda-runtime-cu12==12.1.105 in /usr/local/lib/python3.10/dist-packages (from torch==2.2.1->ragstack-ai-colbert==1.0.5->ragstack-ai) (12.1.105)\n",
            "Requirement already satisfied: nvidia-cuda-cupti-cu12==12.1.105 in /usr/local/lib/python3.10/dist-packages (from torch==2.2.1->ragstack-ai-colbert==1.0.5->ragstack-ai) (12.1.105)\n",
            "Requirement already satisfied: nvidia-cudnn-cu12==8.9.2.26 in /usr/local/lib/python3.10/dist-packages (from torch==2.2.1->ragstack-ai-colbert==1.0.5->ragstack-ai) (8.9.2.26)\n",
            "Requirement already satisfied: nvidia-cublas-cu12==12.1.3.1 in /usr/local/lib/python3.10/dist-packages (from torch==2.2.1->ragstack-ai-colbert==1.0.5->ragstack-ai) (12.1.3.1)\n",
            "Requirement already satisfied: nvidia-cufft-cu12==11.0.2.54 in /usr/local/lib/python3.10/dist-packages (from torch==2.2.1->ragstack-ai-colbert==1.0.5->ragstack-ai) (11.0.2.54)\n",
            "Requirement already satisfied: nvidia-curand-cu12==10.3.2.106 in /usr/local/lib/python3.10/dist-packages (from torch==2.2.1->ragstack-ai-colbert==1.0.5->ragstack-ai) (10.3.2.106)\n",
            "Requirement already satisfied: nvidia-cusolver-cu12==11.4.5.107 in /usr/local/lib/python3.10/dist-packages (from torch==2.2.1->ragstack-ai-colbert==1.0.5->ragstack-ai) (11.4.5.107)\n",
            "Requirement already satisfied: nvidia-cusparse-cu12==12.1.0.106 in /usr/local/lib/python3.10/dist-packages (from torch==2.2.1->ragstack-ai-colbert==1.0.5->ragstack-ai) (12.1.0.106)\n",
            "Requirement already satisfied: nvidia-nccl-cu12==2.19.3 in /usr/local/lib/python3.10/dist-packages (from torch==2.2.1->ragstack-ai-colbert==1.0.5->ragstack-ai) (2.19.3)\n",
            "Requirement already satisfied: nvidia-nvtx-cu12==12.1.105 in /usr/local/lib/python3.10/dist-packages (from torch==2.2.1->ragstack-ai-colbert==1.0.5->ragstack-ai) (12.1.105)\n",
            "Requirement already satisfied: triton==2.2.0 in /usr/local/lib/python3.10/dist-packages (from torch==2.2.1->ragstack-ai-colbert==1.0.5->ragstack-ai) (2.2.0)\n",
            "Requirement already satisfied: chardet in /usr/local/lib/python3.10/dist-packages (from unstructured==0.14.2->ragstack-ai-langchain[colbert,google,nvidia]==1.0.6->ragstack-ai) (5.2.0)\n",
            "Requirement already satisfied: filetype in /usr/local/lib/python3.10/dist-packages (from unstructured==0.14.2->ragstack-ai-langchain[colbert,google,nvidia]==1.0.6->ragstack-ai) (1.2.0)\n",
            "Requirement already satisfied: python-magic in /usr/local/lib/python3.10/dist-packages (from unstructured==0.14.2->ragstack-ai-langchain[colbert,google,nvidia]==1.0.6->ragstack-ai) (0.4.27)\n",
            "Requirement already satisfied: lxml in /usr/local/lib/python3.10/dist-packages (from unstructured==0.14.2->ragstack-ai-langchain[colbert,google,nvidia]==1.0.6->ragstack-ai) (4.9.4)\n",
            "Requirement already satisfied: nltk in /usr/local/lib/python3.10/dist-packages (from unstructured==0.14.2->ragstack-ai-langchain[colbert,google,nvidia]==1.0.6->ragstack-ai) (3.8.1)\n",
            "Requirement already satisfied: tabulate in /usr/local/lib/python3.10/dist-packages (from unstructured==0.14.2->ragstack-ai-langchain[colbert,google,nvidia]==1.0.6->ragstack-ai) (0.9.0)\n",
            "Requirement already satisfied: beautifulsoup4 in /usr/local/lib/python3.10/dist-packages (from unstructured==0.14.2->ragstack-ai-langchain[colbert,google,nvidia]==1.0.6->ragstack-ai) (4.12.3)\n",
            "Requirement already satisfied: emoji in /usr/local/lib/python3.10/dist-packages (from unstructured==0.14.2->ragstack-ai-langchain[colbert,google,nvidia]==1.0.6->ragstack-ai) (2.12.1)\n",
            "Requirement already satisfied: python-iso639 in /usr/local/lib/python3.10/dist-packages (from unstructured==0.14.2->ragstack-ai-langchain[colbert,google,nvidia]==1.0.6->ragstack-ai) (2024.4.27)\n",
            "Requirement already satisfied: langdetect in /usr/local/lib/python3.10/dist-packages (from unstructured==0.14.2->ragstack-ai-langchain[colbert,google,nvidia]==1.0.6->ragstack-ai) (1.0.9)\n",
            "Requirement already satisfied: rapidfuzz in /usr/local/lib/python3.10/dist-packages (from unstructured==0.14.2->ragstack-ai-langchain[colbert,google,nvidia]==1.0.6->ragstack-ai) (3.9.1)\n",
            "Requirement already satisfied: backoff in /usr/local/lib/python3.10/dist-packages (from unstructured==0.14.2->ragstack-ai-langchain[colbert,google,nvidia]==1.0.6->ragstack-ai) (2.2.1)\n",
            "Requirement already satisfied: unstructured-client in /usr/local/lib/python3.10/dist-packages (from unstructured==0.14.2->ragstack-ai-langchain[colbert,google,nvidia]==1.0.6->ragstack-ai) (0.22.0)\n",
            "Requirement already satisfied: wrapt in /usr/local/lib/python3.10/dist-packages (from unstructured==0.14.2->ragstack-ai-langchain[colbert,google,nvidia]==1.0.6->ragstack-ai) (1.14.1)\n",
            "Requirement already satisfied: nvidia-nvjitlink-cu12 in /usr/local/lib/python3.10/dist-packages (from nvidia-cusolver-cu12==11.4.5.107->torch==2.2.1->ragstack-ai-colbert==1.0.5->ragstack-ai) (12.5.40)\n",
            "Requirement already satisfied: googleapis-common-protos<2.0.dev0,>=1.56.2 in /usr/local/lib/python3.10/dist-packages (from google-api-core[grpc]!=2.0.*,!=2.1.*,!=2.2.*,!=2.3.*,!=2.4.*,!=2.5.*,!=2.6.*,!=2.7.*,<3.0.0dev,>=1.34.1->google-cloud-aiplatform) (1.63.0)\n",
            "Requirement already satisfied: grpcio<2.0dev,>=1.33.2 in /usr/local/lib/python3.10/dist-packages (from google-api-core[grpc]!=2.0.*,!=2.1.*,!=2.2.*,!=2.3.*,!=2.4.*,!=2.5.*,!=2.6.*,!=2.7.*,<3.0.0dev,>=1.34.1->google-cloud-aiplatform) (1.64.0)\n",
            "Requirement already satisfied: grpcio-status<2.0.dev0,>=1.33.2 in /usr/local/lib/python3.10/dist-packages (from google-api-core[grpc]!=2.0.*,!=2.1.*,!=2.2.*,!=2.3.*,!=2.4.*,!=2.5.*,!=2.6.*,!=2.7.*,<3.0.0dev,>=1.34.1->google-cloud-aiplatform) (1.48.2)\n",
            "Requirement already satisfied: cachetools<6.0,>=2.0.0 in /usr/local/lib/python3.10/dist-packages (from google-auth<3.0.0dev,>=2.14.1->google-cloud-aiplatform) (5.3.3)\n",
            "Requirement already satisfied: pyasn1-modules>=0.2.1 in /usr/local/lib/python3.10/dist-packages (from google-auth<3.0.0dev,>=2.14.1->google-cloud-aiplatform) (0.4.0)\n",
            "Requirement already satisfied: rsa<5,>=3.1.4 in /usr/local/lib/python3.10/dist-packages (from google-auth<3.0.0dev,>=2.14.1->google-cloud-aiplatform) (4.9)\n",
            "Requirement already satisfied: google-cloud-core<3.0.0dev,>=1.6.0 in /usr/local/lib/python3.10/dist-packages (from google-cloud-bigquery!=3.20.0,<4.0.0dev,>=1.15.0->google-cloud-aiplatform) (2.3.3)\n",
            "Requirement already satisfied: google-resumable-media<3.0dev,>=0.6.0 in /usr/local/lib/python3.10/dist-packages (from google-cloud-bigquery!=3.20.0,<4.0.0dev,>=1.15.0->google-cloud-aiplatform) (2.7.0)\n",
            "Requirement already satisfied: python-dateutil<3.0dev,>=2.7.2 in /usr/local/lib/python3.10/dist-packages (from google-cloud-bigquery!=3.20.0,<4.0.0dev,>=1.15.0->google-cloud-aiplatform) (2.8.2)\n",
            "Requirement already satisfied: grpc-google-iam-v1<1.0.0dev,>=0.12.4 in /usr/local/lib/python3.10/dist-packages (from google-cloud-resource-manager<3.0.0dev,>=1.3.3->google-cloud-aiplatform) (0.13.0)\n",
            "Requirement already satisfied: google-crc32c<2.0dev,>=1.0 in /usr/local/lib/python3.10/dist-packages (from google-cloud-storage<3.0.0dev,>=1.32.0->google-cloud-aiplatform) (1.5.0)\n",
            "Requirement already satisfied: annotated-types>=0.4.0 in /usr/local/lib/python3.10/dist-packages (from pydantic<3->google-cloud-aiplatform) (0.7.0)\n",
            "Requirement already satisfied: pydantic-core==2.18.2 in /usr/local/lib/python3.10/dist-packages (from pydantic<3->google-cloud-aiplatform) (2.18.2)\n",
            "Requirement already satisfied: bson<0.6.0,>=0.5.10 in /usr/local/lib/python3.10/dist-packages (from astrapy<2,>=1->ragstack-ai-langchain[colbert,google,nvidia]==1.0.6->ragstack-ai) (0.5.10)\n",
            "Requirement already satisfied: deprecation<2.2.0,>=2.1.0 in /usr/local/lib/python3.10/dist-packages (from astrapy<2,>=1->ragstack-ai-langchain[colbert,google,nvidia]==1.0.6->ragstack-ai) (2.1.0)\n",
            "Requirement already satisfied: toml<0.11.0,>=0.10.2 in /usr/local/lib/python3.10/dist-packages (from astrapy<2,>=1->ragstack-ai-langchain[colbert,google,nvidia]==1.0.6->ragstack-ai) (0.10.2)\n",
            "Requirement already satisfied: uuid6<2024.2.0,>=2024.1.12 in /usr/local/lib/python3.10/dist-packages (from astrapy<2,>=1->ragstack-ai-langchain[colbert,google,nvidia]==1.0.6->ragstack-ai) (2024.1.12)\n",
            "Requirement already satisfied: cassandra-driver<4.0.0,>=3.28.0 in /usr/local/lib/python3.10/dist-packages (from cassio<0.2.0,>=0.1.7->ragstack-ai-colbert==1.0.5->ragstack-ai) (3.29.1)\n",
            "Requirement already satisfied: pycparser in /usr/local/lib/python3.10/dist-packages (from cffi<2.0.0,>=1.16.0->ragstack-ai-llamaindex[azure,bedrock,colbert,google]==1.0.5->ragstack-ai) (2.22)\n",
            "Requirement already satisfied: pyasn1<0.7.0,>=0.4.6 in /usr/local/lib/python3.10/dist-packages (from pyasn1-modules>=0.2.1->google-auth<3.0.0dev,>=2.14.1->google-cloud-aiplatform) (0.6.0)\n",
            "Requirement already satisfied: six>=1.5 in /usr/local/lib/python3.10/dist-packages (from python-dateutil<3.0dev,>=2.7.2->google-cloud-bigquery!=3.20.0,<4.0.0dev,>=1.15.0->google-cloud-aiplatform) (1.16.0)\n",
            "Requirement already satisfied: charset-normalizer<4,>=2 in /usr/local/lib/python3.10/dist-packages (from requests<3,>=2->langchain==0.1.19->ragstack-ai-langchain[colbert,google,nvidia]==1.0.6->ragstack-ai) (3.3.2)\n",
            "Requirement already satisfied: idna<4,>=2.5 in /usr/local/lib/python3.10/dist-packages (from requests<3,>=2->langchain==0.1.19->ragstack-ai-langchain[colbert,google,nvidia]==1.0.6->ragstack-ai) (3.7)\n",
            "Requirement already satisfied: urllib3<3,>=1.21.1 in /usr/local/lib/python3.10/dist-packages (from requests<3,>=2->langchain==0.1.19->ragstack-ai-langchain[colbert,google,nvidia]==1.0.6->ragstack-ai) (2.0.7)\n",
            "Requirement already satisfied: certifi>=2017.4.17 in /usr/local/lib/python3.10/dist-packages (from requests<3,>=2->langchain==0.1.19->ragstack-ai-langchain[colbert,google,nvidia]==1.0.6->ragstack-ai) (2024.2.2)\n",
            "Requirement already satisfied: aiosignal>=1.1.2 in /usr/local/lib/python3.10/dist-packages (from aiohttp<4.0.0,>=3.8.3->langchain==0.1.19->ragstack-ai-langchain[colbert,google,nvidia]==1.0.6->ragstack-ai) (1.3.1)\n",
            "Requirement already satisfied: attrs>=17.3.0 in /usr/local/lib/python3.10/dist-packages (from aiohttp<4.0.0,>=3.8.3->langchain==0.1.19->ragstack-ai-langchain[colbert,google,nvidia]==1.0.6->ragstack-ai) (23.2.0)\n",
            "Requirement already satisfied: frozenlist>=1.1.1 in /usr/local/lib/python3.10/dist-packages (from aiohttp<4.0.0,>=3.8.3->langchain==0.1.19->ragstack-ai-langchain[colbert,google,nvidia]==1.0.6->ragstack-ai) (1.4.1)\n",
            "Requirement already satisfied: multidict<7.0,>=4.5 in /usr/local/lib/python3.10/dist-packages (from aiohttp<4.0.0,>=3.8.3->langchain==0.1.19->ragstack-ai-langchain[colbert,google,nvidia]==1.0.6->ragstack-ai) (6.0.5)\n",
            "Requirement already satisfied: yarl<2.0,>=1.0 in /usr/local/lib/python3.10/dist-packages (from aiohttp<4.0.0,>=3.8.3->langchain==0.1.19->ragstack-ai-langchain[colbert,google,nvidia]==1.0.6->ragstack-ai) (1.9.4)\n",
            "Requirement already satisfied: azure-core>=1.23.0 in /usr/local/lib/python3.10/dist-packages (from azure-identity<2.0.0,>=1.15.0->llama-index-llms-azure-openai==0.1.6->ragstack-ai-llamaindex[azure,bedrock,colbert,google]==1.0.5->ragstack-ai) (1.30.1)\n",
            "Requirement already satisfied: cryptography>=2.5 in /usr/local/lib/python3.10/dist-packages (from azure-identity<2.0.0,>=1.15.0->llama-index-llms-azure-openai==0.1.6->ragstack-ai-llamaindex[azure,bedrock,colbert,google]==1.0.5->ragstack-ai) (42.0.7)\n",
            "Requirement already satisfied: msal>=1.24.0 in /usr/local/lib/python3.10/dist-packages (from azure-identity<2.0.0,>=1.15.0->llama-index-llms-azure-openai==0.1.6->ragstack-ai-llamaindex[azure,bedrock,colbert,google]==1.0.5->ragstack-ai) (1.28.0)\n",
            "Requirement already satisfied: msal-extensions>=0.3.0 in /usr/local/lib/python3.10/dist-packages (from azure-identity<2.0.0,>=1.15.0->llama-index-llms-azure-openai==0.1.6->ragstack-ai-llamaindex[azure,bedrock,colbert,google]==1.0.5->ragstack-ai) (1.1.0)\n",
            "Requirement already satisfied: botocore<1.35.0,>=1.34.113 in /usr/local/lib/python3.10/dist-packages (from boto3<2.0.0,>=1.34.23->llama-index-embeddings-bedrock==0.1.4->ragstack-ai-llamaindex[azure,bedrock,colbert,google]==1.0.5->ragstack-ai) (1.34.113)\n",
            "Requirement already satisfied: jmespath<2.0.0,>=0.7.1 in /usr/local/lib/python3.10/dist-packages (from boto3<2.0.0,>=1.34.23->llama-index-embeddings-bedrock==0.1.4->ragstack-ai-llamaindex[azure,bedrock,colbert,google]==1.0.5->ragstack-ai) (1.0.1)\n",
            "Requirement already satisfied: s3transfer<0.11.0,>=0.10.0 in /usr/local/lib/python3.10/dist-packages (from boto3<2.0.0,>=1.34.23->llama-index-embeddings-bedrock==0.1.4->ragstack-ai-llamaindex[azure,bedrock,colbert,google]==1.0.5->ragstack-ai) (0.10.1)\n",
            "Requirement already satisfied: geomet<0.3,>=0.1 in /usr/local/lib/python3.10/dist-packages (from cassandra-driver<4.0.0,>=3.28.0->cassio<0.2.0,>=0.1.7->ragstack-ai-colbert==1.0.5->ragstack-ai) (0.2.1.post1)\n",
            "Requirement already satisfied: marshmallow<4.0.0,>=3.18.0 in /usr/local/lib/python3.10/dist-packages (from dataclasses-json<0.7,>=0.5.7->langchain==0.1.19->ragstack-ai-langchain[colbert,google,nvidia]==1.0.6->ragstack-ai) (3.21.2)\n",
            "Requirement already satisfied: typing-inspect<1,>=0.4.0 in /usr/local/lib/python3.10/dist-packages (from dataclasses-json<0.7,>=0.5.7->langchain==0.1.19->ragstack-ai-langchain[colbert,google,nvidia]==1.0.6->ragstack-ai) (0.9.0)\n",
            "Requirement already satisfied: google-ai-generativelanguage==0.4.0 in /usr/local/lib/python3.10/dist-packages (from google-generativeai<0.5.0,>=0.4.1->langchain-google-genai==0.0.11->ragstack-ai-langchain[colbert,google,nvidia]==1.0.6->ragstack-ai) (0.4.0)\n",
            "Requirement already satisfied: anyio in /usr/local/lib/python3.10/dist-packages (from httpx->llama-index-llms-azure-openai==0.1.6->ragstack-ai-llamaindex[azure,bedrock,colbert,google]==1.0.5->ragstack-ai) (3.7.1)\n",
            "Requirement already satisfied: httpcore==1.* in /usr/local/lib/python3.10/dist-packages (from httpx->llama-index-llms-azure-openai==0.1.6->ragstack-ai-llamaindex[azure,bedrock,colbert,google]==1.0.5->ragstack-ai) (1.0.5)\n",
            "Requirement already satisfied: sniffio in /usr/local/lib/python3.10/dist-packages (from httpx->llama-index-llms-azure-openai==0.1.6->ragstack-ai-llamaindex[azure,bedrock,colbert,google]==1.0.5->ragstack-ai) (1.3.1)\n",
            "Requirement already satisfied: h2<5,>=3 in /usr/local/lib/python3.10/dist-packages (from httpx->llama-index-llms-azure-openai==0.1.6->ragstack-ai-llamaindex[azure,bedrock,colbert,google]==1.0.5->ragstack-ai) (4.1.0)\n",
            "Requirement already satisfied: h11<0.15,>=0.13 in /usr/local/lib/python3.10/dist-packages (from httpcore==1.*->httpx->llama-index-llms-azure-openai==0.1.6->ragstack-ai-llamaindex[azure,bedrock,colbert,google]==1.0.5->ragstack-ai) (0.14.0)\n",
            "Requirement already satisfied: jsonpointer>=1.9 in /usr/local/lib/python3.10/dist-packages (from jsonpatch<2.0,>=1.33->langchain-core==0.1.52->ragstack-ai-langchain[colbert,google,nvidia]==1.0.6->ragstack-ai) (2.4)\n",
            "Requirement already satisfied: orjson<4.0.0,>=3.9.14 in /usr/local/lib/python3.10/dist-packages (from langsmith<0.2.0,>=0.1.17->langchain==0.1.19->ragstack-ai-langchain[colbert,google,nvidia]==1.0.6->ragstack-ai) (3.10.3)\n",
            "Requirement already satisfied: deprecated>=1.2.9.3 in /usr/local/lib/python3.10/dist-packages (from llama-index-core<0.11.0,>=0.10.31->llama-index==0.10.31->ragstack-ai-llamaindex[azure,bedrock,colbert,google]==1.0.5->ragstack-ai) (1.2.14)\n",
            "Requirement already satisfied: dirtyjson<2.0.0,>=1.0.8 in /usr/local/lib/python3.10/dist-packages (from llama-index-core<0.11.0,>=0.10.31->llama-index==0.10.31->ragstack-ai-llamaindex[azure,bedrock,colbert,google]==1.0.5->ragstack-ai) (1.0.8)\n",
            "Requirement already satisfied: llamaindex-py-client<0.2.0,>=0.1.18 in /usr/local/lib/python3.10/dist-packages (from llama-index-core<0.11.0,>=0.10.31->llama-index==0.10.31->ragstack-ai-llamaindex[azure,bedrock,colbert,google]==1.0.5->ragstack-ai) (0.1.19)\n",
            "Requirement already satisfied: nest-asyncio<2.0.0,>=1.5.8 in /usr/local/lib/python3.10/dist-packages (from llama-index-core<0.11.0,>=0.10.31->llama-index==0.10.31->ragstack-ai-llamaindex[azure,bedrock,colbert,google]==1.0.5->ragstack-ai) (1.6.0)\n",
            "Requirement already satisfied: pandas in /usr/local/lib/python3.10/dist-packages (from llama-index-core<0.11.0,>=0.10.31->llama-index==0.10.31->ragstack-ai-llamaindex[azure,bedrock,colbert,google]==1.0.5->ragstack-ai) (2.0.3)\n",
            "Requirement already satisfied: anthropic<0.24.0,>=0.23.1 in /usr/local/lib/python3.10/dist-packages (from llama-index-llms-anthropic<0.2.0,>=0.1.7->llama-index-llms-bedrock==0.1.7->ragstack-ai-llamaindex[azure,bedrock,colbert,google]==1.0.5->ragstack-ai) (0.23.1)\n",
            "Requirement already satisfied: pypdf<5.0.0,>=4.0.1 in /usr/local/lib/python3.10/dist-packages (from llama-index-readers-file<0.2.0,>=0.1.4->llama-index==0.10.31->ragstack-ai-llamaindex[azure,bedrock,colbert,google]==1.0.5->ragstack-ai) (4.2.0)\n",
            "Requirement already satisfied: striprtf<0.0.27,>=0.0.26 in /usr/local/lib/python3.10/dist-packages (from llama-index-readers-file<0.2.0,>=0.1.4->llama-index==0.10.31->ragstack-ai-llamaindex[azure,bedrock,colbert,google]==1.0.5->ragstack-ai) (0.0.26)\n",
            "Requirement already satisfied: soupsieve>1.2 in /usr/local/lib/python3.10/dist-packages (from beautifulsoup4->unstructured==0.14.2->ragstack-ai-langchain[colbert,google,nvidia]==1.0.6->ragstack-ai) (2.5)\n",
            "Requirement already satisfied: click in /usr/local/lib/python3.10/dist-packages (from nltk->unstructured==0.14.2->ragstack-ai-langchain[colbert,google,nvidia]==1.0.6->ragstack-ai) (8.1.7)\n",
            "Requirement already satisfied: joblib in /usr/local/lib/python3.10/dist-packages (from nltk->unstructured==0.14.2->ragstack-ai-langchain[colbert,google,nvidia]==1.0.6->ragstack-ai) (1.4.2)\n",
            "Requirement already satisfied: regex>=2021.8.3 in /usr/local/lib/python3.10/dist-packages (from nltk->unstructured==0.14.2->ragstack-ai-langchain[colbert,google,nvidia]==1.0.6->ragstack-ai) (2023.12.25)\n",
            "Requirement already satisfied: distro<2,>=1.7.0 in /usr/lib/python3/dist-packages (from openai<2.0.0,>=1.10.0->langchain-openai==0.1.3->ragstack-ai-langchain[colbert,google,nvidia]==1.0.6->ragstack-ai) (1.7.0)\n",
            "Requirement already satisfied: greenlet!=0.4.17 in /usr/local/lib/python3.10/dist-packages (from SQLAlchemy<3,>=1.4->langchain==0.1.19->ragstack-ai-langchain[colbert,google,nvidia]==1.0.6->ragstack-ai) (3.0.3)\n",
            "Requirement already satisfied: pyarrow-hotfix in /usr/local/lib/python3.10/dist-packages (from datasets->colbert-ai==0.2.19->ragstack-ai-colbert==1.0.5->ragstack-ai) (0.6)\n",
            "Requirement already satisfied: dill<0.3.9,>=0.3.0 in /usr/local/lib/python3.10/dist-packages (from datasets->colbert-ai==0.2.19->ragstack-ai-colbert==1.0.5->ragstack-ai) (0.3.8)\n",
            "Requirement already satisfied: xxhash in /usr/local/lib/python3.10/dist-packages (from datasets->colbert-ai==0.2.19->ragstack-ai-colbert==1.0.5->ragstack-ai) (3.4.1)\n",
            "Requirement already satisfied: multiprocess in /usr/local/lib/python3.10/dist-packages (from datasets->colbert-ai==0.2.19->ragstack-ai-colbert==1.0.5->ragstack-ai) (0.70.16)\n",
            "Requirement already satisfied: huggingface-hub>=0.21.2 in /usr/local/lib/python3.10/dist-packages (from datasets->colbert-ai==0.2.19->ragstack-ai-colbert==1.0.5->ragstack-ai) (0.23.1)\n",
            "Requirement already satisfied: Werkzeug>=2.2.2 in /usr/local/lib/python3.10/dist-packages (from flask->colbert-ai==0.2.19->ragstack-ai-colbert==1.0.5->ragstack-ai) (3.0.3)\n",
            "Requirement already satisfied: itsdangerous>=2.0 in /usr/local/lib/python3.10/dist-packages (from flask->colbert-ai==0.2.19->ragstack-ai-colbert==1.0.5->ragstack-ai) (2.2.0)\n",
            "Requirement already satisfied: MarkupSafe>=2.0 in /usr/local/lib/python3.10/dist-packages (from jinja2->torch==2.2.1->ragstack-ai-colbert==1.0.5->ragstack-ai) (2.1.5)\n",
            "Requirement already satisfied: gitpython in /usr/local/lib/python3.10/dist-packages (from git-python->colbert-ai==0.2.19->ragstack-ai-colbert==1.0.5->ragstack-ai) (3.1.43)\n",
            "Requirement already satisfied: mpmath>=0.19 in /usr/local/lib/python3.10/dist-packages (from sympy->torch==2.2.1->ragstack-ai-colbert==1.0.5->ragstack-ai) (1.3.0)\n",
            "Requirement already satisfied: tokenizers<0.20,>=0.19 in /usr/local/lib/python3.10/dist-packages (from transformers->colbert-ai==0.2.19->ragstack-ai-colbert==1.0.5->ragstack-ai) (0.19.1)\n",
            "Requirement already satisfied: safetensors>=0.4.1 in /usr/local/lib/python3.10/dist-packages (from transformers->colbert-ai==0.2.19->ragstack-ai-colbert==1.0.5->ragstack-ai) (0.4.3)\n",
            "Requirement already satisfied: deepdiff>=6.0 in /usr/local/lib/python3.10/dist-packages (from unstructured-client->unstructured==0.14.2->ragstack-ai-langchain[colbert,google,nvidia]==1.0.6->ragstack-ai) (7.0.1)\n",
            "Requirement already satisfied: jsonpath-python>=1.0.6 in /usr/local/lib/python3.10/dist-packages (from unstructured-client->unstructured==0.14.2->ragstack-ai-langchain[colbert,google,nvidia]==1.0.6->ragstack-ai) (1.0.6)\n",
            "Requirement already satisfied: mypy-extensions>=1.0.0 in /usr/local/lib/python3.10/dist-packages (from unstructured-client->unstructured==0.14.2->ragstack-ai-langchain[colbert,google,nvidia]==1.0.6->ragstack-ai) (1.0.0)\n",
            "Requirement already satisfied: exceptiongroup in /usr/local/lib/python3.10/dist-packages (from anyio->httpx->llama-index-llms-azure-openai==0.1.6->ragstack-ai-llamaindex[azure,bedrock,colbert,google]==1.0.5->ragstack-ai) (1.2.1)\n",
            "Requirement already satisfied: ordered-set<4.2.0,>=4.1.0 in /usr/local/lib/python3.10/dist-packages (from deepdiff>=6.0->unstructured-client->unstructured==0.14.2->ragstack-ai-langchain[colbert,google,nvidia]==1.0.6->ragstack-ai) (4.1.0)\n",
            "Requirement already satisfied: hyperframe<7,>=6.0 in /usr/local/lib/python3.10/dist-packages (from h2<5,>=3->httpx->llama-index-llms-azure-openai==0.1.6->ragstack-ai-llamaindex[azure,bedrock,colbert,google]==1.0.5->ragstack-ai) (6.0.1)\n",
            "Requirement already satisfied: hpack<5,>=4.0 in /usr/local/lib/python3.10/dist-packages (from h2<5,>=3->httpx->llama-index-llms-azure-openai==0.1.6->ragstack-ai-llamaindex[azure,bedrock,colbert,google]==1.0.5->ragstack-ai) (4.0.0)\n",
            "Requirement already satisfied: PyJWT[crypto]<3,>=1.0.0 in /usr/lib/python3/dist-packages (from msal>=1.24.0->azure-identity<2.0.0,>=1.15.0->llama-index-llms-azure-openai==0.1.6->ragstack-ai-llamaindex[azure,bedrock,colbert,google]==1.0.5->ragstack-ai) (2.3.0)\n",
            "Requirement already satisfied: portalocker<3,>=1.0 in /usr/local/lib/python3.10/dist-packages (from msal-extensions>=0.3.0->azure-identity<2.0.0,>=1.15.0->llama-index-llms-azure-openai==0.1.6->ragstack-ai-llamaindex[azure,bedrock,colbert,google]==1.0.5->ragstack-ai) (2.8.2)\n",
            "Requirement already satisfied: gitdb<5,>=4.0.1 in /usr/local/lib/python3.10/dist-packages (from gitpython->git-python->colbert-ai==0.2.19->ragstack-ai-colbert==1.0.5->ragstack-ai) (4.0.11)\n",
            "Requirement already satisfied: pytz>=2020.1 in /usr/local/lib/python3.10/dist-packages (from pandas->llama-index-core<0.11.0,>=0.10.31->llama-index==0.10.31->ragstack-ai-llamaindex[azure,bedrock,colbert,google]==1.0.5->ragstack-ai) (2023.4)\n",
            "Requirement already satisfied: tzdata>=2022.1 in /usr/local/lib/python3.10/dist-packages (from pandas->llama-index-core<0.11.0,>=0.10.31->llama-index==0.10.31->ragstack-ai-llamaindex[azure,bedrock,colbert,google]==1.0.5->ragstack-ai) (2024.1)\n",
            "Requirement already satisfied: smmap<6,>=3.0.1 in /usr/local/lib/python3.10/dist-packages (from gitdb<5,>=4.0.1->gitpython->git-python->colbert-ai==0.2.19->ragstack-ai-colbert==1.0.5->ragstack-ai) (5.0.1)\n"
          ]
        }
      ],
      "source": [
        "!pip install google-cloud-aiplatform ragstack-ai --upgrade\n"
      ]
    },
    {
      "cell_type": "code",
      "source": [
        "import pandas as pd\n",
        "import numpy as np\n",
        "import getpass, os, requests, sys, json, vertexai"
      ],
      "metadata": {
        "id": "6vEEvCyvlRsi"
      },
      "execution_count": 56,
      "outputs": []
    },
    {
      "cell_type": "code",
      "source": [
        "credential_names = [\"GCP_PROJECT_ID\", \"ASTRA_DB_ENDPOINT\", \"ASTRA_DB_TOKEN\",\"HF_TOKEN\"]\n",
        "for credential in credential_names:\n",
        "  if credential not in os.environ:\n",
        "    os.environ[credential]=getpass.getpass(\"Provide your...\" + credential)"
      ],
      "metadata": {
        "id": "-_ORfnw4lR11"
      },
      "execution_count": 57,
      "outputs": []
    },
    {
      "cell_type": "code",
      "source": [
        "from google.colab import userdata, auth, files, drive\n",
        "from google.cloud import aiplatform\n",
        "\n",
        "!gcloud config set project {os.environ[\"GCP_PROJECT_ID\"]}\n",
        "auth.authenticate_user()\n"
      ],
      "metadata": {
        "id": "aaMolY99lSBu",
        "colab": {
          "base_uri": "https://localhost:8080/"
        },
        "outputId": "cd33f6a5-b34c-4f27-b202-9bbe1c1617f8"
      },
      "execution_count": 58,
      "outputs": [
        {
          "output_type": "stream",
          "name": "stdout",
          "text": [
            "Updated property [core/project].\n"
          ]
        }
      ]
    },
    {
      "cell_type": "code",
      "source": [
        "from datasets import load_dataset\n",
        "dataset = load_dataset(\"vkrisvasan/zara_embedding\",split='train')\n"
      ],
      "metadata": {
        "id": "OUtpPyXInng4"
      },
      "execution_count": 59,
      "outputs": []
    },
    {
      "cell_type": "code",
      "source": [
        "df = pd.DataFrame.from_dict(dataset)"
      ],
      "metadata": {
        "id": "C5exD2373CDJ"
      },
      "execution_count": 60,
      "outputs": []
    },
    {
      "cell_type": "code",
      "source": [
        "df['embeddings1'] = None"
      ],
      "metadata": {
        "id": "7t71fEW03ERT"
      },
      "execution_count": 61,
      "outputs": []
    },
    {
      "cell_type": "code",
      "source": [
        "df.shape"
      ],
      "metadata": {
        "colab": {
          "base_uri": "https://localhost:8080/"
        },
        "id": "e8YccndqRGtW",
        "outputId": "860a3522-bd5c-4555-c651-2dba403fa115"
      },
      "execution_count": 62,
      "outputs": [
        {
          "output_type": "execute_result",
          "data": {
            "text/plain": [
              "(936, 9)"
            ]
          },
          "metadata": {},
          "execution_count": 62
        }
      ]
    },
    {
      "cell_type": "code",
      "source": [
        "df.head(2)"
      ],
      "metadata": {
        "colab": {
          "base_uri": "https://localhost:8080/",
          "height": 216
        },
        "id": "EuUqUGb21Zzk",
        "outputId": "999cdd94-6587-4b35-a094-742a018468f2"
      },
      "execution_count": 63,
      "outputs": [
        {
          "output_type": "execute_result",
          "data": {
            "text/plain": [
              "      product_name                                               link  \\\n",
              "0  WORKOUT T-SHIRT  https://www.zara.com/in/en/workout-t-shirt-p05...   \n",
              "1  SPORTS BACKPACK  https://www.zara.com/in/en/sports-backpack-p13...   \n",
              "\n",
              "                                      product_images  price  \\\n",
              "0  https://static.zara.net/photos///2023/I/0/2/p/...  32.06   \n",
              "1  https://static.zara.net/photos///2023/I/1/2/p/...  64.26   \n",
              "\n",
              "                                             details    category gender  \\\n",
              "0  T-shirt made of lightweight textured stretch f...  ACTIVEWEAR    men   \n",
              "1  Multi-pocket backpack. Combination of material...  ACTIVEWEAR    men   \n",
              "\n",
              "                                          embeddings embeddings1  \n",
              "0  [0.00584839704, 0.00366304931, 0.0416106768, 0...        None  \n",
              "1  [0.00701390672, 0.00680825347, 0.0142998686, 0...        None  "
            ],
            "text/html": [
              "\n",
              "  <div id=\"df-cd47ce34-3f96-4fdf-aa81-eab8f6afca0f\" class=\"colab-df-container\">\n",
              "    <div>\n",
              "<style scoped>\n",
              "    .dataframe tbody tr th:only-of-type {\n",
              "        vertical-align: middle;\n",
              "    }\n",
              "\n",
              "    .dataframe tbody tr th {\n",
              "        vertical-align: top;\n",
              "    }\n",
              "\n",
              "    .dataframe thead th {\n",
              "        text-align: right;\n",
              "    }\n",
              "</style>\n",
              "<table border=\"1\" class=\"dataframe\">\n",
              "  <thead>\n",
              "    <tr style=\"text-align: right;\">\n",
              "      <th></th>\n",
              "      <th>product_name</th>\n",
              "      <th>link</th>\n",
              "      <th>product_images</th>\n",
              "      <th>price</th>\n",
              "      <th>details</th>\n",
              "      <th>category</th>\n",
              "      <th>gender</th>\n",
              "      <th>embeddings</th>\n",
              "      <th>embeddings1</th>\n",
              "    </tr>\n",
              "  </thead>\n",
              "  <tbody>\n",
              "    <tr>\n",
              "      <th>0</th>\n",
              "      <td>WORKOUT T-SHIRT</td>\n",
              "      <td>https://www.zara.com/in/en/workout-t-shirt-p05...</td>\n",
              "      <td>https://static.zara.net/photos///2023/I/0/2/p/...</td>\n",
              "      <td>32.06</td>\n",
              "      <td>T-shirt made of lightweight textured stretch f...</td>\n",
              "      <td>ACTIVEWEAR</td>\n",
              "      <td>men</td>\n",
              "      <td>[0.00584839704, 0.00366304931, 0.0416106768, 0...</td>\n",
              "      <td>None</td>\n",
              "    </tr>\n",
              "    <tr>\n",
              "      <th>1</th>\n",
              "      <td>SPORTS BACKPACK</td>\n",
              "      <td>https://www.zara.com/in/en/sports-backpack-p13...</td>\n",
              "      <td>https://static.zara.net/photos///2023/I/1/2/p/...</td>\n",
              "      <td>64.26</td>\n",
              "      <td>Multi-pocket backpack. Combination of material...</td>\n",
              "      <td>ACTIVEWEAR</td>\n",
              "      <td>men</td>\n",
              "      <td>[0.00701390672, 0.00680825347, 0.0142998686, 0...</td>\n",
              "      <td>None</td>\n",
              "    </tr>\n",
              "  </tbody>\n",
              "</table>\n",
              "</div>\n",
              "    <div class=\"colab-df-buttons\">\n",
              "\n",
              "  <div class=\"colab-df-container\">\n",
              "    <button class=\"colab-df-convert\" onclick=\"convertToInteractive('df-cd47ce34-3f96-4fdf-aa81-eab8f6afca0f')\"\n",
              "            title=\"Convert this dataframe to an interactive table.\"\n",
              "            style=\"display:none;\">\n",
              "\n",
              "  <svg xmlns=\"http://www.w3.org/2000/svg\" height=\"24px\" viewBox=\"0 -960 960 960\">\n",
              "    <path d=\"M120-120v-720h720v720H120Zm60-500h600v-160H180v160Zm220 220h160v-160H400v160Zm0 220h160v-160H400v160ZM180-400h160v-160H180v160Zm440 0h160v-160H620v160ZM180-180h160v-160H180v160Zm440 0h160v-160H620v160Z\"/>\n",
              "  </svg>\n",
              "    </button>\n",
              "\n",
              "  <style>\n",
              "    .colab-df-container {\n",
              "      display:flex;\n",
              "      gap: 12px;\n",
              "    }\n",
              "\n",
              "    .colab-df-convert {\n",
              "      background-color: #E8F0FE;\n",
              "      border: none;\n",
              "      border-radius: 50%;\n",
              "      cursor: pointer;\n",
              "      display: none;\n",
              "      fill: #1967D2;\n",
              "      height: 32px;\n",
              "      padding: 0 0 0 0;\n",
              "      width: 32px;\n",
              "    }\n",
              "\n",
              "    .colab-df-convert:hover {\n",
              "      background-color: #E2EBFA;\n",
              "      box-shadow: 0px 1px 2px rgba(60, 64, 67, 0.3), 0px 1px 3px 1px rgba(60, 64, 67, 0.15);\n",
              "      fill: #174EA6;\n",
              "    }\n",
              "\n",
              "    .colab-df-buttons div {\n",
              "      margin-bottom: 4px;\n",
              "    }\n",
              "\n",
              "    [theme=dark] .colab-df-convert {\n",
              "      background-color: #3B4455;\n",
              "      fill: #D2E3FC;\n",
              "    }\n",
              "\n",
              "    [theme=dark] .colab-df-convert:hover {\n",
              "      background-color: #434B5C;\n",
              "      box-shadow: 0px 1px 3px 1px rgba(0, 0, 0, 0.15);\n",
              "      filter: drop-shadow(0px 1px 2px rgba(0, 0, 0, 0.3));\n",
              "      fill: #FFFFFF;\n",
              "    }\n",
              "  </style>\n",
              "\n",
              "    <script>\n",
              "      const buttonEl =\n",
              "        document.querySelector('#df-cd47ce34-3f96-4fdf-aa81-eab8f6afca0f button.colab-df-convert');\n",
              "      buttonEl.style.display =\n",
              "        google.colab.kernel.accessAllowed ? 'block' : 'none';\n",
              "\n",
              "      async function convertToInteractive(key) {\n",
              "        const element = document.querySelector('#df-cd47ce34-3f96-4fdf-aa81-eab8f6afca0f');\n",
              "        const dataTable =\n",
              "          await google.colab.kernel.invokeFunction('convertToInteractive',\n",
              "                                                    [key], {});\n",
              "        if (!dataTable) return;\n",
              "\n",
              "        const docLinkHtml = 'Like what you see? Visit the ' +\n",
              "          '<a target=\"_blank\" href=https://colab.research.google.com/notebooks/data_table.ipynb>data table notebook</a>'\n",
              "          + ' to learn more about interactive tables.';\n",
              "        element.innerHTML = '';\n",
              "        dataTable['output_type'] = 'display_data';\n",
              "        await google.colab.output.renderOutput(dataTable, element);\n",
              "        const docLink = document.createElement('div');\n",
              "        docLink.innerHTML = docLinkHtml;\n",
              "        element.appendChild(docLink);\n",
              "      }\n",
              "    </script>\n",
              "  </div>\n",
              "\n",
              "\n",
              "<div id=\"df-e999dc50-c85b-43e9-a9fc-ecc0e05ce7ec\">\n",
              "  <button class=\"colab-df-quickchart\" onclick=\"quickchart('df-e999dc50-c85b-43e9-a9fc-ecc0e05ce7ec')\"\n",
              "            title=\"Suggest charts\"\n",
              "            style=\"display:none;\">\n",
              "\n",
              "<svg xmlns=\"http://www.w3.org/2000/svg\" height=\"24px\"viewBox=\"0 0 24 24\"\n",
              "     width=\"24px\">\n",
              "    <g>\n",
              "        <path d=\"M19 3H5c-1.1 0-2 .9-2 2v14c0 1.1.9 2 2 2h14c1.1 0 2-.9 2-2V5c0-1.1-.9-2-2-2zM9 17H7v-7h2v7zm4 0h-2V7h2v10zm4 0h-2v-4h2v4z\"/>\n",
              "    </g>\n",
              "</svg>\n",
              "  </button>\n",
              "\n",
              "<style>\n",
              "  .colab-df-quickchart {\n",
              "      --bg-color: #E8F0FE;\n",
              "      --fill-color: #1967D2;\n",
              "      --hover-bg-color: #E2EBFA;\n",
              "      --hover-fill-color: #174EA6;\n",
              "      --disabled-fill-color: #AAA;\n",
              "      --disabled-bg-color: #DDD;\n",
              "  }\n",
              "\n",
              "  [theme=dark] .colab-df-quickchart {\n",
              "      --bg-color: #3B4455;\n",
              "      --fill-color: #D2E3FC;\n",
              "      --hover-bg-color: #434B5C;\n",
              "      --hover-fill-color: #FFFFFF;\n",
              "      --disabled-bg-color: #3B4455;\n",
              "      --disabled-fill-color: #666;\n",
              "  }\n",
              "\n",
              "  .colab-df-quickchart {\n",
              "    background-color: var(--bg-color);\n",
              "    border: none;\n",
              "    border-radius: 50%;\n",
              "    cursor: pointer;\n",
              "    display: none;\n",
              "    fill: var(--fill-color);\n",
              "    height: 32px;\n",
              "    padding: 0;\n",
              "    width: 32px;\n",
              "  }\n",
              "\n",
              "  .colab-df-quickchart:hover {\n",
              "    background-color: var(--hover-bg-color);\n",
              "    box-shadow: 0 1px 2px rgba(60, 64, 67, 0.3), 0 1px 3px 1px rgba(60, 64, 67, 0.15);\n",
              "    fill: var(--button-hover-fill-color);\n",
              "  }\n",
              "\n",
              "  .colab-df-quickchart-complete:disabled,\n",
              "  .colab-df-quickchart-complete:disabled:hover {\n",
              "    background-color: var(--disabled-bg-color);\n",
              "    fill: var(--disabled-fill-color);\n",
              "    box-shadow: none;\n",
              "  }\n",
              "\n",
              "  .colab-df-spinner {\n",
              "    border: 2px solid var(--fill-color);\n",
              "    border-color: transparent;\n",
              "    border-bottom-color: var(--fill-color);\n",
              "    animation:\n",
              "      spin 1s steps(1) infinite;\n",
              "  }\n",
              "\n",
              "  @keyframes spin {\n",
              "    0% {\n",
              "      border-color: transparent;\n",
              "      border-bottom-color: var(--fill-color);\n",
              "      border-left-color: var(--fill-color);\n",
              "    }\n",
              "    20% {\n",
              "      border-color: transparent;\n",
              "      border-left-color: var(--fill-color);\n",
              "      border-top-color: var(--fill-color);\n",
              "    }\n",
              "    30% {\n",
              "      border-color: transparent;\n",
              "      border-left-color: var(--fill-color);\n",
              "      border-top-color: var(--fill-color);\n",
              "      border-right-color: var(--fill-color);\n",
              "    }\n",
              "    40% {\n",
              "      border-color: transparent;\n",
              "      border-right-color: var(--fill-color);\n",
              "      border-top-color: var(--fill-color);\n",
              "    }\n",
              "    60% {\n",
              "      border-color: transparent;\n",
              "      border-right-color: var(--fill-color);\n",
              "    }\n",
              "    80% {\n",
              "      border-color: transparent;\n",
              "      border-right-color: var(--fill-color);\n",
              "      border-bottom-color: var(--fill-color);\n",
              "    }\n",
              "    90% {\n",
              "      border-color: transparent;\n",
              "      border-bottom-color: var(--fill-color);\n",
              "    }\n",
              "  }\n",
              "</style>\n",
              "\n",
              "  <script>\n",
              "    async function quickchart(key) {\n",
              "      const quickchartButtonEl =\n",
              "        document.querySelector('#' + key + ' button');\n",
              "      quickchartButtonEl.disabled = true;  // To prevent multiple clicks.\n",
              "      quickchartButtonEl.classList.add('colab-df-spinner');\n",
              "      try {\n",
              "        const charts = await google.colab.kernel.invokeFunction(\n",
              "            'suggestCharts', [key], {});\n",
              "      } catch (error) {\n",
              "        console.error('Error during call to suggestCharts:', error);\n",
              "      }\n",
              "      quickchartButtonEl.classList.remove('colab-df-spinner');\n",
              "      quickchartButtonEl.classList.add('colab-df-quickchart-complete');\n",
              "    }\n",
              "    (() => {\n",
              "      let quickchartButtonEl =\n",
              "        document.querySelector('#df-e999dc50-c85b-43e9-a9fc-ecc0e05ce7ec button');\n",
              "      quickchartButtonEl.style.display =\n",
              "        google.colab.kernel.accessAllowed ? 'block' : 'none';\n",
              "    })();\n",
              "  </script>\n",
              "</div>\n",
              "\n",
              "    </div>\n",
              "  </div>\n"
            ],
            "application/vnd.google.colaboratory.intrinsic+json": {
              "type": "dataframe",
              "variable_name": "df",
              "repr_error": "Out of range float values are not JSON compliant: nan"
            }
          },
          "metadata": {},
          "execution_count": 63
        }
      ]
    },
    {
      "cell_type": "code",
      "source": [
        "df.dtypes"
      ],
      "metadata": {
        "colab": {
          "base_uri": "https://localhost:8080/"
        },
        "id": "F52eSt9z3o3P",
        "outputId": "5ed1706f-1654-4218-ab8e-f4803e134429"
      },
      "execution_count": 64,
      "outputs": [
        {
          "output_type": "execute_result",
          "data": {
            "text/plain": [
              "product_name       object\n",
              "link               object\n",
              "product_images     object\n",
              "price             float64\n",
              "details            object\n",
              "category           object\n",
              "gender             object\n",
              "embeddings         object\n",
              "embeddings1        object\n",
              "dtype: object"
            ]
          },
          "metadata": {},
          "execution_count": 64
        }
      ]
    },
    {
      "cell_type": "code",
      "source": [
        "import io\n",
        "from vertexai.preview.vision_models import MultiModalEmbeddingModel, Image\n",
        "vertexai.init(project=os.getenv(\"GCP_PROJECT_ID\"))\n",
        "model = MultiModalEmbeddingModel.from_pretrained(\"multimodalembedding@001\")\n",
        "\n",
        "#Takes an image (URL or image file) and returns it\n",
        "def get_image(image_source):\n",
        "  if image_source.startswith(\"http://\") or image_source.startswith(\"https://\"):\n",
        "    img_bytes = requests.get(image_source).content\n",
        "    img = Image(img_bytes)\n",
        "    return img\n",
        "  else:\n",
        "    print(f\" ready to load file {image_source}\")\n",
        "    try:\n",
        "      with open(image_source, \"rb\") as f:\n",
        "        image_bytes = f.read()\n",
        "      #print(f\"img_bytes type : {type(image_bytes)}\")\n",
        "      img = Image(image_bytes)\n",
        "      #print(f\"img type : {type(img)}\")\n",
        "      return img\n",
        "    except Exception as error:\n",
        "      print(f\"error loading image from {image_source}: {error}\" )\n",
        "      return None\n",
        "\n",
        "#Gets image embeddings using Google Gemini model\n",
        "def get_img_embeddings(img, text=\"\"):\n",
        "  embeddings = model.get_embeddings(image=img,\n",
        "                                    contextual_text=text # passes text along with the image (multimodal)\n",
        "  )\n",
        "  return embeddings.image_embedding"
      ],
      "metadata": {
        "id": "4j8DoxGtxuUK"
      },
      "execution_count": 82,
      "outputs": []
    },
    {
      "cell_type": "code",
      "source": [
        "\n",
        "numberofproductwithembedding=0\n",
        "numberofproductwithoutembedding=0\n",
        "# Iterate over each row in the DataFrame and update the embeddings1 column with image embedding\n",
        "#Setting dflen as 30 to quickly test the working of embedding creation. The higher the number throws 400 error. Need to debug reason for error in next iteration\n",
        "dflen=30\n",
        "#dflen=len(df)\n",
        "for i in range(dflen):\n",
        "  # Check if the embeddings1 column is empty (None) before processing\n",
        "  if df.loc[i, 'embeddings1'] is None:\n",
        "    image = get_image(df.loc[i, 'product_images'])\n",
        "    if image is not None:\n",
        "      try:\n",
        "        embeddings1 = get_img_embeddings(image)\n",
        "        df.at[i, 'embeddings1'] = embeddings1\n",
        "        numberofproductwithembedding+=1\n",
        "      except Exception as e:\n",
        "        #print(f\"Error processing image from record #{i}: {df.loc[i, 'product_images']}: {e}\")\n",
        "        numberofproductwithoutembedding+=1\n",
        "  else:\n",
        "    numberofproductwithembedding=numberofproductwithembedding+1\n",
        "print(\"Product with Embedding\",numberofproductwithembedding)\n",
        "print(\"Product without Embedding\",numberofproductwithoutembedding)"
      ],
      "metadata": {
        "id": "eWNfE4sj9oqO",
        "colab": {
          "base_uri": "https://localhost:8080/"
        },
        "outputId": "e89bfdbf-5c66-432c-b651-1836d38fafb5"
      },
      "execution_count": 81,
      "outputs": [
        {
          "output_type": "stream",
          "name": "stdout",
          "text": [
            "Product with Embedding 30\n",
            "Product without Embedding 0\n"
          ]
        }
      ]
    },
    {
      "cell_type": "code",
      "source": [
        "\n",
        "df['embeddings']=df['embeddings'].apply(json.loads)"
      ],
      "metadata": {
        "id": "YenqzxnArnKf"
      },
      "execution_count": 67,
      "outputs": []
    },
    {
      "cell_type": "code",
      "source": [
        "from astrapy.db import AstraDB, AstraDBCollection\n",
        "\n",
        "astra_db = AstraDB(token=os.getenv(\"ASTRA_DB_TOKEN\"),api_endpoint=os.getenv(\"ASTRA_DB_ENDPOINT\"))"
      ],
      "metadata": {
        "id": "8rxyffRUs-V2"
      },
      "execution_count": 68,
      "outputs": []
    },
    {
      "cell_type": "code",
      "source": [
        "#SET THE correct Dimension based on the embedding model output to avoid error \"SHRED_DOC_LIMIT_VIOLATION\"\n",
        "collection = astra_db.create_collection(collection_name=\"fashion_buddy_workshop_collection\",dimension=1408,metric=\"cosine\")\n",
        "print(f\"* Collection: {collection.collection_name}\\n\")"
      ],
      "metadata": {
        "id": "--sijn3otsgY",
        "colab": {
          "base_uri": "https://localhost:8080/"
        },
        "outputId": "cef09f8b-6849-4946-8445-6d844a4d0017"
      },
      "execution_count": 79,
      "outputs": [
        {
          "output_type": "stream",
          "name": "stdout",
          "text": [
            "* Collection: fashion_buddy_workshop_collection\n",
            "\n"
          ]
        }
      ]
    },
    {
      "cell_type": "code",
      "source": [
        "from ipywidgets import IntProgress\n",
        "from IPython.display import display\n",
        "import urllib.request\n",
        "\n",
        "def load_to_astra(df, collection,dflength):\n",
        "  len_df=dflength\n",
        "  errorinfocount=0\n",
        "  error_info=\"\"\n",
        "  f=IntProgress(min=0,max=len_df)\n",
        "  display(f)\n",
        "  for i in range(len_df):\n",
        "    f.value += 1\n",
        "    f.description = str(f.value) + \"/\" + str(len_df)\n",
        "\n",
        "    product_name=df.loc[i,\"product_name\"]\n",
        "    link = df.loc[i,\"link\"]\n",
        "    product_images = df.loc[i,\"product_images\"]\n",
        "    price = df.loc[i,\"price\"]\n",
        "    details = df.loc[i,\"details\"]\n",
        "    category = df.loc[i,\"category\"]\n",
        "    gender = df.loc[i,\"gender\"]\n",
        "    embeddings = df.loc[i,\"embeddings\"]\n",
        "\n",
        "    try:\n",
        "      collection.insert_one({\n",
        "          \"_id\":i,\n",
        "          \"product_name\":product_name,\n",
        "          \"link\":link,\n",
        "         \"product_images\":product_images,\n",
        "          \"price\":price,\n",
        "          \"details\":details,\n",
        "          \"category\":category,\n",
        "          \"gender\": gender,\n",
        "          \"$vector\": embeddings}) #Keep column name as $Vector to avoid SHRED_DOC_LIMIT_VIOLATION error\n",
        "    except Exception as error:\n",
        "      error_info = json.loads(str(error))\n",
        "      errorinfocount+=1\n",
        "\n",
        "  print(f\"total errors : {errorinfocount} : {error_info}\")\n"
      ],
      "metadata": {
        "collapsed": true,
        "id": "7dfihK70Bkz4"
      },
      "execution_count": 70,
      "outputs": []
    },
    {
      "cell_type": "code",
      "source": [
        "#load_to_astra(df,collection)\n",
        "dflength =  len(df)\n",
        "load_to_astra(df,collection,dflength)\n"
      ],
      "metadata": {
        "id": "m9jMlt_91I9T",
        "colab": {
          "base_uri": "https://localhost:8080/",
          "height": 67,
          "referenced_widgets": [
            "4a3834d616594e22bb472c2d1e238112",
            "2f085c4624dc43dbbbf5d8d75648c10a",
            "e66d4be64451419ea020881c5715dbb9"
          ]
        },
        "outputId": "2a131b20-58c3-4b80-987a-2413bb6c6898"
      },
      "execution_count": 80,
      "outputs": [
        {
          "output_type": "display_data",
          "data": {
            "text/plain": [
              "IntProgress(value=0, max=936)"
            ],
            "application/vnd.jupyter.widget-view+json": {
              "version_major": 2,
              "version_minor": 0,
              "model_id": "4a3834d616594e22bb472c2d1e238112"
            }
          },
          "metadata": {}
        },
        {
          "output_type": "stream",
          "name": "stdout",
          "text": [
            "total errors : 0 : \n"
          ]
        }
      ]
    },
    {
      "cell_type": "code",
      "source": [
        "#Displays recommendations by category returned by Astra Vector Search\n",
        "def show_recommendations(documents, category=None):\n",
        "  i=0\n",
        "  if category:\n",
        "    print()\n",
        "    print(\"Category:\", category)\n",
        "  for doc in documents:\n",
        "    i+=1\n",
        "    print(f\"\\nRecommendation : {i}\")\n",
        "    print(doc[\"product_name\"], \"$\" + str(doc[\"price\"]), \", Gender:\", doc[\"gender\"])\n",
        "    print(doc[\"details\"])\n",
        "    print(doc[\"link\"])\n",
        "    print(\"Similarity score: \", doc[\"$similarity\"])\n",
        "    imageurl=doc[\"product_images\"]\n",
        "    print(imageurl)\n",
        "\n",
        "#Finds the similar itens of the given reference image and categories (if any) aleng with a search prompt to give t\n",
        "def find_similar_items(reference_image, categories=None):\n",
        "  reference_img = get_image(reference_image)\n",
        "  #print(\"Reference image:\")\n",
        "  #if reference_img is not None:\n",
        "    #reference_img.show()\n",
        "  print(\"Selected Categories:\", \", \".join(categories) if categories else \"None\")\n",
        "  if categories:\n",
        "    for category in categories:\n",
        "      # Run multiple ANN searches to pull top 3 matches\n",
        "      # for each category requested\n",
        "      search_prompt= \"\"\"\n",
        "      I am trying to find pieces of apparel that are similar to what is in thIS picture.\n",
        "      Ignore the-model and only focus on finding the most similar clothing.\n",
        "\n",
        "      I only care about apparel that falls within the category contained within triple backticks:\n",
        "      '''{category}'''\n",
        "      \"\"\".format(category=category)\n",
        "      reference_embeddings = get_img_embeddings(reference_img, text=search_prompt)\n",
        "      #Run an ANN search filtering by apparel category\n",
        "      documents = collection.vector_find(reference_embeddings,limit=3,filter={\"category\": category},include_similarity=\"True\")\n",
        "      show_recommendations(documents, category=category)\n",
        "  else:\n",
        "    search_prompt = \"\"\"\n",
        "      I am trying to find pieces of apparel that are similar to what is in this picture.\n",
        "      Pretend as if there is no model in the image, only clothing.\n",
        "      \"\"\"\n",
        "    #print(\"going to call get_img_embeddings\")\n",
        "    reference_embeddings = get_img_embeddings(reference_img, text=search_prompt)\n",
        "    #print(reference_embeddings)\n",
        "    #Run single ANN search across entire DB\n",
        "    #print(\"going to call vector_find\")\n",
        "    documents = collection.vector_find(reference_embeddings,limit=3)\n",
        "    #print(documents)\n",
        "    #print(\"going to call show_recommendations\")\n",
        "    show_recommendations(documents)\n"
      ],
      "metadata": {
        "id": "_RLYp1M4Bk_S"
      },
      "execution_count": 83,
      "outputs": []
    },
    {
      "cell_type": "code",
      "source": [
        "from google.colab import files\n",
        "uploaded = files.upload()"
      ],
      "metadata": {
        "id": "j9Bvz6X-rec7",
        "colab": {
          "base_uri": "https://localhost:8080/",
          "height": 74
        },
        "outputId": "61334b39-b58a-4013-b7b2-3b6c998232c5"
      },
      "execution_count": 73,
      "outputs": [
        {
          "output_type": "display_data",
          "data": {
            "text/plain": [
              "<IPython.core.display.HTML object>"
            ],
            "text/html": [
              "\n",
              "     <input type=\"file\" id=\"files-c7ce62b9-6c1d-4591-b6c0-5ce639edbf1e\" name=\"files[]\" multiple disabled\n",
              "        style=\"border:none\" />\n",
              "     <output id=\"result-c7ce62b9-6c1d-4591-b6c0-5ce639edbf1e\">\n",
              "      Upload widget is only available when the cell has been executed in the\n",
              "      current browser session. Please rerun this cell to enable.\n",
              "      </output>\n",
              "      <script>// Copyright 2017 Google LLC\n",
              "//\n",
              "// Licensed under the Apache License, Version 2.0 (the \"License\");\n",
              "// you may not use this file except in compliance with the License.\n",
              "// You may obtain a copy of the License at\n",
              "//\n",
              "//      http://www.apache.org/licenses/LICENSE-2.0\n",
              "//\n",
              "// Unless required by applicable law or agreed to in writing, software\n",
              "// distributed under the License is distributed on an \"AS IS\" BASIS,\n",
              "// WITHOUT WARRANTIES OR CONDITIONS OF ANY KIND, either express or implied.\n",
              "// See the License for the specific language governing permissions and\n",
              "// limitations under the License.\n",
              "\n",
              "/**\n",
              " * @fileoverview Helpers for google.colab Python module.\n",
              " */\n",
              "(function(scope) {\n",
              "function span(text, styleAttributes = {}) {\n",
              "  const element = document.createElement('span');\n",
              "  element.textContent = text;\n",
              "  for (const key of Object.keys(styleAttributes)) {\n",
              "    element.style[key] = styleAttributes[key];\n",
              "  }\n",
              "  return element;\n",
              "}\n",
              "\n",
              "// Max number of bytes which will be uploaded at a time.\n",
              "const MAX_PAYLOAD_SIZE = 100 * 1024;\n",
              "\n",
              "function _uploadFiles(inputId, outputId) {\n",
              "  const steps = uploadFilesStep(inputId, outputId);\n",
              "  const outputElement = document.getElementById(outputId);\n",
              "  // Cache steps on the outputElement to make it available for the next call\n",
              "  // to uploadFilesContinue from Python.\n",
              "  outputElement.steps = steps;\n",
              "\n",
              "  return _uploadFilesContinue(outputId);\n",
              "}\n",
              "\n",
              "// This is roughly an async generator (not supported in the browser yet),\n",
              "// where there are multiple asynchronous steps and the Python side is going\n",
              "// to poll for completion of each step.\n",
              "// This uses a Promise to block the python side on completion of each step,\n",
              "// then passes the result of the previous step as the input to the next step.\n",
              "function _uploadFilesContinue(outputId) {\n",
              "  const outputElement = document.getElementById(outputId);\n",
              "  const steps = outputElement.steps;\n",
              "\n",
              "  const next = steps.next(outputElement.lastPromiseValue);\n",
              "  return Promise.resolve(next.value.promise).then((value) => {\n",
              "    // Cache the last promise value to make it available to the next\n",
              "    // step of the generator.\n",
              "    outputElement.lastPromiseValue = value;\n",
              "    return next.value.response;\n",
              "  });\n",
              "}\n",
              "\n",
              "/**\n",
              " * Generator function which is called between each async step of the upload\n",
              " * process.\n",
              " * @param {string} inputId Element ID of the input file picker element.\n",
              " * @param {string} outputId Element ID of the output display.\n",
              " * @return {!Iterable<!Object>} Iterable of next steps.\n",
              " */\n",
              "function* uploadFilesStep(inputId, outputId) {\n",
              "  const inputElement = document.getElementById(inputId);\n",
              "  inputElement.disabled = false;\n",
              "\n",
              "  const outputElement = document.getElementById(outputId);\n",
              "  outputElement.innerHTML = '';\n",
              "\n",
              "  const pickedPromise = new Promise((resolve) => {\n",
              "    inputElement.addEventListener('change', (e) => {\n",
              "      resolve(e.target.files);\n",
              "    });\n",
              "  });\n",
              "\n",
              "  const cancel = document.createElement('button');\n",
              "  inputElement.parentElement.appendChild(cancel);\n",
              "  cancel.textContent = 'Cancel upload';\n",
              "  const cancelPromise = new Promise((resolve) => {\n",
              "    cancel.onclick = () => {\n",
              "      resolve(null);\n",
              "    };\n",
              "  });\n",
              "\n",
              "  // Wait for the user to pick the files.\n",
              "  const files = yield {\n",
              "    promise: Promise.race([pickedPromise, cancelPromise]),\n",
              "    response: {\n",
              "      action: 'starting',\n",
              "    }\n",
              "  };\n",
              "\n",
              "  cancel.remove();\n",
              "\n",
              "  // Disable the input element since further picks are not allowed.\n",
              "  inputElement.disabled = true;\n",
              "\n",
              "  if (!files) {\n",
              "    return {\n",
              "      response: {\n",
              "        action: 'complete',\n",
              "      }\n",
              "    };\n",
              "  }\n",
              "\n",
              "  for (const file of files) {\n",
              "    const li = document.createElement('li');\n",
              "    li.append(span(file.name, {fontWeight: 'bold'}));\n",
              "    li.append(span(\n",
              "        `(${file.type || 'n/a'}) - ${file.size} bytes, ` +\n",
              "        `last modified: ${\n",
              "            file.lastModifiedDate ? file.lastModifiedDate.toLocaleDateString() :\n",
              "                                    'n/a'} - `));\n",
              "    const percent = span('0% done');\n",
              "    li.appendChild(percent);\n",
              "\n",
              "    outputElement.appendChild(li);\n",
              "\n",
              "    const fileDataPromise = new Promise((resolve) => {\n",
              "      const reader = new FileReader();\n",
              "      reader.onload = (e) => {\n",
              "        resolve(e.target.result);\n",
              "      };\n",
              "      reader.readAsArrayBuffer(file);\n",
              "    });\n",
              "    // Wait for the data to be ready.\n",
              "    let fileData = yield {\n",
              "      promise: fileDataPromise,\n",
              "      response: {\n",
              "        action: 'continue',\n",
              "      }\n",
              "    };\n",
              "\n",
              "    // Use a chunked sending to avoid message size limits. See b/62115660.\n",
              "    let position = 0;\n",
              "    do {\n",
              "      const length = Math.min(fileData.byteLength - position, MAX_PAYLOAD_SIZE);\n",
              "      const chunk = new Uint8Array(fileData, position, length);\n",
              "      position += length;\n",
              "\n",
              "      const base64 = btoa(String.fromCharCode.apply(null, chunk));\n",
              "      yield {\n",
              "        response: {\n",
              "          action: 'append',\n",
              "          file: file.name,\n",
              "          data: base64,\n",
              "        },\n",
              "      };\n",
              "\n",
              "      let percentDone = fileData.byteLength === 0 ?\n",
              "          100 :\n",
              "          Math.round((position / fileData.byteLength) * 100);\n",
              "      percent.textContent = `${percentDone}% done`;\n",
              "\n",
              "    } while (position < fileData.byteLength);\n",
              "  }\n",
              "\n",
              "  // All done.\n",
              "  yield {\n",
              "    response: {\n",
              "      action: 'complete',\n",
              "    }\n",
              "  };\n",
              "}\n",
              "\n",
              "scope.google = scope.google || {};\n",
              "scope.google.colab = scope.google.colab || {};\n",
              "scope.google.colab._files = {\n",
              "  _uploadFiles,\n",
              "  _uploadFilesContinue,\n",
              "};\n",
              "})(self);\n",
              "</script> "
            ]
          },
          "metadata": {}
        },
        {
          "output_type": "stream",
          "name": "stdout",
          "text": [
            "Saving zaratrouser1.jpeg to zaratrouser1.jpeg\n"
          ]
        }
      ]
    },
    {
      "cell_type": "code",
      "source": [
        "#reference_image = \"/content/sample_image1.jpeg\"\n",
        "\n",
        "#reference_image = \"/content/zaratrouser1.jpeg\"\n",
        "reference_image = \"/content/zara_shirt1.jpeg\"\n",
        "#reference_image = \"/content/armani1.jpeg\"\n",
        "#reference_image = \"/content/myntrashirt1.jpeg\"\n",
        "#reference_image = \"/content/myntrapant1.jpg\"\n",
        "#reference_image = \"/content/zara_workout1.jpeg\"\n"
      ],
      "metadata": {
        "id": "JutneuJ2r5Ko"
      },
      "execution_count": 74,
      "outputs": []
    },
    {
      "cell_type": "code",
      "source": [
        "print(f\"The file being considered for recommendation is : {reference_image}\")\n",
        "find_similar_items(reference_image)"
      ],
      "metadata": {
        "id": "YB0G2v3it2ei",
        "colab": {
          "base_uri": "https://localhost:8080/"
        },
        "outputId": "f452bd04-062b-4891-b2d3-5e5f6d29c9f6"
      },
      "execution_count": 84,
      "outputs": [
        {
          "output_type": "stream",
          "name": "stdout",
          "text": [
            "The file being considered for recommendation is : /content/zara_shirt1.jpeg\n",
            " ready to load file /content/zara_shirt1.jpeg\n",
            "Selected Categories: None\n",
            "\n",
            "Recommendation : 1\n",
            "COTTON SHIRT $46.06 , Gender: men\n",
            "Relaxed fit collared shirt made of a cotton fabric. Short sleeves. Side vents at the hem. Button-up front.\n",
            "https://www.zara.com/in/en/cotton-shirt-p07545275.html\n",
            "Similarity score:  0.88434076\n",
            "https://static.zara.net/photos///2023/V/0/2/p/7545/275/712/2/w/448/7545275712_1_1_1.jpg?ts=1678983432463\n",
            "\n",
            "Recommendation : 2\n",
            "CREASED-EFFECT SHIRT $41.86 , Gender: men\n",
            "Relaxed fit shirt made of cotton fabric. Stand collar. Long sleeves. Button-up front.\n",
            "https://www.zara.com/in/en/creased-effect-shirt-p06103480.html\n",
            "Similarity score:  0.87546265\n",
            "https://static.zara.net/photos///2023/V/0/2/p/6103/480/800/2/w/448/6103480800_1_1_1.jpg?ts=1679654173740\n",
            "\n",
            "Recommendation : 3\n",
            "TEXTURED SHIRT $46.06 , Gender: men\n",
            "Relaxed fit shirt with a camp collar and short sleeves. Ribbed trim at the hem and a button-up front.\n",
            "https://www.zara.com/in/en/textured-shirt-p04087330.html\n",
            "Similarity score:  0.8704891\n",
            "https://static.zara.net/photos///2023/I/0/2/p/4087/330/712/2/w/448/4087330712_1_1_1.jpg?ts=1692780184926\n"
          ]
        }
      ]
    },
    {
      "cell_type": "code",
      "source": [
        "#to find python version\n",
        "!python --version"
      ],
      "metadata": {
        "id": "Ce5sRWMdKeZ4",
        "colab": {
          "base_uri": "https://localhost:8080/"
        },
        "outputId": "1cedc5fa-d4b4-46a9-e76f-a29eca95a705"
      },
      "execution_count": 76,
      "outputs": [
        {
          "output_type": "stream",
          "name": "stdout",
          "text": [
            "Python 3.10.12\n"
          ]
        }
      ]
    },
    {
      "cell_type": "code",
      "source": [
        "#to list all python packages installed with version\n",
        "#!pip list"
      ],
      "metadata": {
        "id": "fWqwM27sK3wH"
      },
      "execution_count": 77,
      "outputs": []
    }
  ]
}