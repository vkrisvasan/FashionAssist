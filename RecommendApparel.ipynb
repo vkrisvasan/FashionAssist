{
  "nbformat": 4,
  "nbformat_minor": 0,
  "metadata": {
    "colab": {
      "provenance": [],
      "authorship_tag": "ABX9TyOllBXqiePvWmIjZdi6y5m3",
      "include_colab_link": true
    },
    "kernelspec": {
      "name": "python3",
      "display_name": "Python 3"
    },
    "language_info": {
      "name": "python"
    },
    "widgets": {
      "application/vnd.jupyter.widget-state+json": {
        "5f591ee98b2f4d10bd4acaa0b98aac4f": {
          "model_module": "@jupyter-widgets/controls",
          "model_name": "IntProgressModel",
          "model_module_version": "1.5.0",
          "state": {
            "_dom_classes": [],
            "_model_module": "@jupyter-widgets/controls",
            "_model_module_version": "1.5.0",
            "_model_name": "IntProgressModel",
            "_view_count": null,
            "_view_module": "@jupyter-widgets/controls",
            "_view_module_version": "1.5.0",
            "_view_name": "ProgressView",
            "bar_style": "",
            "description": "20/20",
            "description_tooltip": null,
            "layout": "IPY_MODEL_bf3caea243f249519a77dab096288cd8",
            "max": 20,
            "min": 0,
            "orientation": "horizontal",
            "style": "IPY_MODEL_f6f5b2ed2d37423397936750a6e334f4",
            "value": 20
          }
        },
        "bf3caea243f249519a77dab096288cd8": {
          "model_module": "@jupyter-widgets/base",
          "model_name": "LayoutModel",
          "model_module_version": "1.2.0",
          "state": {
            "_model_module": "@jupyter-widgets/base",
            "_model_module_version": "1.2.0",
            "_model_name": "LayoutModel",
            "_view_count": null,
            "_view_module": "@jupyter-widgets/base",
            "_view_module_version": "1.2.0",
            "_view_name": "LayoutView",
            "align_content": null,
            "align_items": null,
            "align_self": null,
            "border": null,
            "bottom": null,
            "display": null,
            "flex": null,
            "flex_flow": null,
            "grid_area": null,
            "grid_auto_columns": null,
            "grid_auto_flow": null,
            "grid_auto_rows": null,
            "grid_column": null,
            "grid_gap": null,
            "grid_row": null,
            "grid_template_areas": null,
            "grid_template_columns": null,
            "grid_template_rows": null,
            "height": null,
            "justify_content": null,
            "justify_items": null,
            "left": null,
            "margin": null,
            "max_height": null,
            "max_width": null,
            "min_height": null,
            "min_width": null,
            "object_fit": null,
            "object_position": null,
            "order": null,
            "overflow": null,
            "overflow_x": null,
            "overflow_y": null,
            "padding": null,
            "right": null,
            "top": null,
            "visibility": null,
            "width": null
          }
        },
        "f6f5b2ed2d37423397936750a6e334f4": {
          "model_module": "@jupyter-widgets/controls",
          "model_name": "ProgressStyleModel",
          "model_module_version": "1.5.0",
          "state": {
            "_model_module": "@jupyter-widgets/controls",
            "_model_module_version": "1.5.0",
            "_model_name": "ProgressStyleModel",
            "_view_count": null,
            "_view_module": "@jupyter-widgets/base",
            "_view_module_version": "1.2.0",
            "_view_name": "StyleView",
            "bar_color": null,
            "description_width": ""
          }
        }
      }
    }
  },
  "cells": [
    {
      "cell_type": "markdown",
      "metadata": {
        "id": "view-in-github",
        "colab_type": "text"
      },
      "source": [
        "<a href=\"https://colab.research.google.com/github/vkrisvasan/FashionAssist/blob/main/RecommendApparel.ipynb\" target=\"_parent\"><img src=\"https://colab.research.google.com/assets/colab-badge.svg\" alt=\"Open In Colab\"/></a>"
      ]
    },
    {
      "cell_type": "code",
      "execution_count": null,
      "metadata": {
        "colab": {
          "base_uri": "https://localhost:8080/"
        },
        "id": "41YS9qTblKzW",
        "outputId": "e83857f7-3044-470b-8b63-bab304377447"
      },
      "outputs": [
        {
          "output_type": "stream",
          "name": "stdout",
          "text": [
            "Requirement already satisfied: google-cloud-aiplatform in /usr/local/lib/python3.10/dist-packages (1.52.0)\n",
            "Requirement already satisfied: ragstack-ai in /usr/local/lib/python3.10/dist-packages (1.0.6)\n",
            "Requirement already satisfied: google-api-core[grpc]!=2.0.*,!=2.1.*,!=2.2.*,!=2.3.*,!=2.4.*,!=2.5.*,!=2.6.*,!=2.7.*,<3.0.0dev,>=1.34.1 in /usr/local/lib/python3.10/dist-packages (from google-cloud-aiplatform) (2.11.1)\n",
            "Requirement already satisfied: google-auth<3.0.0dev,>=2.14.1 in /usr/local/lib/python3.10/dist-packages (from google-cloud-aiplatform) (2.27.0)\n",
            "Requirement already satisfied: proto-plus<2.0.0dev,>=1.22.0 in /usr/local/lib/python3.10/dist-packages (from google-cloud-aiplatform) (1.23.0)\n",
            "Requirement already satisfied: protobuf!=3.20.0,!=3.20.1,!=4.21.0,!=4.21.1,!=4.21.2,!=4.21.3,!=4.21.4,!=4.21.5,<5.0.0dev,>=3.19.5 in /usr/local/lib/python3.10/dist-packages (from google-cloud-aiplatform) (3.20.3)\n",
            "Requirement already satisfied: packaging>=14.3 in /usr/local/lib/python3.10/dist-packages (from google-cloud-aiplatform) (23.2)\n",
            "Requirement already satisfied: google-cloud-storage<3.0.0dev,>=1.32.0 in /usr/local/lib/python3.10/dist-packages (from google-cloud-aiplatform) (2.14.0)\n",
            "Requirement already satisfied: google-cloud-bigquery!=3.20.0,<4.0.0dev,>=1.15.0 in /usr/local/lib/python3.10/dist-packages (from google-cloud-aiplatform) (3.21.0)\n",
            "Requirement already satisfied: google-cloud-resource-manager<3.0.0dev,>=1.3.3 in /usr/local/lib/python3.10/dist-packages (from google-cloud-aiplatform) (1.12.3)\n",
            "Requirement already satisfied: shapely<3.0.0dev in /usr/local/lib/python3.10/dist-packages (from google-cloud-aiplatform) (2.0.4)\n",
            "Requirement already satisfied: pydantic<3 in /usr/local/lib/python3.10/dist-packages (from google-cloud-aiplatform) (2.7.1)\n",
            "Requirement already satisfied: docstring-parser<1 in /usr/local/lib/python3.10/dist-packages (from google-cloud-aiplatform) (0.16)\n",
            "Requirement already satisfied: ragstack-ai-colbert==1.0.5 in /usr/local/lib/python3.10/dist-packages (from ragstack-ai) (1.0.5)\n",
            "Requirement already satisfied: ragstack-ai-langchain[colbert,google,nvidia]==1.0.6 in /usr/local/lib/python3.10/dist-packages (from ragstack-ai) (1.0.6)\n",
            "Requirement already satisfied: ragstack-ai-llamaindex[azure,bedrock,colbert,google]==1.0.5 in /usr/local/lib/python3.10/dist-packages (from ragstack-ai) (1.0.5)\n",
            "Requirement already satisfied: cassio<0.2.0,>=0.1.7 in /usr/local/lib/python3.10/dist-packages (from ragstack-ai-colbert==1.0.5->ragstack-ai) (0.1.7)\n",
            "Requirement already satisfied: colbert-ai==0.2.19 in /usr/local/lib/python3.10/dist-packages (from ragstack-ai-colbert==1.0.5->ragstack-ai) (0.2.19)\n",
            "Requirement already satisfied: pyarrow==14.0.1 in /usr/local/lib/python3.10/dist-packages (from ragstack-ai-colbert==1.0.5->ragstack-ai) (14.0.1)\n",
            "Requirement already satisfied: torch==2.2.1 in /usr/local/lib/python3.10/dist-packages (from ragstack-ai-colbert==1.0.5->ragstack-ai) (2.2.1)\n",
            "Requirement already satisfied: astrapy<2,>=1 in /usr/local/lib/python3.10/dist-packages (from ragstack-ai-langchain[colbert,google,nvidia]==1.0.6->ragstack-ai) (1.2.0)\n",
            "Requirement already satisfied: langchain==0.1.19 in /usr/local/lib/python3.10/dist-packages (from ragstack-ai-langchain[colbert,google,nvidia]==1.0.6->ragstack-ai) (0.1.19)\n",
            "Requirement already satisfied: langchain-astradb==0.3.0 in /usr/local/lib/python3.10/dist-packages (from ragstack-ai-langchain[colbert,google,nvidia]==1.0.6->ragstack-ai) (0.3.0)\n",
            "Requirement already satisfied: langchain-community==0.0.38 in /usr/local/lib/python3.10/dist-packages (from ragstack-ai-langchain[colbert,google,nvidia]==1.0.6->ragstack-ai) (0.0.38)\n",
            "Requirement already satisfied: langchain-core==0.1.52 in /usr/local/lib/python3.10/dist-packages (from ragstack-ai-langchain[colbert,google,nvidia]==1.0.6->ragstack-ai) (0.1.52)\n",
            "Requirement already satisfied: langchain-openai==0.1.3 in /usr/local/lib/python3.10/dist-packages (from ragstack-ai-langchain[colbert,google,nvidia]==1.0.6->ragstack-ai) (0.1.3)\n",
            "Requirement already satisfied: unstructured==0.14.2 in /usr/local/lib/python3.10/dist-packages (from ragstack-ai-langchain[colbert,google,nvidia]==1.0.6->ragstack-ai) (0.14.2)\n",
            "Requirement already satisfied: langchain-google-genai==0.0.11 in /usr/local/lib/python3.10/dist-packages (from ragstack-ai-langchain[colbert,google,nvidia]==1.0.6->ragstack-ai) (0.0.11)\n",
            "Requirement already satisfied: langchain-google-vertexai==1.0.1 in /usr/local/lib/python3.10/dist-packages (from ragstack-ai-langchain[colbert,google,nvidia]==1.0.6->ragstack-ai) (1.0.1)\n",
            "Requirement already satisfied: langchain-nvidia-ai-endpoints==0.0.9 in /usr/local/lib/python3.10/dist-packages (from ragstack-ai-langchain[colbert,google,nvidia]==1.0.6->ragstack-ai) (0.0.9)\n",
            "Requirement already satisfied: cffi<2.0.0,>=1.16.0 in /usr/local/lib/python3.10/dist-packages (from ragstack-ai-llamaindex[azure,bedrock,colbert,google]==1.0.5->ragstack-ai) (1.16.0)\n",
            "Requirement already satisfied: llama-index==0.10.31 in /usr/local/lib/python3.10/dist-packages (from ragstack-ai-llamaindex[azure,bedrock,colbert,google]==1.0.5->ragstack-ai) (0.10.31)\n",
            "Requirement already satisfied: llama-index-embeddings-langchain==0.1.2 in /usr/local/lib/python3.10/dist-packages (from ragstack-ai-llamaindex[azure,bedrock,colbert,google]==1.0.5->ragstack-ai) (0.1.2)\n",
            "Requirement already satisfied: llama-index-tools-cassandra==0.1.1 in /usr/local/lib/python3.10/dist-packages (from ragstack-ai-llamaindex[azure,bedrock,colbert,google]==1.0.5->ragstack-ai) (0.1.1)\n",
            "Requirement already satisfied: llama-index-vector-stores-astra-db==0.1.7 in /usr/local/lib/python3.10/dist-packages (from ragstack-ai-llamaindex[azure,bedrock,colbert,google]==1.0.5->ragstack-ai) (0.1.7)\n",
            "Requirement already satisfied: llama-index-vector-stores-cassandra==0.1.3 in /usr/local/lib/python3.10/dist-packages (from ragstack-ai-llamaindex[azure,bedrock,colbert,google]==1.0.5->ragstack-ai) (0.1.3)\n",
            "Requirement already satisfied: llama-parse==0.4.1 in /usr/local/lib/python3.10/dist-packages (from ragstack-ai-llamaindex[azure,bedrock,colbert,google]==1.0.5->ragstack-ai) (0.4.1)\n",
            "Requirement already satisfied: llama-index-embeddings-gemini==0.1.6 in /usr/local/lib/python3.10/dist-packages (from ragstack-ai-llamaindex[azure,bedrock,colbert,google]==1.0.5->ragstack-ai) (0.1.6)\n",
            "Requirement already satisfied: llama-index-llms-gemini==0.1.7 in /usr/local/lib/python3.10/dist-packages (from ragstack-ai-llamaindex[azure,bedrock,colbert,google]==1.0.5->ragstack-ai) (0.1.7)\n",
            "Requirement already satisfied: llama-index-llms-vertex==0.1.5 in /usr/local/lib/python3.10/dist-packages (from ragstack-ai-llamaindex[azure,bedrock,colbert,google]==1.0.5->ragstack-ai) (0.1.5)\n",
            "Requirement already satisfied: llama-index-multi-modal-llms-gemini==0.1.5 in /usr/local/lib/python3.10/dist-packages (from ragstack-ai-llamaindex[azure,bedrock,colbert,google]==1.0.5->ragstack-ai) (0.1.5)\n",
            "Requirement already satisfied: llama-index-embeddings-azure-openai==0.1.7 in /usr/local/lib/python3.10/dist-packages (from ragstack-ai-llamaindex[azure,bedrock,colbert,google]==1.0.5->ragstack-ai) (0.1.7)\n",
            "Requirement already satisfied: llama-index-llms-azure-openai==0.1.6 in /usr/local/lib/python3.10/dist-packages (from ragstack-ai-llamaindex[azure,bedrock,colbert,google]==1.0.5->ragstack-ai) (0.1.6)\n",
            "Requirement already satisfied: llama-index-embeddings-bedrock==0.1.4 in /usr/local/lib/python3.10/dist-packages (from ragstack-ai-llamaindex[azure,bedrock,colbert,google]==1.0.5->ragstack-ai) (0.1.4)\n",
            "Requirement already satisfied: llama-index-llms-bedrock==0.1.7 in /usr/local/lib/python3.10/dist-packages (from ragstack-ai-llamaindex[azure,bedrock,colbert,google]==1.0.5->ragstack-ai) (0.1.7)\n",
            "Requirement already satisfied: bitarray in /usr/local/lib/python3.10/dist-packages (from colbert-ai==0.2.19->ragstack-ai-colbert==1.0.5->ragstack-ai) (2.9.2)\n",
            "Requirement already satisfied: datasets in /usr/local/lib/python3.10/dist-packages (from colbert-ai==0.2.19->ragstack-ai-colbert==1.0.5->ragstack-ai) (2.19.1)\n",
            "Requirement already satisfied: flask in /usr/local/lib/python3.10/dist-packages (from colbert-ai==0.2.19->ragstack-ai-colbert==1.0.5->ragstack-ai) (2.2.5)\n",
            "Requirement already satisfied: git-python in /usr/local/lib/python3.10/dist-packages (from colbert-ai==0.2.19->ragstack-ai-colbert==1.0.5->ragstack-ai) (1.0.3)\n",
            "Requirement already satisfied: python-dotenv in /usr/local/lib/python3.10/dist-packages (from colbert-ai==0.2.19->ragstack-ai-colbert==1.0.5->ragstack-ai) (1.0.1)\n",
            "Requirement already satisfied: ninja in /usr/local/lib/python3.10/dist-packages (from colbert-ai==0.2.19->ragstack-ai-colbert==1.0.5->ragstack-ai) (1.11.1.1)\n",
            "Requirement already satisfied: scipy in /usr/local/lib/python3.10/dist-packages (from colbert-ai==0.2.19->ragstack-ai-colbert==1.0.5->ragstack-ai) (1.11.4)\n",
            "Requirement already satisfied: tqdm in /usr/local/lib/python3.10/dist-packages (from colbert-ai==0.2.19->ragstack-ai-colbert==1.0.5->ragstack-ai) (4.66.4)\n",
            "Requirement already satisfied: transformers in /usr/local/lib/python3.10/dist-packages (from colbert-ai==0.2.19->ragstack-ai-colbert==1.0.5->ragstack-ai) (4.41.0)\n",
            "Requirement already satisfied: ujson in /usr/local/lib/python3.10/dist-packages (from colbert-ai==0.2.19->ragstack-ai-colbert==1.0.5->ragstack-ai) (5.10.0)\n",
            "Requirement already satisfied: PyYAML>=5.3 in /usr/local/lib/python3.10/dist-packages (from langchain==0.1.19->ragstack-ai-langchain[colbert,google,nvidia]==1.0.6->ragstack-ai) (6.0.1)\n",
            "Requirement already satisfied: SQLAlchemy<3,>=1.4 in /usr/local/lib/python3.10/dist-packages (from langchain==0.1.19->ragstack-ai-langchain[colbert,google,nvidia]==1.0.6->ragstack-ai) (2.0.30)\n",
            "Requirement already satisfied: aiohttp<4.0.0,>=3.8.3 in /usr/local/lib/python3.10/dist-packages (from langchain==0.1.19->ragstack-ai-langchain[colbert,google,nvidia]==1.0.6->ragstack-ai) (3.9.5)\n",
            "Requirement already satisfied: async-timeout<5.0.0,>=4.0.0 in /usr/local/lib/python3.10/dist-packages (from langchain==0.1.19->ragstack-ai-langchain[colbert,google,nvidia]==1.0.6->ragstack-ai) (4.0.3)\n",
            "Requirement already satisfied: dataclasses-json<0.7,>=0.5.7 in /usr/local/lib/python3.10/dist-packages (from langchain==0.1.19->ragstack-ai-langchain[colbert,google,nvidia]==1.0.6->ragstack-ai) (0.6.6)\n",
            "Requirement already satisfied: langchain-text-splitters<0.1,>=0.0.1 in /usr/local/lib/python3.10/dist-packages (from langchain==0.1.19->ragstack-ai-langchain[colbert,google,nvidia]==1.0.6->ragstack-ai) (0.0.2)\n",
            "Requirement already satisfied: langsmith<0.2.0,>=0.1.17 in /usr/local/lib/python3.10/dist-packages (from langchain==0.1.19->ragstack-ai-langchain[colbert,google,nvidia]==1.0.6->ragstack-ai) (0.1.63)\n",
            "Requirement already satisfied: numpy<2,>=1 in /usr/local/lib/python3.10/dist-packages (from langchain==0.1.19->ragstack-ai-langchain[colbert,google,nvidia]==1.0.6->ragstack-ai) (1.25.2)\n",
            "Requirement already satisfied: requests<3,>=2 in /usr/local/lib/python3.10/dist-packages (from langchain==0.1.19->ragstack-ai-langchain[colbert,google,nvidia]==1.0.6->ragstack-ai) (2.31.0)\n",
            "Requirement already satisfied: tenacity<9.0.0,>=8.1.0 in /usr/local/lib/python3.10/dist-packages (from langchain==0.1.19->ragstack-ai-langchain[colbert,google,nvidia]==1.0.6->ragstack-ai) (8.3.0)\n",
            "Requirement already satisfied: jsonpatch<2.0,>=1.33 in /usr/local/lib/python3.10/dist-packages (from langchain-core==0.1.52->ragstack-ai-langchain[colbert,google,nvidia]==1.0.6->ragstack-ai) (1.33)\n",
            "Requirement already satisfied: google-generativeai<0.5.0,>=0.4.1 in /usr/local/lib/python3.10/dist-packages (from langchain-google-genai==0.0.11->ragstack-ai-langchain[colbert,google,nvidia]==1.0.6->ragstack-ai) (0.4.1)\n",
            "Requirement already satisfied: types-protobuf<5.0.0.0,>=4.24.0.4 in /usr/local/lib/python3.10/dist-packages (from langchain-google-vertexai==1.0.1->ragstack-ai-langchain[colbert,google,nvidia]==1.0.6->ragstack-ai) (4.25.0.20240417)\n",
            "Requirement already satisfied: types-requests<3.0.0,>=2.31.0 in /usr/local/lib/python3.10/dist-packages (from langchain-google-vertexai==1.0.1->ragstack-ai-langchain[colbert,google,nvidia]==1.0.6->ragstack-ai) (2.32.0.20240523)\n",
            "Requirement already satisfied: pillow<11.0.0,>=10.0.0 in /usr/local/lib/python3.10/dist-packages (from langchain-nvidia-ai-endpoints==0.0.9->ragstack-ai-langchain[colbert,google,nvidia]==1.0.6->ragstack-ai) (10.3.0)\n",
            "Requirement already satisfied: openai<2.0.0,>=1.10.0 in /usr/local/lib/python3.10/dist-packages (from langchain-openai==0.1.3->ragstack-ai-langchain[colbert,google,nvidia]==1.0.6->ragstack-ai) (1.30.3)\n",
            "Requirement already satisfied: tiktoken<1,>=0.5.2 in /usr/local/lib/python3.10/dist-packages (from langchain-openai==0.1.3->ragstack-ai-langchain[colbert,google,nvidia]==1.0.6->ragstack-ai) (0.7.0)\n",
            "Requirement already satisfied: llama-index-agent-openai<0.3.0,>=0.1.4 in /usr/local/lib/python3.10/dist-packages (from llama-index==0.10.31->ragstack-ai-llamaindex[azure,bedrock,colbert,google]==1.0.5->ragstack-ai) (0.2.5)\n",
            "Requirement already satisfied: llama-index-cli<0.2.0,>=0.1.2 in /usr/local/lib/python3.10/dist-packages (from llama-index==0.10.31->ragstack-ai-llamaindex[azure,bedrock,colbert,google]==1.0.5->ragstack-ai) (0.1.12)\n",
            "Requirement already satisfied: llama-index-core<0.11.0,>=0.10.31 in /usr/local/lib/python3.10/dist-packages (from llama-index==0.10.31->ragstack-ai-llamaindex[azure,bedrock,colbert,google]==1.0.5->ragstack-ai) (0.10.39.post1)\n",
            "Requirement already satisfied: llama-index-embeddings-openai<0.2.0,>=0.1.5 in /usr/local/lib/python3.10/dist-packages (from llama-index==0.10.31->ragstack-ai-llamaindex[azure,bedrock,colbert,google]==1.0.5->ragstack-ai) (0.1.10)\n",
            "Requirement already satisfied: llama-index-indices-managed-llama-cloud<0.2.0,>=0.1.2 in /usr/local/lib/python3.10/dist-packages (from llama-index==0.10.31->ragstack-ai-llamaindex[azure,bedrock,colbert,google]==1.0.5->ragstack-ai) (0.1.6)\n",
            "Requirement already satisfied: llama-index-legacy<0.10.0,>=0.9.48 in /usr/local/lib/python3.10/dist-packages (from llama-index==0.10.31->ragstack-ai-llamaindex[azure,bedrock,colbert,google]==1.0.5->ragstack-ai) (0.9.48)\n",
            "Requirement already satisfied: llama-index-llms-openai<0.2.0,>=0.1.13 in /usr/local/lib/python3.10/dist-packages (from llama-index==0.10.31->ragstack-ai-llamaindex[azure,bedrock,colbert,google]==1.0.5->ragstack-ai) (0.1.21)\n",
            "Requirement already satisfied: llama-index-multi-modal-llms-openai<0.2.0,>=0.1.3 in /usr/local/lib/python3.10/dist-packages (from llama-index==0.10.31->ragstack-ai-llamaindex[azure,bedrock,colbert,google]==1.0.5->ragstack-ai) (0.1.6)\n",
            "Requirement already satisfied: llama-index-program-openai<0.2.0,>=0.1.3 in /usr/local/lib/python3.10/dist-packages (from llama-index==0.10.31->ragstack-ai-llamaindex[azure,bedrock,colbert,google]==1.0.5->ragstack-ai) (0.1.6)\n",
            "Requirement already satisfied: llama-index-question-gen-openai<0.2.0,>=0.1.2 in /usr/local/lib/python3.10/dist-packages (from llama-index==0.10.31->ragstack-ai-llamaindex[azure,bedrock,colbert,google]==1.0.5->ragstack-ai) (0.1.3)\n",
            "Requirement already satisfied: llama-index-readers-file<0.2.0,>=0.1.4 in /usr/local/lib/python3.10/dist-packages (from llama-index==0.10.31->ragstack-ai-llamaindex[azure,bedrock,colbert,google]==1.0.5->ragstack-ai) (0.1.23)\n",
            "Requirement already satisfied: llama-index-readers-llama-parse<0.2.0,>=0.1.2 in /usr/local/lib/python3.10/dist-packages (from llama-index==0.10.31->ragstack-ai-llamaindex[azure,bedrock,colbert,google]==1.0.5->ragstack-ai) (0.1.4)\n",
            "Requirement already satisfied: boto3<2.0.0,>=1.34.23 in /usr/local/lib/python3.10/dist-packages (from llama-index-embeddings-bedrock==0.1.4->ragstack-ai-llamaindex[azure,bedrock,colbert,google]==1.0.5->ragstack-ai) (1.34.113)\n",
            "Requirement already satisfied: azure-identity<2.0.0,>=1.15.0 in /usr/local/lib/python3.10/dist-packages (from llama-index-llms-azure-openai==0.1.6->ragstack-ai-llamaindex[azure,bedrock,colbert,google]==1.0.5->ragstack-ai) (1.16.0)\n",
            "Requirement already satisfied: httpx in /usr/local/lib/python3.10/dist-packages (from llama-index-llms-azure-openai==0.1.6->ragstack-ai-llamaindex[azure,bedrock,colbert,google]==1.0.5->ragstack-ai) (0.27.0)\n",
            "Requirement already satisfied: llama-index-llms-anthropic<0.2.0,>=0.1.7 in /usr/local/lib/python3.10/dist-packages (from llama-index-llms-bedrock==0.1.7->ragstack-ai-llamaindex[azure,bedrock,colbert,google]==1.0.5->ragstack-ai) (0.1.11)\n",
            "Requirement already satisfied: filelock in /usr/local/lib/python3.10/dist-packages (from torch==2.2.1->ragstack-ai-colbert==1.0.5->ragstack-ai) (3.14.0)\n",
            "Requirement already satisfied: typing-extensions>=4.8.0 in /usr/local/lib/python3.10/dist-packages (from torch==2.2.1->ragstack-ai-colbert==1.0.5->ragstack-ai) (4.11.0)\n",
            "Requirement already satisfied: sympy in /usr/local/lib/python3.10/dist-packages (from torch==2.2.1->ragstack-ai-colbert==1.0.5->ragstack-ai) (1.12)\n",
            "Requirement already satisfied: networkx in /usr/local/lib/python3.10/dist-packages (from torch==2.2.1->ragstack-ai-colbert==1.0.5->ragstack-ai) (3.3)\n",
            "Requirement already satisfied: jinja2 in /usr/local/lib/python3.10/dist-packages (from torch==2.2.1->ragstack-ai-colbert==1.0.5->ragstack-ai) (3.1.4)\n",
            "Requirement already satisfied: fsspec in /usr/local/lib/python3.10/dist-packages (from torch==2.2.1->ragstack-ai-colbert==1.0.5->ragstack-ai) (2023.6.0)\n",
            "Requirement already satisfied: nvidia-cuda-nvrtc-cu12==12.1.105 in /usr/local/lib/python3.10/dist-packages (from torch==2.2.1->ragstack-ai-colbert==1.0.5->ragstack-ai) (12.1.105)\n",
            "Requirement already satisfied: nvidia-cuda-runtime-cu12==12.1.105 in /usr/local/lib/python3.10/dist-packages (from torch==2.2.1->ragstack-ai-colbert==1.0.5->ragstack-ai) (12.1.105)\n",
            "Requirement already satisfied: nvidia-cuda-cupti-cu12==12.1.105 in /usr/local/lib/python3.10/dist-packages (from torch==2.2.1->ragstack-ai-colbert==1.0.5->ragstack-ai) (12.1.105)\n",
            "Requirement already satisfied: nvidia-cudnn-cu12==8.9.2.26 in /usr/local/lib/python3.10/dist-packages (from torch==2.2.1->ragstack-ai-colbert==1.0.5->ragstack-ai) (8.9.2.26)\n",
            "Requirement already satisfied: nvidia-cublas-cu12==12.1.3.1 in /usr/local/lib/python3.10/dist-packages (from torch==2.2.1->ragstack-ai-colbert==1.0.5->ragstack-ai) (12.1.3.1)\n",
            "Requirement already satisfied: nvidia-cufft-cu12==11.0.2.54 in /usr/local/lib/python3.10/dist-packages (from torch==2.2.1->ragstack-ai-colbert==1.0.5->ragstack-ai) (11.0.2.54)\n",
            "Requirement already satisfied: nvidia-curand-cu12==10.3.2.106 in /usr/local/lib/python3.10/dist-packages (from torch==2.2.1->ragstack-ai-colbert==1.0.5->ragstack-ai) (10.3.2.106)\n",
            "Requirement already satisfied: nvidia-cusolver-cu12==11.4.5.107 in /usr/local/lib/python3.10/dist-packages (from torch==2.2.1->ragstack-ai-colbert==1.0.5->ragstack-ai) (11.4.5.107)\n",
            "Requirement already satisfied: nvidia-cusparse-cu12==12.1.0.106 in /usr/local/lib/python3.10/dist-packages (from torch==2.2.1->ragstack-ai-colbert==1.0.5->ragstack-ai) (12.1.0.106)\n",
            "Requirement already satisfied: nvidia-nccl-cu12==2.19.3 in /usr/local/lib/python3.10/dist-packages (from torch==2.2.1->ragstack-ai-colbert==1.0.5->ragstack-ai) (2.19.3)\n",
            "Requirement already satisfied: nvidia-nvtx-cu12==12.1.105 in /usr/local/lib/python3.10/dist-packages (from torch==2.2.1->ragstack-ai-colbert==1.0.5->ragstack-ai) (12.1.105)\n",
            "Requirement already satisfied: triton==2.2.0 in /usr/local/lib/python3.10/dist-packages (from torch==2.2.1->ragstack-ai-colbert==1.0.5->ragstack-ai) (2.2.0)\n",
            "Requirement already satisfied: chardet in /usr/local/lib/python3.10/dist-packages (from unstructured==0.14.2->ragstack-ai-langchain[colbert,google,nvidia]==1.0.6->ragstack-ai) (5.2.0)\n",
            "Requirement already satisfied: filetype in /usr/local/lib/python3.10/dist-packages (from unstructured==0.14.2->ragstack-ai-langchain[colbert,google,nvidia]==1.0.6->ragstack-ai) (1.2.0)\n",
            "Requirement already satisfied: python-magic in /usr/local/lib/python3.10/dist-packages (from unstructured==0.14.2->ragstack-ai-langchain[colbert,google,nvidia]==1.0.6->ragstack-ai) (0.4.27)\n",
            "Requirement already satisfied: lxml in /usr/local/lib/python3.10/dist-packages (from unstructured==0.14.2->ragstack-ai-langchain[colbert,google,nvidia]==1.0.6->ragstack-ai) (4.9.4)\n",
            "Requirement already satisfied: nltk in /usr/local/lib/python3.10/dist-packages (from unstructured==0.14.2->ragstack-ai-langchain[colbert,google,nvidia]==1.0.6->ragstack-ai) (3.8.1)\n",
            "Requirement already satisfied: tabulate in /usr/local/lib/python3.10/dist-packages (from unstructured==0.14.2->ragstack-ai-langchain[colbert,google,nvidia]==1.0.6->ragstack-ai) (0.9.0)\n",
            "Requirement already satisfied: beautifulsoup4 in /usr/local/lib/python3.10/dist-packages (from unstructured==0.14.2->ragstack-ai-langchain[colbert,google,nvidia]==1.0.6->ragstack-ai) (4.12.3)\n",
            "Requirement already satisfied: emoji in /usr/local/lib/python3.10/dist-packages (from unstructured==0.14.2->ragstack-ai-langchain[colbert,google,nvidia]==1.0.6->ragstack-ai) (2.12.1)\n",
            "Requirement already satisfied: python-iso639 in /usr/local/lib/python3.10/dist-packages (from unstructured==0.14.2->ragstack-ai-langchain[colbert,google,nvidia]==1.0.6->ragstack-ai) (2024.4.27)\n",
            "Requirement already satisfied: langdetect in /usr/local/lib/python3.10/dist-packages (from unstructured==0.14.2->ragstack-ai-langchain[colbert,google,nvidia]==1.0.6->ragstack-ai) (1.0.9)\n",
            "Requirement already satisfied: rapidfuzz in /usr/local/lib/python3.10/dist-packages (from unstructured==0.14.2->ragstack-ai-langchain[colbert,google,nvidia]==1.0.6->ragstack-ai) (3.9.1)\n",
            "Requirement already satisfied: backoff in /usr/local/lib/python3.10/dist-packages (from unstructured==0.14.2->ragstack-ai-langchain[colbert,google,nvidia]==1.0.6->ragstack-ai) (2.2.1)\n",
            "Requirement already satisfied: unstructured-client in /usr/local/lib/python3.10/dist-packages (from unstructured==0.14.2->ragstack-ai-langchain[colbert,google,nvidia]==1.0.6->ragstack-ai) (0.22.0)\n",
            "Requirement already satisfied: wrapt in /usr/local/lib/python3.10/dist-packages (from unstructured==0.14.2->ragstack-ai-langchain[colbert,google,nvidia]==1.0.6->ragstack-ai) (1.14.1)\n",
            "Requirement already satisfied: nvidia-nvjitlink-cu12 in /usr/local/lib/python3.10/dist-packages (from nvidia-cusolver-cu12==11.4.5.107->torch==2.2.1->ragstack-ai-colbert==1.0.5->ragstack-ai) (12.5.40)\n",
            "Requirement already satisfied: googleapis-common-protos<2.0.dev0,>=1.56.2 in /usr/local/lib/python3.10/dist-packages (from google-api-core[grpc]!=2.0.*,!=2.1.*,!=2.2.*,!=2.3.*,!=2.4.*,!=2.5.*,!=2.6.*,!=2.7.*,<3.0.0dev,>=1.34.1->google-cloud-aiplatform) (1.63.0)\n",
            "Requirement already satisfied: grpcio<2.0dev,>=1.33.2 in /usr/local/lib/python3.10/dist-packages (from google-api-core[grpc]!=2.0.*,!=2.1.*,!=2.2.*,!=2.3.*,!=2.4.*,!=2.5.*,!=2.6.*,!=2.7.*,<3.0.0dev,>=1.34.1->google-cloud-aiplatform) (1.64.0)\n",
            "Requirement already satisfied: grpcio-status<2.0.dev0,>=1.33.2 in /usr/local/lib/python3.10/dist-packages (from google-api-core[grpc]!=2.0.*,!=2.1.*,!=2.2.*,!=2.3.*,!=2.4.*,!=2.5.*,!=2.6.*,!=2.7.*,<3.0.0dev,>=1.34.1->google-cloud-aiplatform) (1.48.2)\n",
            "Requirement already satisfied: cachetools<6.0,>=2.0.0 in /usr/local/lib/python3.10/dist-packages (from google-auth<3.0.0dev,>=2.14.1->google-cloud-aiplatform) (5.3.3)\n",
            "Requirement already satisfied: pyasn1-modules>=0.2.1 in /usr/local/lib/python3.10/dist-packages (from google-auth<3.0.0dev,>=2.14.1->google-cloud-aiplatform) (0.4.0)\n",
            "Requirement already satisfied: rsa<5,>=3.1.4 in /usr/local/lib/python3.10/dist-packages (from google-auth<3.0.0dev,>=2.14.1->google-cloud-aiplatform) (4.9)\n",
            "Requirement already satisfied: google-cloud-core<3.0.0dev,>=1.6.0 in /usr/local/lib/python3.10/dist-packages (from google-cloud-bigquery!=3.20.0,<4.0.0dev,>=1.15.0->google-cloud-aiplatform) (2.3.3)\n",
            "Requirement already satisfied: google-resumable-media<3.0dev,>=0.6.0 in /usr/local/lib/python3.10/dist-packages (from google-cloud-bigquery!=3.20.0,<4.0.0dev,>=1.15.0->google-cloud-aiplatform) (2.7.0)\n",
            "Requirement already satisfied: python-dateutil<3.0dev,>=2.7.2 in /usr/local/lib/python3.10/dist-packages (from google-cloud-bigquery!=3.20.0,<4.0.0dev,>=1.15.0->google-cloud-aiplatform) (2.8.2)\n",
            "Requirement already satisfied: grpc-google-iam-v1<1.0.0dev,>=0.12.4 in /usr/local/lib/python3.10/dist-packages (from google-cloud-resource-manager<3.0.0dev,>=1.3.3->google-cloud-aiplatform) (0.13.0)\n",
            "Requirement already satisfied: google-crc32c<2.0dev,>=1.0 in /usr/local/lib/python3.10/dist-packages (from google-cloud-storage<3.0.0dev,>=1.32.0->google-cloud-aiplatform) (1.5.0)\n",
            "Requirement already satisfied: annotated-types>=0.4.0 in /usr/local/lib/python3.10/dist-packages (from pydantic<3->google-cloud-aiplatform) (0.7.0)\n",
            "Requirement already satisfied: pydantic-core==2.18.2 in /usr/local/lib/python3.10/dist-packages (from pydantic<3->google-cloud-aiplatform) (2.18.2)\n",
            "Requirement already satisfied: bson<0.6.0,>=0.5.10 in /usr/local/lib/python3.10/dist-packages (from astrapy<2,>=1->ragstack-ai-langchain[colbert,google,nvidia]==1.0.6->ragstack-ai) (0.5.10)\n",
            "Requirement already satisfied: deprecation<2.2.0,>=2.1.0 in /usr/local/lib/python3.10/dist-packages (from astrapy<2,>=1->ragstack-ai-langchain[colbert,google,nvidia]==1.0.6->ragstack-ai) (2.1.0)\n",
            "Requirement already satisfied: toml<0.11.0,>=0.10.2 in /usr/local/lib/python3.10/dist-packages (from astrapy<2,>=1->ragstack-ai-langchain[colbert,google,nvidia]==1.0.6->ragstack-ai) (0.10.2)\n",
            "Requirement already satisfied: uuid6<2024.2.0,>=2024.1.12 in /usr/local/lib/python3.10/dist-packages (from astrapy<2,>=1->ragstack-ai-langchain[colbert,google,nvidia]==1.0.6->ragstack-ai) (2024.1.12)\n",
            "Requirement already satisfied: cassandra-driver<4.0.0,>=3.28.0 in /usr/local/lib/python3.10/dist-packages (from cassio<0.2.0,>=0.1.7->ragstack-ai-colbert==1.0.5->ragstack-ai) (3.29.1)\n",
            "Requirement already satisfied: pycparser in /usr/local/lib/python3.10/dist-packages (from cffi<2.0.0,>=1.16.0->ragstack-ai-llamaindex[azure,bedrock,colbert,google]==1.0.5->ragstack-ai) (2.22)\n",
            "Requirement already satisfied: pyasn1<0.7.0,>=0.4.6 in /usr/local/lib/python3.10/dist-packages (from pyasn1-modules>=0.2.1->google-auth<3.0.0dev,>=2.14.1->google-cloud-aiplatform) (0.6.0)\n",
            "Requirement already satisfied: six>=1.5 in /usr/local/lib/python3.10/dist-packages (from python-dateutil<3.0dev,>=2.7.2->google-cloud-bigquery!=3.20.0,<4.0.0dev,>=1.15.0->google-cloud-aiplatform) (1.16.0)\n",
            "Requirement already satisfied: charset-normalizer<4,>=2 in /usr/local/lib/python3.10/dist-packages (from requests<3,>=2->langchain==0.1.19->ragstack-ai-langchain[colbert,google,nvidia]==1.0.6->ragstack-ai) (3.3.2)\n",
            "Requirement already satisfied: idna<4,>=2.5 in /usr/local/lib/python3.10/dist-packages (from requests<3,>=2->langchain==0.1.19->ragstack-ai-langchain[colbert,google,nvidia]==1.0.6->ragstack-ai) (3.7)\n",
            "Requirement already satisfied: urllib3<3,>=1.21.1 in /usr/local/lib/python3.10/dist-packages (from requests<3,>=2->langchain==0.1.19->ragstack-ai-langchain[colbert,google,nvidia]==1.0.6->ragstack-ai) (2.0.7)\n",
            "Requirement already satisfied: certifi>=2017.4.17 in /usr/local/lib/python3.10/dist-packages (from requests<3,>=2->langchain==0.1.19->ragstack-ai-langchain[colbert,google,nvidia]==1.0.6->ragstack-ai) (2024.2.2)\n",
            "Requirement already satisfied: aiosignal>=1.1.2 in /usr/local/lib/python3.10/dist-packages (from aiohttp<4.0.0,>=3.8.3->langchain==0.1.19->ragstack-ai-langchain[colbert,google,nvidia]==1.0.6->ragstack-ai) (1.3.1)\n",
            "Requirement already satisfied: attrs>=17.3.0 in /usr/local/lib/python3.10/dist-packages (from aiohttp<4.0.0,>=3.8.3->langchain==0.1.19->ragstack-ai-langchain[colbert,google,nvidia]==1.0.6->ragstack-ai) (23.2.0)\n",
            "Requirement already satisfied: frozenlist>=1.1.1 in /usr/local/lib/python3.10/dist-packages (from aiohttp<4.0.0,>=3.8.3->langchain==0.1.19->ragstack-ai-langchain[colbert,google,nvidia]==1.0.6->ragstack-ai) (1.4.1)\n",
            "Requirement already satisfied: multidict<7.0,>=4.5 in /usr/local/lib/python3.10/dist-packages (from aiohttp<4.0.0,>=3.8.3->langchain==0.1.19->ragstack-ai-langchain[colbert,google,nvidia]==1.0.6->ragstack-ai) (6.0.5)\n",
            "Requirement already satisfied: yarl<2.0,>=1.0 in /usr/local/lib/python3.10/dist-packages (from aiohttp<4.0.0,>=3.8.3->langchain==0.1.19->ragstack-ai-langchain[colbert,google,nvidia]==1.0.6->ragstack-ai) (1.9.4)\n",
            "Requirement already satisfied: azure-core>=1.23.0 in /usr/local/lib/python3.10/dist-packages (from azure-identity<2.0.0,>=1.15.0->llama-index-llms-azure-openai==0.1.6->ragstack-ai-llamaindex[azure,bedrock,colbert,google]==1.0.5->ragstack-ai) (1.30.1)\n",
            "Requirement already satisfied: cryptography>=2.5 in /usr/local/lib/python3.10/dist-packages (from azure-identity<2.0.0,>=1.15.0->llama-index-llms-azure-openai==0.1.6->ragstack-ai-llamaindex[azure,bedrock,colbert,google]==1.0.5->ragstack-ai) (42.0.7)\n",
            "Requirement already satisfied: msal>=1.24.0 in /usr/local/lib/python3.10/dist-packages (from azure-identity<2.0.0,>=1.15.0->llama-index-llms-azure-openai==0.1.6->ragstack-ai-llamaindex[azure,bedrock,colbert,google]==1.0.5->ragstack-ai) (1.28.0)\n",
            "Requirement already satisfied: msal-extensions>=0.3.0 in /usr/local/lib/python3.10/dist-packages (from azure-identity<2.0.0,>=1.15.0->llama-index-llms-azure-openai==0.1.6->ragstack-ai-llamaindex[azure,bedrock,colbert,google]==1.0.5->ragstack-ai) (1.1.0)\n",
            "Requirement already satisfied: botocore<1.35.0,>=1.34.113 in /usr/local/lib/python3.10/dist-packages (from boto3<2.0.0,>=1.34.23->llama-index-embeddings-bedrock==0.1.4->ragstack-ai-llamaindex[azure,bedrock,colbert,google]==1.0.5->ragstack-ai) (1.34.113)\n",
            "Requirement already satisfied: jmespath<2.0.0,>=0.7.1 in /usr/local/lib/python3.10/dist-packages (from boto3<2.0.0,>=1.34.23->llama-index-embeddings-bedrock==0.1.4->ragstack-ai-llamaindex[azure,bedrock,colbert,google]==1.0.5->ragstack-ai) (1.0.1)\n",
            "Requirement already satisfied: s3transfer<0.11.0,>=0.10.0 in /usr/local/lib/python3.10/dist-packages (from boto3<2.0.0,>=1.34.23->llama-index-embeddings-bedrock==0.1.4->ragstack-ai-llamaindex[azure,bedrock,colbert,google]==1.0.5->ragstack-ai) (0.10.1)\n",
            "Requirement already satisfied: geomet<0.3,>=0.1 in /usr/local/lib/python3.10/dist-packages (from cassandra-driver<4.0.0,>=3.28.0->cassio<0.2.0,>=0.1.7->ragstack-ai-colbert==1.0.5->ragstack-ai) (0.2.1.post1)\n",
            "Requirement already satisfied: marshmallow<4.0.0,>=3.18.0 in /usr/local/lib/python3.10/dist-packages (from dataclasses-json<0.7,>=0.5.7->langchain==0.1.19->ragstack-ai-langchain[colbert,google,nvidia]==1.0.6->ragstack-ai) (3.21.2)\n",
            "Requirement already satisfied: typing-inspect<1,>=0.4.0 in /usr/local/lib/python3.10/dist-packages (from dataclasses-json<0.7,>=0.5.7->langchain==0.1.19->ragstack-ai-langchain[colbert,google,nvidia]==1.0.6->ragstack-ai) (0.9.0)\n",
            "Requirement already satisfied: google-ai-generativelanguage==0.4.0 in /usr/local/lib/python3.10/dist-packages (from google-generativeai<0.5.0,>=0.4.1->langchain-google-genai==0.0.11->ragstack-ai-langchain[colbert,google,nvidia]==1.0.6->ragstack-ai) (0.4.0)\n",
            "Requirement already satisfied: anyio in /usr/local/lib/python3.10/dist-packages (from httpx->llama-index-llms-azure-openai==0.1.6->ragstack-ai-llamaindex[azure,bedrock,colbert,google]==1.0.5->ragstack-ai) (3.7.1)\n",
            "Requirement already satisfied: httpcore==1.* in /usr/local/lib/python3.10/dist-packages (from httpx->llama-index-llms-azure-openai==0.1.6->ragstack-ai-llamaindex[azure,bedrock,colbert,google]==1.0.5->ragstack-ai) (1.0.5)\n",
            "Requirement already satisfied: sniffio in /usr/local/lib/python3.10/dist-packages (from httpx->llama-index-llms-azure-openai==0.1.6->ragstack-ai-llamaindex[azure,bedrock,colbert,google]==1.0.5->ragstack-ai) (1.3.1)\n",
            "Requirement already satisfied: h2<5,>=3 in /usr/local/lib/python3.10/dist-packages (from httpx->llama-index-llms-azure-openai==0.1.6->ragstack-ai-llamaindex[azure,bedrock,colbert,google]==1.0.5->ragstack-ai) (4.1.0)\n",
            "Requirement already satisfied: h11<0.15,>=0.13 in /usr/local/lib/python3.10/dist-packages (from httpcore==1.*->httpx->llama-index-llms-azure-openai==0.1.6->ragstack-ai-llamaindex[azure,bedrock,colbert,google]==1.0.5->ragstack-ai) (0.14.0)\n",
            "Requirement already satisfied: jsonpointer>=1.9 in /usr/local/lib/python3.10/dist-packages (from jsonpatch<2.0,>=1.33->langchain-core==0.1.52->ragstack-ai-langchain[colbert,google,nvidia]==1.0.6->ragstack-ai) (2.4)\n",
            "Requirement already satisfied: orjson<4.0.0,>=3.9.14 in /usr/local/lib/python3.10/dist-packages (from langsmith<0.2.0,>=0.1.17->langchain==0.1.19->ragstack-ai-langchain[colbert,google,nvidia]==1.0.6->ragstack-ai) (3.10.3)\n",
            "Requirement already satisfied: deprecated>=1.2.9.3 in /usr/local/lib/python3.10/dist-packages (from llama-index-core<0.11.0,>=0.10.31->llama-index==0.10.31->ragstack-ai-llamaindex[azure,bedrock,colbert,google]==1.0.5->ragstack-ai) (1.2.14)\n",
            "Requirement already satisfied: dirtyjson<2.0.0,>=1.0.8 in /usr/local/lib/python3.10/dist-packages (from llama-index-core<0.11.0,>=0.10.31->llama-index==0.10.31->ragstack-ai-llamaindex[azure,bedrock,colbert,google]==1.0.5->ragstack-ai) (1.0.8)\n",
            "Requirement already satisfied: llamaindex-py-client<0.2.0,>=0.1.18 in /usr/local/lib/python3.10/dist-packages (from llama-index-core<0.11.0,>=0.10.31->llama-index==0.10.31->ragstack-ai-llamaindex[azure,bedrock,colbert,google]==1.0.5->ragstack-ai) (0.1.19)\n",
            "Requirement already satisfied: nest-asyncio<2.0.0,>=1.5.8 in /usr/local/lib/python3.10/dist-packages (from llama-index-core<0.11.0,>=0.10.31->llama-index==0.10.31->ragstack-ai-llamaindex[azure,bedrock,colbert,google]==1.0.5->ragstack-ai) (1.6.0)\n",
            "Requirement already satisfied: pandas in /usr/local/lib/python3.10/dist-packages (from llama-index-core<0.11.0,>=0.10.31->llama-index==0.10.31->ragstack-ai-llamaindex[azure,bedrock,colbert,google]==1.0.5->ragstack-ai) (2.0.3)\n",
            "Requirement already satisfied: anthropic<0.24.0,>=0.23.1 in /usr/local/lib/python3.10/dist-packages (from llama-index-llms-anthropic<0.2.0,>=0.1.7->llama-index-llms-bedrock==0.1.7->ragstack-ai-llamaindex[azure,bedrock,colbert,google]==1.0.5->ragstack-ai) (0.23.1)\n",
            "Requirement already satisfied: pypdf<5.0.0,>=4.0.1 in /usr/local/lib/python3.10/dist-packages (from llama-index-readers-file<0.2.0,>=0.1.4->llama-index==0.10.31->ragstack-ai-llamaindex[azure,bedrock,colbert,google]==1.0.5->ragstack-ai) (4.2.0)\n",
            "Requirement already satisfied: striprtf<0.0.27,>=0.0.26 in /usr/local/lib/python3.10/dist-packages (from llama-index-readers-file<0.2.0,>=0.1.4->llama-index==0.10.31->ragstack-ai-llamaindex[azure,bedrock,colbert,google]==1.0.5->ragstack-ai) (0.0.26)\n",
            "Requirement already satisfied: soupsieve>1.2 in /usr/local/lib/python3.10/dist-packages (from beautifulsoup4->unstructured==0.14.2->ragstack-ai-langchain[colbert,google,nvidia]==1.0.6->ragstack-ai) (2.5)\n",
            "Requirement already satisfied: click in /usr/local/lib/python3.10/dist-packages (from nltk->unstructured==0.14.2->ragstack-ai-langchain[colbert,google,nvidia]==1.0.6->ragstack-ai) (8.1.7)\n",
            "Requirement already satisfied: joblib in /usr/local/lib/python3.10/dist-packages (from nltk->unstructured==0.14.2->ragstack-ai-langchain[colbert,google,nvidia]==1.0.6->ragstack-ai) (1.4.2)\n",
            "Requirement already satisfied: regex>=2021.8.3 in /usr/local/lib/python3.10/dist-packages (from nltk->unstructured==0.14.2->ragstack-ai-langchain[colbert,google,nvidia]==1.0.6->ragstack-ai) (2023.12.25)\n",
            "Requirement already satisfied: distro<2,>=1.7.0 in /usr/lib/python3/dist-packages (from openai<2.0.0,>=1.10.0->langchain-openai==0.1.3->ragstack-ai-langchain[colbert,google,nvidia]==1.0.6->ragstack-ai) (1.7.0)\n",
            "Requirement already satisfied: greenlet!=0.4.17 in /usr/local/lib/python3.10/dist-packages (from SQLAlchemy<3,>=1.4->langchain==0.1.19->ragstack-ai-langchain[colbert,google,nvidia]==1.0.6->ragstack-ai) (3.0.3)\n",
            "Requirement already satisfied: pyarrow-hotfix in /usr/local/lib/python3.10/dist-packages (from datasets->colbert-ai==0.2.19->ragstack-ai-colbert==1.0.5->ragstack-ai) (0.6)\n",
            "Requirement already satisfied: dill<0.3.9,>=0.3.0 in /usr/local/lib/python3.10/dist-packages (from datasets->colbert-ai==0.2.19->ragstack-ai-colbert==1.0.5->ragstack-ai) (0.3.8)\n",
            "Requirement already satisfied: xxhash in /usr/local/lib/python3.10/dist-packages (from datasets->colbert-ai==0.2.19->ragstack-ai-colbert==1.0.5->ragstack-ai) (3.4.1)\n",
            "Requirement already satisfied: multiprocess in /usr/local/lib/python3.10/dist-packages (from datasets->colbert-ai==0.2.19->ragstack-ai-colbert==1.0.5->ragstack-ai) (0.70.16)\n",
            "Requirement already satisfied: huggingface-hub>=0.21.2 in /usr/local/lib/python3.10/dist-packages (from datasets->colbert-ai==0.2.19->ragstack-ai-colbert==1.0.5->ragstack-ai) (0.23.1)\n",
            "Requirement already satisfied: Werkzeug>=2.2.2 in /usr/local/lib/python3.10/dist-packages (from flask->colbert-ai==0.2.19->ragstack-ai-colbert==1.0.5->ragstack-ai) (3.0.3)\n",
            "Requirement already satisfied: itsdangerous>=2.0 in /usr/local/lib/python3.10/dist-packages (from flask->colbert-ai==0.2.19->ragstack-ai-colbert==1.0.5->ragstack-ai) (2.2.0)\n",
            "Requirement already satisfied: MarkupSafe>=2.0 in /usr/local/lib/python3.10/dist-packages (from jinja2->torch==2.2.1->ragstack-ai-colbert==1.0.5->ragstack-ai) (2.1.5)\n",
            "Requirement already satisfied: gitpython in /usr/local/lib/python3.10/dist-packages (from git-python->colbert-ai==0.2.19->ragstack-ai-colbert==1.0.5->ragstack-ai) (3.1.43)\n",
            "Requirement already satisfied: mpmath>=0.19 in /usr/local/lib/python3.10/dist-packages (from sympy->torch==2.2.1->ragstack-ai-colbert==1.0.5->ragstack-ai) (1.3.0)\n",
            "Requirement already satisfied: tokenizers<0.20,>=0.19 in /usr/local/lib/python3.10/dist-packages (from transformers->colbert-ai==0.2.19->ragstack-ai-colbert==1.0.5->ragstack-ai) (0.19.1)\n",
            "Requirement already satisfied: safetensors>=0.4.1 in /usr/local/lib/python3.10/dist-packages (from transformers->colbert-ai==0.2.19->ragstack-ai-colbert==1.0.5->ragstack-ai) (0.4.3)\n",
            "Requirement already satisfied: deepdiff>=6.0 in /usr/local/lib/python3.10/dist-packages (from unstructured-client->unstructured==0.14.2->ragstack-ai-langchain[colbert,google,nvidia]==1.0.6->ragstack-ai) (7.0.1)\n",
            "Requirement already satisfied: jsonpath-python>=1.0.6 in /usr/local/lib/python3.10/dist-packages (from unstructured-client->unstructured==0.14.2->ragstack-ai-langchain[colbert,google,nvidia]==1.0.6->ragstack-ai) (1.0.6)\n",
            "Requirement already satisfied: mypy-extensions>=1.0.0 in /usr/local/lib/python3.10/dist-packages (from unstructured-client->unstructured==0.14.2->ragstack-ai-langchain[colbert,google,nvidia]==1.0.6->ragstack-ai) (1.0.0)\n",
            "Requirement already satisfied: exceptiongroup in /usr/local/lib/python3.10/dist-packages (from anyio->httpx->llama-index-llms-azure-openai==0.1.6->ragstack-ai-llamaindex[azure,bedrock,colbert,google]==1.0.5->ragstack-ai) (1.2.1)\n",
            "Requirement already satisfied: ordered-set<4.2.0,>=4.1.0 in /usr/local/lib/python3.10/dist-packages (from deepdiff>=6.0->unstructured-client->unstructured==0.14.2->ragstack-ai-langchain[colbert,google,nvidia]==1.0.6->ragstack-ai) (4.1.0)\n",
            "Requirement already satisfied: hyperframe<7,>=6.0 in /usr/local/lib/python3.10/dist-packages (from h2<5,>=3->httpx->llama-index-llms-azure-openai==0.1.6->ragstack-ai-llamaindex[azure,bedrock,colbert,google]==1.0.5->ragstack-ai) (6.0.1)\n",
            "Requirement already satisfied: hpack<5,>=4.0 in /usr/local/lib/python3.10/dist-packages (from h2<5,>=3->httpx->llama-index-llms-azure-openai==0.1.6->ragstack-ai-llamaindex[azure,bedrock,colbert,google]==1.0.5->ragstack-ai) (4.0.0)\n",
            "Requirement already satisfied: PyJWT[crypto]<3,>=1.0.0 in /usr/lib/python3/dist-packages (from msal>=1.24.0->azure-identity<2.0.0,>=1.15.0->llama-index-llms-azure-openai==0.1.6->ragstack-ai-llamaindex[azure,bedrock,colbert,google]==1.0.5->ragstack-ai) (2.3.0)\n",
            "Requirement already satisfied: portalocker<3,>=1.0 in /usr/local/lib/python3.10/dist-packages (from msal-extensions>=0.3.0->azure-identity<2.0.0,>=1.15.0->llama-index-llms-azure-openai==0.1.6->ragstack-ai-llamaindex[azure,bedrock,colbert,google]==1.0.5->ragstack-ai) (2.8.2)\n",
            "Requirement already satisfied: gitdb<5,>=4.0.1 in /usr/local/lib/python3.10/dist-packages (from gitpython->git-python->colbert-ai==0.2.19->ragstack-ai-colbert==1.0.5->ragstack-ai) (4.0.11)\n",
            "Requirement already satisfied: pytz>=2020.1 in /usr/local/lib/python3.10/dist-packages (from pandas->llama-index-core<0.11.0,>=0.10.31->llama-index==0.10.31->ragstack-ai-llamaindex[azure,bedrock,colbert,google]==1.0.5->ragstack-ai) (2023.4)\n",
            "Requirement already satisfied: tzdata>=2022.1 in /usr/local/lib/python3.10/dist-packages (from pandas->llama-index-core<0.11.0,>=0.10.31->llama-index==0.10.31->ragstack-ai-llamaindex[azure,bedrock,colbert,google]==1.0.5->ragstack-ai) (2024.1)\n",
            "Requirement already satisfied: smmap<6,>=3.0.1 in /usr/local/lib/python3.10/dist-packages (from gitdb<5,>=4.0.1->gitpython->git-python->colbert-ai==0.2.19->ragstack-ai-colbert==1.0.5->ragstack-ai) (5.0.1)\n"
          ]
        }
      ],
      "source": [
        "!pip install google-cloud-aiplatform ragstack-ai --upgrade\n"
      ]
    },
    {
      "cell_type": "code",
      "source": [
        "import pandas as pd\n",
        "import numpy as np\n",
        "import getpass, os, requests, sys, json, vertexai"
      ],
      "metadata": {
        "id": "6vEEvCyvlRsi"
      },
      "execution_count": null,
      "outputs": []
    },
    {
      "cell_type": "code",
      "source": [
        "credential_names = [\"GCP_PROJECT_ID\", \"ASTRA_DB_ENDPOINT\", \"ASTRA_DB_TOKEN\",\"HF_TOKEN\"]\n",
        "for credential in credential_names:\n",
        "  if credential not in os.environ:\n",
        "    os.environ[credential]=getpass.getpass(\"Provide your...\" + credential)"
      ],
      "metadata": {
        "id": "-_ORfnw4lR11",
        "colab": {
          "base_uri": "https://localhost:8080/"
        },
        "outputId": "021859f7-b2a6-44a9-e7c3-e3987679dd59"
      },
      "execution_count": null,
      "outputs": [
        {
          "name": "stdout",
          "output_type": "stream",
          "text": [
            "Provide your...GCP_PROJECT_ID··········\n",
            "Provide your...ASTRA_DB_ENDPOINT··········\n",
            "Provide your...ASTRA_DB_TOKEN··········\n",
            "Provide your...HF_TOKEN··········\n"
          ]
        }
      ]
    },
    {
      "cell_type": "code",
      "source": [
        "from google.colab import userdata, auth, files, drive\n",
        "from google.cloud import aiplatform\n",
        "\n",
        "!gcloud config set project {os.environ[\"GCP_PROJECT_ID\"]}\n",
        "auth.authenticate_user()\n"
      ],
      "metadata": {
        "id": "aaMolY99lSBu",
        "colab": {
          "base_uri": "https://localhost:8080/"
        },
        "outputId": "7c7f5ac3-0eec-4b3a-b2de-8fc680897828"
      },
      "execution_count": null,
      "outputs": [
        {
          "output_type": "stream",
          "name": "stdout",
          "text": [
            "Updated property [core/project].\n"
          ]
        }
      ]
    },
    {
      "cell_type": "code",
      "source": [
        "from datasets import load_dataset\n",
        "dataset = load_dataset(\"vkrisvasan/zara_embedding\",split='train')\n"
      ],
      "metadata": {
        "id": "OUtpPyXInng4"
      },
      "execution_count": null,
      "outputs": []
    },
    {
      "cell_type": "code",
      "source": [
        "df = pd.DataFrame.from_dict(dataset)"
      ],
      "metadata": {
        "id": "C5exD2373CDJ"
      },
      "execution_count": null,
      "outputs": []
    },
    {
      "cell_type": "code",
      "source": [
        "df['embeddings1'] = None"
      ],
      "metadata": {
        "id": "7t71fEW03ERT"
      },
      "execution_count": null,
      "outputs": []
    },
    {
      "cell_type": "code",
      "source": [
        "df.shape"
      ],
      "metadata": {
        "colab": {
          "base_uri": "https://localhost:8080/"
        },
        "id": "e8YccndqRGtW",
        "outputId": "3692bb50-1710-4c47-f2bd-95cf1c3ce538"
      },
      "execution_count": null,
      "outputs": [
        {
          "output_type": "execute_result",
          "data": {
            "text/plain": [
              "(936, 9)"
            ]
          },
          "metadata": {},
          "execution_count": 44
        }
      ]
    },
    {
      "cell_type": "code",
      "source": [
        "df.head(2)"
      ],
      "metadata": {
        "colab": {
          "base_uri": "https://localhost:8080/",
          "height": 216
        },
        "id": "EuUqUGb21Zzk",
        "outputId": "a143ccc5-5bd9-43d7-e146-7b54159f1d95"
      },
      "execution_count": null,
      "outputs": [
        {
          "output_type": "execute_result",
          "data": {
            "text/plain": [
              "      product_name                                               link  \\\n",
              "0  WORKOUT T-SHIRT  https://www.zara.com/in/en/workout-t-shirt-p05...   \n",
              "1  SPORTS BACKPACK  https://www.zara.com/in/en/sports-backpack-p13...   \n",
              "\n",
              "                                      product_images  price  \\\n",
              "0  https://static.zara.net/photos///2023/I/0/2/p/...  32.06   \n",
              "1  https://static.zara.net/photos///2023/I/1/2/p/...  64.26   \n",
              "\n",
              "                                             details    category gender  \\\n",
              "0  T-shirt made of lightweight textured stretch f...  ACTIVEWEAR    men   \n",
              "1  Multi-pocket backpack. Combination of material...  ACTIVEWEAR    men   \n",
              "\n",
              "                                          embeddings embeddings1  \n",
              "0  [0.00584839704, 0.00366304931, 0.0416106768, 0...        None  \n",
              "1  [0.00701390672, 0.00680825347, 0.0142998686, 0...        None  "
            ],
            "text/html": [
              "\n",
              "  <div id=\"df-39df57b7-9585-44de-a48b-6fac66286412\" class=\"colab-df-container\">\n",
              "    <div>\n",
              "<style scoped>\n",
              "    .dataframe tbody tr th:only-of-type {\n",
              "        vertical-align: middle;\n",
              "    }\n",
              "\n",
              "    .dataframe tbody tr th {\n",
              "        vertical-align: top;\n",
              "    }\n",
              "\n",
              "    .dataframe thead th {\n",
              "        text-align: right;\n",
              "    }\n",
              "</style>\n",
              "<table border=\"1\" class=\"dataframe\">\n",
              "  <thead>\n",
              "    <tr style=\"text-align: right;\">\n",
              "      <th></th>\n",
              "      <th>product_name</th>\n",
              "      <th>link</th>\n",
              "      <th>product_images</th>\n",
              "      <th>price</th>\n",
              "      <th>details</th>\n",
              "      <th>category</th>\n",
              "      <th>gender</th>\n",
              "      <th>embeddings</th>\n",
              "      <th>embeddings1</th>\n",
              "    </tr>\n",
              "  </thead>\n",
              "  <tbody>\n",
              "    <tr>\n",
              "      <th>0</th>\n",
              "      <td>WORKOUT T-SHIRT</td>\n",
              "      <td>https://www.zara.com/in/en/workout-t-shirt-p05...</td>\n",
              "      <td>https://static.zara.net/photos///2023/I/0/2/p/...</td>\n",
              "      <td>32.06</td>\n",
              "      <td>T-shirt made of lightweight textured stretch f...</td>\n",
              "      <td>ACTIVEWEAR</td>\n",
              "      <td>men</td>\n",
              "      <td>[0.00584839704, 0.00366304931, 0.0416106768, 0...</td>\n",
              "      <td>None</td>\n",
              "    </tr>\n",
              "    <tr>\n",
              "      <th>1</th>\n",
              "      <td>SPORTS BACKPACK</td>\n",
              "      <td>https://www.zara.com/in/en/sports-backpack-p13...</td>\n",
              "      <td>https://static.zara.net/photos///2023/I/1/2/p/...</td>\n",
              "      <td>64.26</td>\n",
              "      <td>Multi-pocket backpack. Combination of material...</td>\n",
              "      <td>ACTIVEWEAR</td>\n",
              "      <td>men</td>\n",
              "      <td>[0.00701390672, 0.00680825347, 0.0142998686, 0...</td>\n",
              "      <td>None</td>\n",
              "    </tr>\n",
              "  </tbody>\n",
              "</table>\n",
              "</div>\n",
              "    <div class=\"colab-df-buttons\">\n",
              "\n",
              "  <div class=\"colab-df-container\">\n",
              "    <button class=\"colab-df-convert\" onclick=\"convertToInteractive('df-39df57b7-9585-44de-a48b-6fac66286412')\"\n",
              "            title=\"Convert this dataframe to an interactive table.\"\n",
              "            style=\"display:none;\">\n",
              "\n",
              "  <svg xmlns=\"http://www.w3.org/2000/svg\" height=\"24px\" viewBox=\"0 -960 960 960\">\n",
              "    <path d=\"M120-120v-720h720v720H120Zm60-500h600v-160H180v160Zm220 220h160v-160H400v160Zm0 220h160v-160H400v160ZM180-400h160v-160H180v160Zm440 0h160v-160H620v160ZM180-180h160v-160H180v160Zm440 0h160v-160H620v160Z\"/>\n",
              "  </svg>\n",
              "    </button>\n",
              "\n",
              "  <style>\n",
              "    .colab-df-container {\n",
              "      display:flex;\n",
              "      gap: 12px;\n",
              "    }\n",
              "\n",
              "    .colab-df-convert {\n",
              "      background-color: #E8F0FE;\n",
              "      border: none;\n",
              "      border-radius: 50%;\n",
              "      cursor: pointer;\n",
              "      display: none;\n",
              "      fill: #1967D2;\n",
              "      height: 32px;\n",
              "      padding: 0 0 0 0;\n",
              "      width: 32px;\n",
              "    }\n",
              "\n",
              "    .colab-df-convert:hover {\n",
              "      background-color: #E2EBFA;\n",
              "      box-shadow: 0px 1px 2px rgba(60, 64, 67, 0.3), 0px 1px 3px 1px rgba(60, 64, 67, 0.15);\n",
              "      fill: #174EA6;\n",
              "    }\n",
              "\n",
              "    .colab-df-buttons div {\n",
              "      margin-bottom: 4px;\n",
              "    }\n",
              "\n",
              "    [theme=dark] .colab-df-convert {\n",
              "      background-color: #3B4455;\n",
              "      fill: #D2E3FC;\n",
              "    }\n",
              "\n",
              "    [theme=dark] .colab-df-convert:hover {\n",
              "      background-color: #434B5C;\n",
              "      box-shadow: 0px 1px 3px 1px rgba(0, 0, 0, 0.15);\n",
              "      filter: drop-shadow(0px 1px 2px rgba(0, 0, 0, 0.3));\n",
              "      fill: #FFFFFF;\n",
              "    }\n",
              "  </style>\n",
              "\n",
              "    <script>\n",
              "      const buttonEl =\n",
              "        document.querySelector('#df-39df57b7-9585-44de-a48b-6fac66286412 button.colab-df-convert');\n",
              "      buttonEl.style.display =\n",
              "        google.colab.kernel.accessAllowed ? 'block' : 'none';\n",
              "\n",
              "      async function convertToInteractive(key) {\n",
              "        const element = document.querySelector('#df-39df57b7-9585-44de-a48b-6fac66286412');\n",
              "        const dataTable =\n",
              "          await google.colab.kernel.invokeFunction('convertToInteractive',\n",
              "                                                    [key], {});\n",
              "        if (!dataTable) return;\n",
              "\n",
              "        const docLinkHtml = 'Like what you see? Visit the ' +\n",
              "          '<a target=\"_blank\" href=https://colab.research.google.com/notebooks/data_table.ipynb>data table notebook</a>'\n",
              "          + ' to learn more about interactive tables.';\n",
              "        element.innerHTML = '';\n",
              "        dataTable['output_type'] = 'display_data';\n",
              "        await google.colab.output.renderOutput(dataTable, element);\n",
              "        const docLink = document.createElement('div');\n",
              "        docLink.innerHTML = docLinkHtml;\n",
              "        element.appendChild(docLink);\n",
              "      }\n",
              "    </script>\n",
              "  </div>\n",
              "\n",
              "\n",
              "<div id=\"df-0a697c50-fbe7-4dce-9dff-fec8a3182597\">\n",
              "  <button class=\"colab-df-quickchart\" onclick=\"quickchart('df-0a697c50-fbe7-4dce-9dff-fec8a3182597')\"\n",
              "            title=\"Suggest charts\"\n",
              "            style=\"display:none;\">\n",
              "\n",
              "<svg xmlns=\"http://www.w3.org/2000/svg\" height=\"24px\"viewBox=\"0 0 24 24\"\n",
              "     width=\"24px\">\n",
              "    <g>\n",
              "        <path d=\"M19 3H5c-1.1 0-2 .9-2 2v14c0 1.1.9 2 2 2h14c1.1 0 2-.9 2-2V5c0-1.1-.9-2-2-2zM9 17H7v-7h2v7zm4 0h-2V7h2v10zm4 0h-2v-4h2v4z\"/>\n",
              "    </g>\n",
              "</svg>\n",
              "  </button>\n",
              "\n",
              "<style>\n",
              "  .colab-df-quickchart {\n",
              "      --bg-color: #E8F0FE;\n",
              "      --fill-color: #1967D2;\n",
              "      --hover-bg-color: #E2EBFA;\n",
              "      --hover-fill-color: #174EA6;\n",
              "      --disabled-fill-color: #AAA;\n",
              "      --disabled-bg-color: #DDD;\n",
              "  }\n",
              "\n",
              "  [theme=dark] .colab-df-quickchart {\n",
              "      --bg-color: #3B4455;\n",
              "      --fill-color: #D2E3FC;\n",
              "      --hover-bg-color: #434B5C;\n",
              "      --hover-fill-color: #FFFFFF;\n",
              "      --disabled-bg-color: #3B4455;\n",
              "      --disabled-fill-color: #666;\n",
              "  }\n",
              "\n",
              "  .colab-df-quickchart {\n",
              "    background-color: var(--bg-color);\n",
              "    border: none;\n",
              "    border-radius: 50%;\n",
              "    cursor: pointer;\n",
              "    display: none;\n",
              "    fill: var(--fill-color);\n",
              "    height: 32px;\n",
              "    padding: 0;\n",
              "    width: 32px;\n",
              "  }\n",
              "\n",
              "  .colab-df-quickchart:hover {\n",
              "    background-color: var(--hover-bg-color);\n",
              "    box-shadow: 0 1px 2px rgba(60, 64, 67, 0.3), 0 1px 3px 1px rgba(60, 64, 67, 0.15);\n",
              "    fill: var(--button-hover-fill-color);\n",
              "  }\n",
              "\n",
              "  .colab-df-quickchart-complete:disabled,\n",
              "  .colab-df-quickchart-complete:disabled:hover {\n",
              "    background-color: var(--disabled-bg-color);\n",
              "    fill: var(--disabled-fill-color);\n",
              "    box-shadow: none;\n",
              "  }\n",
              "\n",
              "  .colab-df-spinner {\n",
              "    border: 2px solid var(--fill-color);\n",
              "    border-color: transparent;\n",
              "    border-bottom-color: var(--fill-color);\n",
              "    animation:\n",
              "      spin 1s steps(1) infinite;\n",
              "  }\n",
              "\n",
              "  @keyframes spin {\n",
              "    0% {\n",
              "      border-color: transparent;\n",
              "      border-bottom-color: var(--fill-color);\n",
              "      border-left-color: var(--fill-color);\n",
              "    }\n",
              "    20% {\n",
              "      border-color: transparent;\n",
              "      border-left-color: var(--fill-color);\n",
              "      border-top-color: var(--fill-color);\n",
              "    }\n",
              "    30% {\n",
              "      border-color: transparent;\n",
              "      border-left-color: var(--fill-color);\n",
              "      border-top-color: var(--fill-color);\n",
              "      border-right-color: var(--fill-color);\n",
              "    }\n",
              "    40% {\n",
              "      border-color: transparent;\n",
              "      border-right-color: var(--fill-color);\n",
              "      border-top-color: var(--fill-color);\n",
              "    }\n",
              "    60% {\n",
              "      border-color: transparent;\n",
              "      border-right-color: var(--fill-color);\n",
              "    }\n",
              "    80% {\n",
              "      border-color: transparent;\n",
              "      border-right-color: var(--fill-color);\n",
              "      border-bottom-color: var(--fill-color);\n",
              "    }\n",
              "    90% {\n",
              "      border-color: transparent;\n",
              "      border-bottom-color: var(--fill-color);\n",
              "    }\n",
              "  }\n",
              "</style>\n",
              "\n",
              "  <script>\n",
              "    async function quickchart(key) {\n",
              "      const quickchartButtonEl =\n",
              "        document.querySelector('#' + key + ' button');\n",
              "      quickchartButtonEl.disabled = true;  // To prevent multiple clicks.\n",
              "      quickchartButtonEl.classList.add('colab-df-spinner');\n",
              "      try {\n",
              "        const charts = await google.colab.kernel.invokeFunction(\n",
              "            'suggestCharts', [key], {});\n",
              "      } catch (error) {\n",
              "        console.error('Error during call to suggestCharts:', error);\n",
              "      }\n",
              "      quickchartButtonEl.classList.remove('colab-df-spinner');\n",
              "      quickchartButtonEl.classList.add('colab-df-quickchart-complete');\n",
              "    }\n",
              "    (() => {\n",
              "      let quickchartButtonEl =\n",
              "        document.querySelector('#df-0a697c50-fbe7-4dce-9dff-fec8a3182597 button');\n",
              "      quickchartButtonEl.style.display =\n",
              "        google.colab.kernel.accessAllowed ? 'block' : 'none';\n",
              "    })();\n",
              "  </script>\n",
              "</div>\n",
              "\n",
              "    </div>\n",
              "  </div>\n"
            ],
            "application/vnd.google.colaboratory.intrinsic+json": {
              "type": "dataframe",
              "variable_name": "df",
              "repr_error": "Out of range float values are not JSON compliant: nan"
            }
          },
          "metadata": {},
          "execution_count": 45
        }
      ]
    },
    {
      "cell_type": "code",
      "source": [
        "df.dtypes"
      ],
      "metadata": {
        "colab": {
          "base_uri": "https://localhost:8080/"
        },
        "id": "F52eSt9z3o3P",
        "outputId": "56ab3d92-bdb3-48b4-a887-f60a137305ea"
      },
      "execution_count": null,
      "outputs": [
        {
          "output_type": "execute_result",
          "data": {
            "text/plain": [
              "product_name       object\n",
              "link               object\n",
              "product_images     object\n",
              "price             float64\n",
              "details            object\n",
              "category           object\n",
              "gender             object\n",
              "embeddings         object\n",
              "embeddings1        object\n",
              "dtype: object"
            ]
          },
          "metadata": {},
          "execution_count": 46
        }
      ]
    },
    {
      "cell_type": "code",
      "source": [
        "import io\n",
        "from vertexai.preview.vision_models import MultiModalEmbeddingModel, Image\n",
        "vertexai.init(project=os.getenv(\"GCP_PROJECT_ID\"))\n",
        "model = MultiModalEmbeddingModel.from_pretrained(\"multimodalembedding@001\")\n",
        "\n",
        "#Takes an image (URL or image file) and returns it\n",
        "def get_image(image_source):\n",
        "    try:\n",
        "        if image_source.startswith(\"http://\") or image_source.startswith(\"https://\"):\n",
        "            img_bytes = requests.get(image_source).content\n",
        "            img = Image(img_bytes)\n",
        "        else:\n",
        "            img = Image(image_source)\n",
        "        return img\n",
        "    except (requests.RequestException, IOError) as e:\n",
        "        print(f\"Error loading image from {image_source}: {e}\")\n",
        "        return None\n",
        "\n",
        "#Gets image embeddings using Google Gemini model\n",
        "def get_img_embeddings(img, text=\"\"):\n",
        "  embeddings = model.get_embeddings(image=img,\n",
        "                                    contextual_text=text # passes text along with the image (multimodal)\n",
        "  )\n",
        "  return embeddings.image_embedding"
      ],
      "metadata": {
        "id": "4j8DoxGtxuUK"
      },
      "execution_count": null,
      "outputs": []
    },
    {
      "cell_type": "code",
      "source": [
        "\n",
        "numberofproductwithembedding=0\n",
        "numberofproductwithoutembedding=0\n",
        "# Iterate over each row in the DataFrame and update the embeddings1 column with image embedding\n",
        "#Setting dflen as 30 to quickly test the working of embedding creation. The higher the number throws 400 error. Need to debug reason for error in next iteration\n",
        "dflen=30\n",
        "#dflen=len(df)\n",
        "for i in range(dflen):\n",
        "  # Check if the embeddings1 column is empty (None) before processing\n",
        "  if df.loc[i, 'embeddings1'] is None:\n",
        "    image = get_image(df.loc[i, 'product_images'])\n",
        "    if image is not None:\n",
        "      try:\n",
        "        embeddings1 = get_img_embeddings(image)\n",
        "        df.at[i, 'embeddings1'] = embeddings1\n",
        "        numberofproductwithembedding+=1\n",
        "      except Exception as e:\n",
        "        #print(f\"Error processing image from record #{i}: {df.loc[i, 'product_images']}: {e}\")\n",
        "        numberofproductwithoutembedding+=1\n",
        "  else:\n",
        "    numberofproductwithembedding=numberofproductwithembedding+1\n",
        "print(\"Product with Embedding\",numberofproductwithembedding)\n",
        "print(\"Product without Embedding\",numberofproductwithoutembedding)"
      ],
      "metadata": {
        "id": "eWNfE4sj9oqO",
        "colab": {
          "base_uri": "https://localhost:8080/"
        },
        "outputId": "2b1c8d8e-4cbf-4d6f-d157-de75f11379d2"
      },
      "execution_count": null,
      "outputs": [
        {
          "output_type": "stream",
          "name": "stdout",
          "text": [
            "Product with Embedding 30\n",
            "Product without Embedding 0\n"
          ]
        }
      ]
    },
    {
      "cell_type": "code",
      "source": [
        "\n",
        "df['embeddings']=df['embeddings'].apply(json.loads)"
      ],
      "metadata": {
        "id": "YenqzxnArnKf"
      },
      "execution_count": null,
      "outputs": []
    },
    {
      "cell_type": "code",
      "source": [
        "from astrapy.db import AstraDB, AstraDBCollection\n",
        "\n",
        "astra_db = AstraDB(token=os.getenv(\"ASTRA_DB_TOKEN\"),api_endpoint=os.getenv(\"ASTRA_DB_ENDPOINT\"))"
      ],
      "metadata": {
        "id": "8rxyffRUs-V2"
      },
      "execution_count": null,
      "outputs": []
    },
    {
      "cell_type": "code",
      "source": [
        "#SET THE correct Dimension based on the embedding model output to avoid error \"SHRED_DOC_LIMIT_VIOLATION\"\n",
        "collection = astra_db.create_collection(collection_name=\"fashion_buddy_workshop_collection\",dimension=1408,metric=\"cosine\")\n",
        "print(f\"* Collection: {collection.collection_name}\\n\")"
      ],
      "metadata": {
        "id": "--sijn3otsgY",
        "colab": {
          "base_uri": "https://localhost:8080/"
        },
        "outputId": "92269a42-8e63-4e9c-9ed5-928f3bd350f2"
      },
      "execution_count": null,
      "outputs": [
        {
          "output_type": "stream",
          "name": "stdout",
          "text": [
            "* Collection: fashion_buddy_workshop_collection\n",
            "\n"
          ]
        }
      ]
    },
    {
      "cell_type": "code",
      "source": [
        "from ipywidgets import IntProgress\n",
        "from IPython.display import display\n",
        "import urllib.request\n",
        "\n",
        "def load_to_astra(df, collection,dflength):\n",
        "  len_df=dflength\n",
        "  errorinfocount=0\n",
        "  error_info=\"\"\n",
        "  f=IntProgress(min=0,max=len_df)\n",
        "  display(f)\n",
        "  for i in range(len_df):\n",
        "    f.value += 1\n",
        "    f.description = str(f.value) + \"/\" + str(len_df)\n",
        "\n",
        "    product_name=df.loc[i,\"product_name\"]\n",
        "    link = df.loc[i,\"link\"]\n",
        "    product_images = df.loc[i,\"product_images\"]\n",
        "    price = df.loc[i,\"price\"]\n",
        "    details = df.loc[i,\"details\"]\n",
        "    category = df.loc[i,\"category\"]\n",
        "    gender = df.loc[i,\"gender\"]\n",
        "    embeddings = df.loc[i,\"embeddings\"]\n",
        "\n",
        "    try:\n",
        "      collection.insert_one({\n",
        "          \"_id\":i,\n",
        "          \"product_name\":product_name,\n",
        "          \"link\":link,\n",
        "         \"product_images\":product_images,\n",
        "          \"price\":price,\n",
        "          \"details\":details,\n",
        "          \"category\":category,\n",
        "          \"gender\": gender,\n",
        "          \"$vector\": embeddings}) #Keep column name as $Vector to avoid SHRED_DOC_LIMIT_VIOLATION error\n",
        "    except Exception as error:\n",
        "      error_info = json.loads(str(error))\n",
        "      errorinfocount+=1\n",
        "\n",
        "  print(f\"total errors : {errorinfocount} : {error_info}\")\n"
      ],
      "metadata": {
        "collapsed": true,
        "id": "7dfihK70Bkz4"
      },
      "execution_count": null,
      "outputs": []
    },
    {
      "cell_type": "code",
      "source": [
        "#load_to_astra(df,collection)\n",
        "dflength = 20# len(df)\n",
        "load_to_astra(df,collection,dflength)\n"
      ],
      "metadata": {
        "id": "m9jMlt_91I9T",
        "colab": {
          "base_uri": "https://localhost:8080/",
          "height": 67,
          "referenced_widgets": [
            "5f591ee98b2f4d10bd4acaa0b98aac4f",
            "bf3caea243f249519a77dab096288cd8",
            "f6f5b2ed2d37423397936750a6e334f4"
          ]
        },
        "outputId": "af18ec5f-73a2-45fd-a3b2-5ef9a494c58e"
      },
      "execution_count": null,
      "outputs": [
        {
          "output_type": "display_data",
          "data": {
            "text/plain": [
              "IntProgress(value=0, max=20)"
            ],
            "application/vnd.jupyter.widget-view+json": {
              "version_major": 2,
              "version_minor": 0,
              "model_id": "5f591ee98b2f4d10bd4acaa0b98aac4f"
            }
          },
          "metadata": {}
        },
        {
          "output_type": "stream",
          "name": "stdout",
          "text": [
            "total errors : 0 : \n"
          ]
        }
      ]
    },
    {
      "cell_type": "code",
      "source": [
        "#Takes an image (URL or image file) and returns it\n",
        "def get_image(image_source):\n",
        "  if image_source.startswith(\"http://\") or image_source.startswith(\"https://\"):\n",
        "    img_bytes = requests.get(image_source).content\n",
        "    img = Image(img_bytes)\n",
        "    return img\n",
        "  else:\n",
        "    print(f\" ready to load file {image_source}\")\n",
        "    try:\n",
        "      with open(image_source, \"rb\") as f:\n",
        "        image_bytes = f.read()\n",
        "      print(f\"img_bytes type : {type(image_bytes)}\")\n",
        "      img = Image(image_bytes)\n",
        "      print(f\"img type : {type(img)}\")\n",
        "      return img\n",
        "    except Exception as error:\n",
        "      print(f\"error loading image from file : {error}\" )\n",
        "\n",
        "#Gets image embeddings using Google Gemini model\n",
        "def get_img_embeddings(img, text=\"\"):\n",
        "  embeddings = model.get_embeddings(image=img,\n",
        "                                    contextual_text=text # passes text along with the image (multimodal)\n",
        "  )\n",
        "  print(f\"embedding: {embeddings}\")\n",
        "  return embeddings.image_embedding\n",
        "\n",
        "#Displays recommendations by category returned by Astra Vector Search\n",
        "def show_recommendations(documents, category=None):\n",
        "  i=0\n",
        "  if category:\n",
        "    print()\n",
        "    print(\"Category:\", category)\n",
        "  for doc in documents:\n",
        "    i+=1\n",
        "    print(f\"\\nRecommendation : {i}\")\n",
        "    print(doc[\"product_name\"], \"$\" + str(doc[\"price\"]), \", Gender:\", doc[\"gender\"])\n",
        "    print(doc[\"details\"])\n",
        "    print(doc[\"link\"])\n",
        "    print(\"Similarity score: \", doc[\"$similarity\"])\n",
        "    imageurl=doc[\"product_images\"]\n",
        "    print(imageurl)\n",
        "    img1=get_image(imageurl)\n",
        "    imageName1=\"file1.jpg\"\n",
        "    urllib.request.urlretrieve(imageurl, imageName1)\n",
        "    #img1 = Image.load_from_file(imageName1)\n",
        "    display(img1)  # this works but only if it is the only output\n",
        "    print(img1)\n",
        "    display(Image(imageurl))\n",
        "    display(Image(\"/content/file1.jpg\"))\n",
        "    display(Image(imageName1))\n",
        "    Image(imageName1)\n",
        "\n",
        "    Image(\"/content/file1.jpeg\")\n",
        "    print(imageName1)\n",
        "    display(Image(imageName1))\n",
        "    Image(imageurl)\n",
        "\n",
        "#Finds the similar itens of the given reference image and categories (if any) aleng with a search prompt to give t\n",
        "def find_similar_items(reference_image, categories=None):\n",
        "  reference_img = get_image(reference_image)\n",
        "  print(\"Reference image:\")\n",
        "  #if reference_img is not None:\n",
        "    #reference_img.show()\n",
        "  print(\"Selected Categories:\", \", \".join(categories) if categories else \"None\")\n",
        "  if categories:\n",
        "    for category in categories:\n",
        "      # Run multiple ANN searches to pull top 3 matches\n",
        "      # for each category requested\n",
        "      search_prompt= \"\"\"\n",
        "      I am trying to find pieces of apparel that are similar to what is in thIS picture.\n",
        "      Ignore the-model and only focus on finding the most similar clothing.\n",
        "\n",
        "      I only care about apparel that falls within the category contained within triple backticks:\n",
        "      '''{category}'''\n",
        "      \"\"\".format(category=category)\n",
        "      reference_embeddings = get_img_embeddings(reference_img, text=search_prompt)\n",
        "      #Run an ANN search filtering by apparel category\n",
        "      documents = collection.vector_find(reference_embeddings,limit=3,filter={\"category\": category},include_similarity=\"True\")\n",
        "      show_recommendations(documents, category=category)\n",
        "  else:\n",
        "    search_prompt = \"\"\"\n",
        "      I am trying to find pieces of apparel that are similar to what is in this picture.\n",
        "      Pretend as if there is no model in the image, only clothing.\n",
        "      \"\"\"\n",
        "    print(\"going to call get_img_embeddings\")\n",
        "    reference_embeddings = get_img_embeddings(reference_img, text=search_prompt)\n",
        "    #print(reference_embeddings)\n",
        "    #Run single ANN search across entire DB\n",
        "    print(\"going to call vector_find\")\n",
        "    documents = collection.vector_find(reference_embeddings,limit=3)\n",
        "    #print(documents)\n",
        "    print(\"going to call show_recommendations\")\n",
        "    show_recommendations(documents)\n"
      ],
      "metadata": {
        "id": "_RLYp1M4Bk_S"
      },
      "execution_count": null,
      "outputs": []
    },
    {
      "cell_type": "code",
      "source": [
        "from google.colab import files\n",
        "uploaded = files.upload()"
      ],
      "metadata": {
        "id": "j9Bvz6X-rec7",
        "colab": {
          "base_uri": "https://localhost:8080/",
          "height": 74
        },
        "outputId": "f87cfd90-7176-4807-8bd8-524e41685fe4"
      },
      "execution_count": null,
      "outputs": [
        {
          "output_type": "display_data",
          "data": {
            "text/plain": [
              "<IPython.core.display.HTML object>"
            ],
            "text/html": [
              "\n",
              "     <input type=\"file\" id=\"files-e7247c6d-36db-4c06-8319-3590e4e7f129\" name=\"files[]\" multiple disabled\n",
              "        style=\"border:none\" />\n",
              "     <output id=\"result-e7247c6d-36db-4c06-8319-3590e4e7f129\">\n",
              "      Upload widget is only available when the cell has been executed in the\n",
              "      current browser session. Please rerun this cell to enable.\n",
              "      </output>\n",
              "      <script>// Copyright 2017 Google LLC\n",
              "//\n",
              "// Licensed under the Apache License, Version 2.0 (the \"License\");\n",
              "// you may not use this file except in compliance with the License.\n",
              "// You may obtain a copy of the License at\n",
              "//\n",
              "//      http://www.apache.org/licenses/LICENSE-2.0\n",
              "//\n",
              "// Unless required by applicable law or agreed to in writing, software\n",
              "// distributed under the License is distributed on an \"AS IS\" BASIS,\n",
              "// WITHOUT WARRANTIES OR CONDITIONS OF ANY KIND, either express or implied.\n",
              "// See the License for the specific language governing permissions and\n",
              "// limitations under the License.\n",
              "\n",
              "/**\n",
              " * @fileoverview Helpers for google.colab Python module.\n",
              " */\n",
              "(function(scope) {\n",
              "function span(text, styleAttributes = {}) {\n",
              "  const element = document.createElement('span');\n",
              "  element.textContent = text;\n",
              "  for (const key of Object.keys(styleAttributes)) {\n",
              "    element.style[key] = styleAttributes[key];\n",
              "  }\n",
              "  return element;\n",
              "}\n",
              "\n",
              "// Max number of bytes which will be uploaded at a time.\n",
              "const MAX_PAYLOAD_SIZE = 100 * 1024;\n",
              "\n",
              "function _uploadFiles(inputId, outputId) {\n",
              "  const steps = uploadFilesStep(inputId, outputId);\n",
              "  const outputElement = document.getElementById(outputId);\n",
              "  // Cache steps on the outputElement to make it available for the next call\n",
              "  // to uploadFilesContinue from Python.\n",
              "  outputElement.steps = steps;\n",
              "\n",
              "  return _uploadFilesContinue(outputId);\n",
              "}\n",
              "\n",
              "// This is roughly an async generator (not supported in the browser yet),\n",
              "// where there are multiple asynchronous steps and the Python side is going\n",
              "// to poll for completion of each step.\n",
              "// This uses a Promise to block the python side on completion of each step,\n",
              "// then passes the result of the previous step as the input to the next step.\n",
              "function _uploadFilesContinue(outputId) {\n",
              "  const outputElement = document.getElementById(outputId);\n",
              "  const steps = outputElement.steps;\n",
              "\n",
              "  const next = steps.next(outputElement.lastPromiseValue);\n",
              "  return Promise.resolve(next.value.promise).then((value) => {\n",
              "    // Cache the last promise value to make it available to the next\n",
              "    // step of the generator.\n",
              "    outputElement.lastPromiseValue = value;\n",
              "    return next.value.response;\n",
              "  });\n",
              "}\n",
              "\n",
              "/**\n",
              " * Generator function which is called between each async step of the upload\n",
              " * process.\n",
              " * @param {string} inputId Element ID of the input file picker element.\n",
              " * @param {string} outputId Element ID of the output display.\n",
              " * @return {!Iterable<!Object>} Iterable of next steps.\n",
              " */\n",
              "function* uploadFilesStep(inputId, outputId) {\n",
              "  const inputElement = document.getElementById(inputId);\n",
              "  inputElement.disabled = false;\n",
              "\n",
              "  const outputElement = document.getElementById(outputId);\n",
              "  outputElement.innerHTML = '';\n",
              "\n",
              "  const pickedPromise = new Promise((resolve) => {\n",
              "    inputElement.addEventListener('change', (e) => {\n",
              "      resolve(e.target.files);\n",
              "    });\n",
              "  });\n",
              "\n",
              "  const cancel = document.createElement('button');\n",
              "  inputElement.parentElement.appendChild(cancel);\n",
              "  cancel.textContent = 'Cancel upload';\n",
              "  const cancelPromise = new Promise((resolve) => {\n",
              "    cancel.onclick = () => {\n",
              "      resolve(null);\n",
              "    };\n",
              "  });\n",
              "\n",
              "  // Wait for the user to pick the files.\n",
              "  const files = yield {\n",
              "    promise: Promise.race([pickedPromise, cancelPromise]),\n",
              "    response: {\n",
              "      action: 'starting',\n",
              "    }\n",
              "  };\n",
              "\n",
              "  cancel.remove();\n",
              "\n",
              "  // Disable the input element since further picks are not allowed.\n",
              "  inputElement.disabled = true;\n",
              "\n",
              "  if (!files) {\n",
              "    return {\n",
              "      response: {\n",
              "        action: 'complete',\n",
              "      }\n",
              "    };\n",
              "  }\n",
              "\n",
              "  for (const file of files) {\n",
              "    const li = document.createElement('li');\n",
              "    li.append(span(file.name, {fontWeight: 'bold'}));\n",
              "    li.append(span(\n",
              "        `(${file.type || 'n/a'}) - ${file.size} bytes, ` +\n",
              "        `last modified: ${\n",
              "            file.lastModifiedDate ? file.lastModifiedDate.toLocaleDateString() :\n",
              "                                    'n/a'} - `));\n",
              "    const percent = span('0% done');\n",
              "    li.appendChild(percent);\n",
              "\n",
              "    outputElement.appendChild(li);\n",
              "\n",
              "    const fileDataPromise = new Promise((resolve) => {\n",
              "      const reader = new FileReader();\n",
              "      reader.onload = (e) => {\n",
              "        resolve(e.target.result);\n",
              "      };\n",
              "      reader.readAsArrayBuffer(file);\n",
              "    });\n",
              "    // Wait for the data to be ready.\n",
              "    let fileData = yield {\n",
              "      promise: fileDataPromise,\n",
              "      response: {\n",
              "        action: 'continue',\n",
              "      }\n",
              "    };\n",
              "\n",
              "    // Use a chunked sending to avoid message size limits. See b/62115660.\n",
              "    let position = 0;\n",
              "    do {\n",
              "      const length = Math.min(fileData.byteLength - position, MAX_PAYLOAD_SIZE);\n",
              "      const chunk = new Uint8Array(fileData, position, length);\n",
              "      position += length;\n",
              "\n",
              "      const base64 = btoa(String.fromCharCode.apply(null, chunk));\n",
              "      yield {\n",
              "        response: {\n",
              "          action: 'append',\n",
              "          file: file.name,\n",
              "          data: base64,\n",
              "        },\n",
              "      };\n",
              "\n",
              "      let percentDone = fileData.byteLength === 0 ?\n",
              "          100 :\n",
              "          Math.round((position / fileData.byteLength) * 100);\n",
              "      percent.textContent = `${percentDone}% done`;\n",
              "\n",
              "    } while (position < fileData.byteLength);\n",
              "  }\n",
              "\n",
              "  // All done.\n",
              "  yield {\n",
              "    response: {\n",
              "      action: 'complete',\n",
              "    }\n",
              "  };\n",
              "}\n",
              "\n",
              "scope.google = scope.google || {};\n",
              "scope.google.colab = scope.google.colab || {};\n",
              "scope.google.colab._files = {\n",
              "  _uploadFiles,\n",
              "  _uploadFilesContinue,\n",
              "};\n",
              "})(self);\n",
              "</script> "
            ]
          },
          "metadata": {}
        },
        {
          "output_type": "stream",
          "name": "stdout",
          "text": [
            "Saving myntrashirt1.jpeg to myntrashirt1.jpeg\n"
          ]
        }
      ]
    },
    {
      "cell_type": "code",
      "source": [
        "#reference_image = \"/content/sample_image1.jpeg\"\n",
        "\n",
        "#reference_image = \"/content/zaratrouser1.jpeg\"\n",
        "#reference_image = \"/content/zara_shirt1.jpeg\"\n",
        "#reference_image = \"/content/armani1.jpeg\"\n",
        "reference_image = \"/content/myntrashirt1.jpeg\"\n",
        "#reference_image = \"/content/myntrapant1.jpg\"\n",
        "#reference_image = \"/content/zara_workout1.jpeg\"\n"
      ],
      "metadata": {
        "id": "JutneuJ2r5Ko"
      },
      "execution_count": null,
      "outputs": []
    },
    {
      "cell_type": "code",
      "source": [
        "print(reference_image)\n",
        "find_similar_items(reference_image)"
      ],
      "metadata": {
        "id": "YB0G2v3it2ei",
        "colab": {
          "base_uri": "https://localhost:8080/",
          "height": 966
        },
        "outputId": "5e830c3e-01ec-465b-e2a2-6f46c8f8edf1"
      },
      "execution_count": null,
      "outputs": [
        {
          "output_type": "stream",
          "name": "stdout",
          "text": [
            "/content/myntrashirt1.jpeg\n",
            " ready to load file /content/myntrashirt1.jpeg\n",
            "img_bytes type : <class 'bytes'>\n",
            "img type : <class 'vertexai.vision_models.Image'>\n",
            "Reference image:\n",
            "Selected Categories: None\n",
            "going to call get_img_embeddings\n",
            "embedding: MultiModalEmbeddingResponse(_prediction_response=Prediction(predictions=[{'imageEmbedding': [-0.0236896016, 0.0356282182, 0.0696170405, 0.00501603074, -0.00900954287, 0.0232526734, 0.0150296269, 0.0357618034, 0.0171036739, -0.0246649235, -0.0250481796, 0.00743578607, 0.0135792354, 0.0747958422, -0.0159286503, -0.00224923738, 0.0253776684, 0.000489564438, 0.0398099236, -0.00281910738, 0.0858200192, 0.00271397363, -0.0458734892, 0.0122623602, -0.0548906513, 0.0120308483, -0.0101645, -0.0116291856, -0.0188627243, -0.00851001311, 0.0100838337, 0.0090680616, -0.00868586358, 0.0398379713, 0.00501281349, 0.00644221297, -0.0144699337, -0.00575962709, 0.00546239875, -0.0193713661, 0.00576382224, -0.00174730248, -0.00503114844, -0.0209484342, 0.000110031164, 0.0151400147, 0.00486061862, 0.0235187095, -0.00195889571, 0.0271149576, -0.019847773, -0.0129566537, -0.00656675594, -0.00391087262, -0.00911285263, 0.0312807821, -0.0405559279, -0.000915053824, 0.032757502, 0.0104393605, -0.0101160565, 0.00352074858, -0.00182178756, 0.0067348592, 0.00822455, -0.0496296026, 0.0207597874, 0.0181719176, -0.0129450122, 0.00271167932, -0.00866695121, 0.0304177925, -0.0283110049, 0.038409926, 0.0438381173, 0.0232878048, -0.00771861244, -0.0296666697, 0.0419895798, 0.0331540927, -0.0318386778, -0.00300567714, -0.00185514567, 0.0275381487, -0.0183004867, -0.0175130144, 0.00560310949, -0.00672571, -0.0254108869, -0.00670693954, 0.0171153769, -0.000704251754, 0.0151461856, -0.151509508, -0.00509810029, 0.00649008481, 0.0108119035, -0.00605272641, 0.0366468467, -0.0257524885, -0.00978927, 0.0154755758, -0.049651619, -0.0381843746, 0.0224946532, -0.0140679125, 0.029836176, 0.0141753806, -0.0328676105, -0.0102156419, -0.0191019084, -0.0129180672, 0.00506447814, -0.0373967327, 0.0162029788, -0.0110470504, 0.0455862843, -0.0154171428, 0.00948018767, -0.00197030534, 0.0430325307, -0.00137874542, 0.00136210537, -0.0257274751, 0.00482269563, -0.0172215495, 0.0198927224, -0.0330117457, 0.00430567, -0.01996997, -0.0203471221, 0.0334615037, -0.0275062881, -0.0604047216, 0.00864394, 0.010472348, 0.0128098652, 0.00766698038, 0.00802452676, -0.00634392956, -0.0317206271, 0.0297681261, 0.000830354402, 0.00869063381, -0.0419367738, 0.0161154773, 0.0181363281, 0.0401220098, -0.0250721965, 0.0150297908, 0.030207485, 0.0121248597, 0.0140968254, -0.0325297713, -0.0289543737, -0.0306549687, 0.0222228598, -0.000684199156, 0.0167843495, 0.0177664179, -0.00039873147, -0.0133623173, 0.0226058699, -0.031522043, -0.0126154199, 0.0213900916, 0.025057042, 0.0298747, -0.0335481577, 0.00717593962, -0.00494854385, 0.0249339361, 0.0273170099, -0.0307708886, 0.0451229885, -0.0160534065, -0.0197822377, 0.0433364734, -0.00879769307, -0.0115507422, 0.00144839904, -0.00343716936, -0.00782614853, -0.00628744392, 0.000975843286, -0.0171574764, 0.0141001241, 0.00300915749, 0.0174207538, 0.00967337936, -0.00331489695, -0.00524793286, 0.0151586458, -0.0401254855, 0.0180741325, -0.00708666211, -0.00237588119, -0.0265516415, -0.0172239766, 0.0208902583, -0.0331350081, 0.00604467094, -0.00225574849, 0.0145101976, 0.00623257272, 0.00434771413, -0.0233286582, 0.00447542593, -0.0241158791, 0.0311568659, -0.0178055, -0.0424776338, -0.0206101444, 0.0491379909, -0.0167374574, 0.021161681, 0.038610287, 0.0135217011, 0.0218397863, -0.0210047886, 0.0200333577, 0.0142856743, 0.00992837, -0.0389973037, 0.0327453725, 0.0182598755, 0.00922295, -0.00018777918, -0.0319322683, 0.00321657048, -0.00107695931, 0.01979056, -0.0104914494, -0.00771729462, -0.020640159, 0.0221194271, -0.0312096719, 0.00734721124, -0.0207265839, -0.0571116731, 0.0112788109, 0.0107103456, -0.00392207364, 0.011161874, -0.00715429103, 0.0183153078, 0.00300134043, -0.00162587967, 0.0290440489, -0.00181885983, -0.00516800862, -0.0582890064, -0.0166752115, -0.00673388224, 0.00400564354, -0.0361685343, -0.0108126979, 0.00446969829, -0.0232284348, -0.03493784, -0.0251501352, 0.0192057081, -0.00732472539, -0.00425928645, -0.0242194608, -0.0234312583, -0.00786743872, 0.0410828553, 0.00496243732, -0.0151777314, -0.0257037375, -0.0262134038, 0.0228829626, 0.0778083652, -0.00953063741, 0.0305355377, -0.00910202321, 0.0168754216, -0.0183699187, 0.0911337286, 0.0121542057, -0.0147337569, 0.0206296798, 0.0142385149, -0.027676221, 0.00131332362, -0.186057761, 0.0128442636, 0.00801960751, -0.00269496557, -0.0173575375, -0.0165714975, -0.0017509968, -0.0173268076, -0.0272089504, 5.79496627e-05, 0.018772088, -0.0179932583, -0.00386022963, 0.0135583235, 0.0102520464, -0.0707758591, -0.013605156, -0.00362433773, 0.00650488306, -6.79507866e-05, 0.0243688971, 0.0415569395, 0.00627831509, -0.000113334449, -0.0260221828, -0.0275038686, 0.0113219386, -0.0399262235, -0.0131206494, 0.00763760507, -0.00600673305, -0.0186627321, 0.0127066402, 0.0153210294, -0.0435166024, -0.0403594598, 0.0181162525, 0.0156378411, -0.0240186695, -0.00857860781, 0.0190628804, 0.00810105912, -0.00946586672, -0.0511892177, -0.0294579435, 0.0118574807, -0.0357521437, -0.00163759431, -0.0170605537, 0.034503486, 0.0111704478, 0.000494970125, -0.0224812459, -0.0527463257, -0.00819239393, -0.0106058661, 0.00547331572, 0.00280762138, -0.0178244319, -0.02238537, 0.0190398972, -0.0229091514, 0.0318032876, 0.00164826, 0.0419098325, -0.0371231213, 0.00177307, 0.00360832107, 0.00363328727, 0.000101600031, -0.0441249423, 0.00965814851, 0.0143940942, -0.0251175109, -0.0295375343, -0.00915051065, 0.0286974125, -0.00199973723, -0.027669277, 0.00447523734, -0.0143178105, -0.00893330388, 0.00181459403, 0.0165193826, -0.00272526639, -0.00302375737, -0.0181135591, 0.00451663043, 0.016252853, -0.0331865549, 0.00982880127, 0.0394018032, -0.0149905663, -0.0224843398, 0.00509495381, 0.0186776072, 0.0369709283, 0.00115454535, -0.0107877292, -9.21759274e-05, 0.0100784823, 0.00126506656, -0.0273730028, 0.0178995, -0.0136704, 0.0396686867, -0.0336100571, -0.0376460589, 0.006503704, -0.042346742, 0.0710660517, 0.000202719792, -0.0323552266, 0.0242679324, 0.00745297736, -0.00351360207, 0.0228740573, -0.0261718649, -0.0211301632, -0.00477124145, 0.00496411743, -0.0383686051, 0.0089180693, -0.0130417142, -0.0381997451, -0.00550203398, -0.00464269, 0.0276651904, 0.0039702612, -0.00562283536, -0.00748122949, -0.0045146849, -0.0328173898, -0.00739650289, 0.00450979685, -0.00445167627, 0.00263016927, 0.0221115351, -0.00657633971, -0.00921035, -0.00155814632, 0.0386601388, -0.0174942948, 0.0261240881, -0.00370934256, -0.0422349423, -0.0057549919, 0.0588739552, -0.0425112024, -0.0296127535, 0.0142496098, -0.00427626865, 0.0086045675, -0.0156025281, 0.0166879781, 0.0364562906, -0.00818894804, -0.0357096829, -0.026183635, 0.00826006848, 0.00689036399, 0.00922106, -0.00384298293, 0.0305550415, 0.00496031251, -0.0224753357, 0.0122929979, 0.00909528881, 0.00109674747, -0.0125533044, -0.0341085456, 0.0133282561, 0.0272586532, -0.00299786846, -0.00384548563, 0.0112047605, 0.0493183695, -0.0194082987, 0.0372362025, -0.0469642766, -0.0119371042, -0.0253851227, -0.000567980402, 0.0378578976, -0.0169204753, -0.00734668458, 0.014829305, -0.0140835103, -0.012748397, 0.015158413, -0.0165992379, -0.00848501455, -0.00330667035, -0.00220144191, -0.0077155293, -0.00209582713, -0.00717663392, 0.00534963096, 0.000745682453, -0.031676311, -0.0246882141, 0.0321063027, 0.00598352402, -0.0224167854, -0.0179027282, -0.015387889, 0.00548243383, -0.0350857973, -0.0392904356, -0.00961091835, -0.011789, 0.0263489373, -0.0125076827, 0.00030105788, 0.0220459681, -0.0088643143, 0.018145116, -0.0119915968, -0.0146281347, -0.0510391183, -0.0165907983, 0.016799489, -0.0323992148, -0.0139014749, -0.0124362437, -0.00162271352, 0.0578727797, 0.0192934312, -0.0298365783, -0.0276910402, 0.0280121025, -0.00434203586, -0.015033165, -0.00402665371, -0.0107868947, -0.0180066228, 0.00403416064, -0.00917901937, 0.00130294601, -0.00115834456, -0.0311935302, 0.00798148, 0.00619500596, -0.005488005, 0.020863153, -0.0278311986, -0.00697534531, 0.00292993221, 0.0280844364, 0.00118922943, -0.00655850302, -0.0415951461, 0.0435914919, 0.00724205654, -0.00913013611, 0.0237595085, 0.00744014, 0.0109338984, 0.033086814, 0.00955667347, -0.00760713872, -0.00432738056, -0.0445433557, 0.0328131802, 0.00666809222, -0.000200637209, 0.0105982581, -0.0413357429, -0.0473897308, -0.0293632969, 0.00894865114, 0.0267356653, -0.0230222158, 0.00504253898, 0.021588752, -0.0130905993, 0.00145593705, -0.0194880366, 0.0267523788, -0.00884523895, -0.00622261455, 0.0300290287, 0.0282948297, -0.0107583217, -0.0215053577, 0.0100454763, 0.00901705585, -0.0054300772, -0.00895690359, 0.0129608382, 0.00471439911, 0.00804097205, -0.0247457307, -0.00647386396, 0.0218184311, 0.0367120691, -0.04984935, -0.0337915048, -0.0293000657, 0.0114956833, 0.051439248, -0.0114678405, 0.0165316276, -0.0202338714, -0.0301033836, -0.0539513901, -0.0223815646, -0.0151865035, 0.0161196887, 0.00530016562, 0.0708773807, -0.0178805403, 0.0311088022, -0.00256258668, 0.0182997324, 0.0262584854, -0.062800318, -0.00376149174, 0.00560198771, 0.0119674029, -0.00473352754, -0.0439986847, -0.00796157587, -0.0119570978, 0.0397770256, -0.00512182061, -0.0396804772, -0.0350578427, -0.012984273, 0.0114838043, 0.0103219245, -0.0147756357, -0.0423428267, 0.00243353983, 0.0243618581, -0.00655466, -0.0177250709, 0.000908309477, -0.00782094, -0.0104404986, 0.00136477896, 0.0239805263, 0.0274465065, -0.00689190859, 0.00149012648, -0.0435097031, -0.0226519872, 0.00255474565, -0.0247434899, 0.0202793069, 0.0478119813, -0.0030248682, 0.0315759704, 0.0125124995, -0.0203077942, -0.0124686072, -0.0216030274, -0.0295493286, -0.00333396695, -0.0058713411, -0.0057436456, -0.00592478877, 0.0122818667, 0.0229556244, 0.0203446057, -0.0298731979, 0.00195687474, 0.00920812786, -0.0042928257, -0.00199108687, 0.0230615791, -0.00831417833, -0.0103695104, 0.0105673401, -0.184827179, -0.00697989622, 0.00242566271, -0.0235205162, -0.00942581706, 0.0626737773, 0.0165284444, 0.0133783519, 0.00819688942, -0.0111607369, 0.0130107515, -0.0108447559, -0.265904605, -0.00175527087, -0.00032748052, -0.0304239243, -0.0285451766, -0.0218092743, 0.0133889439, 0.0212447122, -0.0345589519, 0.0104622012, 0.0605622, 0.0475033075, 0.0223786272, 0.0155198993, -0.0446526743, 0.0240341797, -0.0243007243, -0.00524839433, -0.0299112909, 0.0348810218, 0.0241768528, 0.0147804879, -0.0163717195, -0.00466449047, -0.0384934954, -0.0161211826, 0.00158419076, -0.0160420928, 0.0350409485, 0.022157969, -0.0262360331, -0.00828067493, -0.0459051207, 0.00207887962, -0.0140595781, 0.00111274631, 0.026819434, -0.0363496318, -0.00800625049, 0.0409783386, 0.000462770957, 0.00700943824, 0.00707650045, 0.0133594507, -0.0298037883, 0.0342232548, -0.00949023198, 0.0084714, -0.0510446765, 0.0257473271, -0.00907170214, -0.0295964573, 0.0140318964, 0.00589629309, 0.0260375384, -0.00371725974, 0.0148258545, 0.0139206666, 0.0351626724, 0.00811756216, -0.0105714854, -0.0180808548, -0.0187587067, -0.0366214141, -0.00952497683, -0.0292651933, 0.0116711669, 0.0288922153, 0.0410875753, 0.0228721704, 0.0106900586, 0.023960622, -0.00818449166, -0.0212525241, 0.028681, 0.0160619561, -0.104368493, 0.00247908127, 0.00822363608, -0.0285946913, -0.0332154892, -0.0141030056, 0.00214153971, -0.0232654791, 0.0034676739, -0.00900540501, -2.51926722e-05, -0.0306335129, -0.024450995, 0.0346855931, 0.00743195461, 0.0270991158, 0.0283234809, 0.000960467674, -0.0267589614, -0.00492236624, -0.0487638488, -0.00696214428, 0.0206216779, 0.00518844975, -0.0199101083, 0.0313596725, -0.0259384029, 0.00452155, 0.00366278086, 0.00430746889, -0.0542869195, -0.01535815, -0.012023462, -0.00273063267, 0.036955446, -0.0160204209, -0.0126714716, -0.0120349908, 0.0418978781, -0.0163484234, -0.0255554449, 0.0109028341, 0.0266188141, -0.00395796401, -0.00744031509, 0.0560299829, -0.0100095915, 0.038399782, 0.0260437932, -0.048558455, -0.0117811626, 0.0239054039, 0.0154008046, -0.0343478769, -0.0111590801, -0.000896833953, 0.0533803813, -0.00725620519, -0.0507010557, -0.0211249534, 0.0236150213, 0.0269767977, 0.008381675, -0.0410536416, -0.0413524471, -0.0409656689, -0.0116485721, -0.00490416447, -0.00358238025, -0.0767720863, 0.0322923958, -0.0474298708, -0.0197906345, 0.00415375922, 0.0686612055, -0.012004544, 6.48369678e-05, 0.00603615912, -0.0246878061, -0.02408823, -0.022601096, 0.0068522, 0.0296958238, -0.0196652524, 0.00763025461, -0.00860793, -0.0311347544, 0.00650140643, -0.00391608896, 0.0340168439, 0.0130956741, -0.000109792927, -0.000224097763, -0.070652239, -0.0320453718, -0.0206257012, -0.00546622556, -0.0316030346, 0.011404356, -0.00806705933, -0.0131115355, -0.0313476585, 0.00555949099, -0.0215509292, 0.00967910141, -0.0292729363, 0.0102715427, -0.00952835847, 0.00984826125, -0.00913383, -0.00285828649, -0.0381425209, 0.00138530275, -0.0203201678, 0.0306770708, 0.0226252228, -0.0434360914, 0.0022437165, 0.00840334781, -0.011017588, 0.0203999113, 0.00483377976, 0.0284199622, -0.00115099188, -0.0197274201, 0.00121729972, 0.0346295424, -0.0131005179, -0.0136917206, 0.00670327526, -0.0110313548, 0.0268335361, -0.0268971864, -0.0110852346, -0.0206667352, 0.00122988806, 0.0094123967, 0.00422196323, -0.000499008, 0.00571803283, 0.0159070659, -0.0274330247, 0.0501965322, 0.0097484244, -0.0125309806, 0.000553582155, -0.00793563575, -0.0365996845, -0.0138383191, -0.0254342798, -0.00919235405, -0.00451089488, 0.0175120309, -0.0218686834, -0.0232269187, -0.031814184, 0.0223455634, -0.0221422687, 0.000573882775, -0.0242856089, 0.0174069498, -0.0223020874, 0.0247650705, 0.124225833, -0.0345965438, 0.0273200702, 0.0109560136, -0.0012060611, -0.0123456195, -0.008472207, -0.0141546587, -0.00775817083, -0.00826667342, 0.00781467278, -0.00323698809, 0.0306838285, -0.00613267673, 0.0182178393, -0.012057378, -0.0190944914, -0.0157003533, 0.0150897121, 0.00577702932, -0.0217779092, 0.0176521633, -0.0118893394, 0.0129093984, 0.0167268142, 0.00199895119, 0.00701919803, -0.0339077674, -0.057874877, -0.0298624914, -0.0230432525, 0.00499971956, -0.0154046696, 0.0191119518, -0.0263717342, -0.0140313851, 0.00260723336, 0.0273118429, 0.00946299266, 0.0127792275, -0.00783470925, 0.0287903249, -0.0110958936, -0.00598605676, 0.0215583611, 0.0167264026, 0.0238860883, -0.0161855929, 0.00816268846, 0.0335146114, -0.0187889058, -0.0127304159, 0.050742086, -0.0148979491, -0.0170929916, -0.0258924495, -0.0466051325, 0.0528265275, -0.0460670032, 0.000275082042, -0.026106583, 0.0153218228, 0.00138084439, -0.0416623168, 0.0102855414, 0.0302610397, -0.0212549809, 0.0083922958, 0.0218311809, -0.0158553682, -0.010400339, -0.0177129433, 0.0118811391, -0.00601941068, -0.00547314435, 0.007337227, 0.0303470101, -0.0209316891, -0.0162142664, -0.0432061255, 0.0100235222, 0.00214011222, -0.0256164148, 0.0219576228, 0.0170184504, -0.00960072502, -0.018968977, -0.009692383, 0.0566336289, -0.00718616508, 0.0665547624, 0.0199246593, 0.00445640925, 0.0234260894, 0.0118676126, -0.000446826511, 0.00749088405, 0.039225474, -0.017506551, 0.0175687727, -0.0184995625, 0.0393113941, 0.0048574442, -0.00541239092, 0.0151993623, -0.0113921035, 0.00968641229, 0.0169220846, -0.00975621119, -0.0297150724, -0.0255386382, -0.000817921537, 0.00926435087, 0.00721118553, 0.0191671588, -0.0235639364, 0.00577078946, -0.018800417, -0.0383786745, -0.0289669484, -0.0197127536, -0.027023064, -0.0188591685, -0.0211347155, 0.00262766681, -0.00659447256, 0.0121315988, -0.002460405, -0.0255249161, 0.015327299, 0.0379290581, -0.0172332972, -0.0284817833, 0.0280738175, -0.029357763, -0.0422308, 0.0140539873, -0.00326427096, -0.0339173637, -0.00303397723, 0.0190513525, 0.00728659611, -0.00411653286, 0.018705992, 0.0440366045, -0.00807149, -0.0540736467, -0.045709759, 0.00744005758, 0.0393584184, 0.00147406349, 0.0322162583, -0.0180938449, 0.00689786486, 0.0160430055, 0.0462388769, -0.000261292211, -0.0311474074, -0.042664513, 0.00311535015, -0.00597611442, -0.0222897734, -0.0211524032, 0.000288278854, -0.0112374462, 0.0417795628, 0.00795519259, 0.0113188541, 0.00632365653, 0.0149564166, -0.0472236387, -0.00437642122, 0.0299363546, 0.0142820207, -0.0110779824, -0.00933198817, 0.0349223427, 0.0133968424, 0.00970731676, 0.00530518638, 0.0115677016, -0.0414296091, -0.0119962245, 0.00646354817, -0.0155814914, -0.0237737931, -0.0271325465, -0.0120522156, -0.0313919857, 0.0379001535, 0.0175088197, -0.0321639888, 0.0290101636, 0.00597330229, 0.0150845787, -0.0176861323, 0.0126635814, -0.0177944414, 0.0192040727, -0.0202083513, 0.00993661396, 0.0524791628, -0.0264010932, 0.00926786754, 0.0126110921, -0.0323211662, 0.00985067151, 0.00961482152, 0.000605669222, 0.0304524601, -0.0113745034, 0.0116352551, 0.0386316255, -0.00634462107, -0.00237306091, -0.0428721793, -0.0241881013, -0.00948186126, 0.00526448153, 0.0168316793, 0.0107315462, -0.00830418896, -0.016057767, 0.006440931, -0.0130593674, -0.0393197536, 0.0135789979, 0.0165583771, 0.00463187834, -0.0323233642, -0.0563258566, 0.0430072, 0.0236290451, 0.0550105907, 0.0115037207, -0.0504386388, 0.0154220611, 0.0145220775, -0.0247375499, -0.0438336432, -0.0375884436, -0.0264030565, -0.00693815388, -0.0280407649, 0.00548198912, -0.0189957079, -0.00226536556, 0.00311640278, 0.0214027632, -0.00522478623, -0.0103118103, 0.00884766, -0.127497315, -0.0342766307, 0.0391520038, 0.0423885919, 0.0345509425, -0.0121341581, -0.0291435439, -0.00694615208, 0.0135271084, 0.0269439258, 0.0296898913, -0.00832821243, 0.00998347346, 0.00829745363, -0.012215578, -0.0117966663, -0.0274603646, 0.000105860396, 0.0228359327, -0.0159757081, -0.0232222229, -0.0485714637, -0.00801388081, -0.0181177426, 0.00300279, -0.0155900167, 0.067925185, -0.0236273631, -0.00907271, -0.0160081442, -0.00762124686, -0.00210622512, -0.0135159763, 0.0112101417, -0.0247417968, 0.00271977438, 0.0160962306, 0.000552568876, -0.0591515079, -0.00485671498, -6.2056235e-05, -0.00414889678, 0.000776388275, -0.0417081974, -0.0145566501, -0.00734119909, -0.017116962, -0.0681040511, -0.0110671362, -0.0407237597, -0.0187073983, 0.00230192533, 0.0500940196, -0.0303241275, 0.0157205649, 0.00619904324, -0.0312343799, 0.000662120117, -0.00354154757, -0.011212334, -0.00105424237, -0.00141912897, 0.013752006, 0.0105783846, -0.0209584143, -0.0269074757, -0.0207655746, -0.0116911102, 0.0119180381, 0.00126352895, -0.0206923671, -0.024173649, 0.00545561733, -0.00174096413, -0.0135691604, -0.052137889, 0.00314111426, 0.00299115176, -0.023162147, -0.0230383817, -0.0308524687, 0.00767000299, 0.0157957114, -0.0150712691, 0.0157579333, 0.042000249, -0.0155955525, 0.0658609271, 0.0114851389, -0.0063927318, 0.0106485914, 0.0198305249, 0.00972917303, -0.0459180735, 0.0110421041, -0.0103375642, -0.0405440927, -0.00765379891, -0.0206851214, -0.0454417, -0.0183585435, 0.00866295863, 0.00314219738, 0.0238705128, 0.0166850798, -0.00500889076, -0.00407200679, -0.00271586445, -0.0173031744, 0.00477255788, 0.0281410702, -0.0269413944, 0.0435027778, -0.023567237, 0.0130369142, 0.0293565411, -0.0135540823, -0.00402825512, -0.013653324, 0.00983207393, -0.0269305035, -0.015544815, 0.0387116596, 0.0308859833, -0.0213539265, -0.0442404635, -0.00716996333, -0.0353343375, 0.00280006067, 0.00424286257, -0.0287895408, 0.0293003656, 0.0429492146, -0.00318838959, -0.00802237168, 0.00676927203, 0.00681731943, 0.0216941219, -0.0415821932, -0.0206841435, 0.00173547468, -0.0219580885, 0.00557276281, 0.0225128885, 0.0182453562, 0.00117215444, -0.023830995, 0.00110400771, -9.21466199e-05, -0.031178968, 0.00548202498, -0.0215082094, -0.0176533256, -0.00657586241, -0.0136696082, -0.00564602669, -0.0437902287, -0.0668486208, -0.060786847, -0.0132477069, 0.00101168011, -0.0358441882, -0.0397621207, 0.0083663566, 0.0131788459, 0.0341355316, 0.0195025653, 0.0801153705, -0.02633374, -0.000140815682, 0.0440377407, 0.00268360553, 0.017730454, -0.00197366765, -0.00112534116, 0.0314855613, -0.0087313, -0.0641605556, -0.00336392527, 0.00927768275, 0.00106791698, 0.0283026472, -0.00246280851, -0.0216123946, -0.0138481818, 0.00801969413, -0.0104382345, -0.0223204438, 0.0210490972, -0.0210282169, -0.012028099, 0.0306334849, 0.000244609138, -0.0128069548, -0.00520562241, 0.0295056049, 0.037308909, 0.0382756144, 0.00555858063, 0.0359536968, 0.0187346488, 0.0162516534, -0.00224073255, -0.0187543239, -0.0148363858, -0.0356487259, -0.00242036511, -0.00334975333, -0.0370509438, 0.000790188846, -0.0136607913, -0.0397135504, -0.0241989437, -0.0272525698, 0.0485889502, 0.00261012116, -0.00729377614, 0.0110446122, 0.0372010618, 0.000315077603, 0.000609919545, 0.0327707678, -0.0331436321, -0.0182919148, -0.0148818512, -0.0155633138, 0.00379619515, -0.00235738466, 0.0102694873, -0.00436681462, -0.0219307747, -0.00800209865, 0.0234198682, -0.0490035191, -0.0352773406, -0.00647006836, -0.0253951196, 0.0088939, 0.0320685059, 0.0370657258, 0.00438834075, 0.00120645727, 0.0205194298, 0.0435775183, 0.005858914], 'textEmbedding': [-0.01369939, 0.00507034222, 0.0306655094, 0.0140127474, 0.0166214053, 0.0177796353, -0.00224110601, 0.00889904797, 0.0156262014, 0.00539854309, 0.045914039, 0.000119304052, -0.0033782206, 0.0160696618, -0.00240984256, 0.0233479645, 0.0112553956, 0.0224828906, -0.018139299, 0.0354996547, 0.037047267, 0.0123404628, 0.00280312938, 0.00681179296, -0.00828229636, -0.0163130034, -0.0103054205, -0.0153088653, 0.00380584551, 0.0218121652, -0.0217704494, 0.03481327, 0.0148413992, -0.0116872722, -0.020796556, 0.00496687274, -0.000735312293, -0.00300116907, 0.0135989413, 0.008135763, 0.00481555378, 0.000428608328, -0.00395168737, -0.0152210528, 0.0107062, -0.0142546603, 0.000664914434, 0.015609378, 0.0162868518, 0.00543072913, 0.0146236047, 0.00289237942, 0.0332885049, -0.0143061969, -0.0103026535, 0.0199049916, -0.00365066039, 0.0035278562, 0.000574087, 0.0032494748, -0.0147378072, 0.0332371555, -0.015808614, -0.0191747323, -0.0263129491, -0.0130165722, 0.00704805227, 0.0200002603, -0.00955527928, 0.0127256541, 0.0197042301, -0.00996899791, 0.00878285151, 0.00950476807, -0.00239581475, 0.027652489, -0.00862697233, 0.0149249379, 0.026586, -0.0290803667, 0.00961297, -0.0179784857, -0.0144370114, -0.0215614252, 0.00839442853, 0.0194080528, -0.0197126046, 6.72704482e-05, -0.0327099375, -0.0116557619, 0.00748787308, -0.00332932919, 0.0119632967, -0.0010177017, -0.000521990471, -0.00834692921, 0.0412239805, 0.0111673595, 0.0153457578, -0.00746858213, 0.0151253259, 0.000299766572, -0.0285518505, 0.0111273052, -0.00142561086, -0.00870992, 0.0312827, 0.0160212461, -0.00867032632, 0.0157199986, -0.0135029694, 0.0164471492, 0.0112806298, 0.00168734451, -0.0027356802, -0.0241614059, 0.00890234113, -0.0052836393, -0.0099852439, -0.00707405154, 0.00158325944, 0.0199946519, -0.0171481855, -0.0252580233, 0.00296614319, -0.00946215075, -0.0101595884, -0.00122355, 0.00833758805, 0.0276473165, 0.0105375024, 0.0201195665, 0.0301117264, -0.0127367442, 0.0214229096, -0.0162269399, -0.00135622825, -0.0156791341, 0.0165533535, 0.00741011743, 0.0277630147, -0.022490114, -0.00200510211, -0.0161814261, -0.00515047042, 0.0219549648, 0.00853183307, 0.00630995678, -0.00369331939, 0.0291914549, 0.0112250354, -0.00284232618, 0.0124569749, -0.0189842749, 0.00592222437, -0.00246900134, 0.00435445365, 0.0146015696, -0.0284340363, 0.0160087068, -0.0246484634, -0.0171018708, 0.00310744136, 0.0241675638, -0.0171194151, 0.0100110965, 0.0111300945, 0.0100592254, 0.00362233492, -0.0222235192, -0.00100308319, 0.0011356594, -0.0383754335, 0.0230116937, 0.0166613609, -0.00270575425, -0.00682514813, 0.0381040163, -0.0136802783, 0.0169437379, 0.00549715292, -0.0011084181, 0.0150552746, -0.006589178, 0.00371086388, 0.0301928427, -0.00784999318, -0.00784286, 0.00485408586, 0.0222932156, 0.0261001233, 0.0100947302, 0.00759580871, 0.0139026884, -0.00537367165, 0.0285569858, 0.0282699596, 0.0126829436, 0.00767309731, 0.0373142287, 0.0102810422, -0.0123117706, -0.00570401782, -0.0231127664, 0.0151840933, -0.00639773672, -0.0238048173, -0.00551788462, -0.01512584, -0.00407869741, -0.00119657849, 0.00720488559, 0.00106803502, 0.00609756634, 0.000665794825, 0.0201339293, -0.00223627663, -0.00242312672, -0.00634904625, 0.0158954803, 0.00132745947, -0.0116076153, -0.0054477728, 0.0271255951, -0.00826728716, -0.0199036188, 0.0151839154, 0.0184053481, 0.0273403, -0.00154971867, 0.0309299547, 0.0340081379, 0.00462082354, 0.0160925668, -0.0352102146, 0.00696576294, 0.0318873711, -0.0124613121, -0.0312955827, 0.00471608806, -0.0163436066, 0.011410974, 0.00458379183, 0.00423006481, 0.0166734923, -0.0084298281, -0.00296830456, 0.0111056939, 0.0166265834, -0.0133619737, 0.00767342281, 0.00769957062, 0.00245829322, 0.00187060144, 0.00132316537, 0.0152996574, -0.000916698831, 0.00868723, 0.00879967, 0.0400443561, 0.014994774, -0.0162162427, -0.00359499478, 0.000355360215, -0.0165475197, 0.0196037889, -0.0231089592, 0.0260538608, -0.014617864, 0.0113242585, -0.00817444455, 0.00992829725, 0.0172009133, 0.0218453277, -0.0158233866, 0.0102548664, -0.0397207, 0.0211636741, -0.0239344276, 0.0115085095, -0.0175172798, 0.00297286757, 0.007382893, 0.0284369234, 0.00432871887, 0.0276499838, -0.00015850013, 0.0283634607, -0.0163969602, -0.0242537968, -0.0259161722, 0.0318805203, -0.0201144218, 0.00360030262, -0.0118694352, 0.0218287949, -0.0127923805, 0.0134042241, -0.0100433007, 0.042500034, 0.000468162674, -0.00735918432, 0.00260212296, 0.00857649744, -0.0108125731, 0.00174243923, 0.0317625701, -0.0248389896, 0.00553062558, 0.00452206749, -0.00336324377, -0.019839095, 0.0149125978, -0.0441200696, -0.0142797297, -0.014023236, 0.0269908085, 0.0165898893, 0.0169769693, 0.0141864317, 0.00160947186, 0.00792122912, 0.0333897322, -0.00640080078, -0.0249834228, -0.00396473845, 0.013693749, 0.00172306492, 0.00019297238, -0.0163586866, 0.00650186418, -0.0159461424, 0.0212501045, -0.0197427087, -0.0126313251, 0.0384224355, 0.000400614488, 0.000769296894, 0.00490182685, 3.8951348e-05, -0.00998464599, -0.0218721777, 0.0295867119, -0.00943217333, -0.0091159353, 0.00461748289, -0.00381279853, 0.0151845571, -0.0110702878, -0.0123139052, 0.0166696534, 0.000876356207, -0.0162325501, -0.00912174489, 0.0139555801, 4.70034502e-05, 0.0308552682, 0.0144143486, 0.00155831524, -0.010124418, 0.00677349, -0.0203166083, -0.00791449752, 0.0245912317, -0.0153451506, -0.003480274, 0.00692705298, -0.00967003871, -0.0255427845, 0.005939255, 0.0135865817, -0.0143642863, 0.0109065603, 0.00703936862, -0.00394908246, 0.0107845608, 0.0100144036, 0.00747711258, 0.0050954856, 0.022850845, -0.0253337342, 0.0066876132, -0.012199766, 0.0291007701, 0.0326842926, -0.00943816826, -0.0151621848, -0.0133621227, 0.0205120761, 0.00830968283, -0.00100058725, -0.014784514, 0.0166570973, -0.0104357498, 0.00158494187, 0.0120660774, -0.00284761027, -0.018075306, -0.00365320966, -0.0120785516, -0.00599336438, -0.00185400178, -0.0016556409, 0.0183999352, -0.0019547618, 0.0257755183, -0.0131508345, -0.0112317242, -0.0246963, -0.0153135601, -0.0330848768, 0.0112680513, -0.0144524556, -0.0106290514, 0.00567980902, 0.00609845947, -0.220794246, -0.00463403622, -0.0122951437, -0.00451954966, -0.0191465076, 0.00444365572, 0.014508564, 0.00783574209, -0.00410970347, -0.0172531791, -0.00221188692, 0.0166666694, -0.00209054, -0.0061684656, 0.0223935097, -0.0373733118, -0.0289921183, 0.00597999571, -0.00623076037, 0.0312692262, 0.0323243588, 0.0157130249, 0.0127676474, -0.231353745, 0.00203917269, -0.0165745281, 0.00255193701, 0.00863283128, -0.007759172, 0.000570572272, 0.0147195458, -0.0204704143, -0.0141247083, 0.0234390274, -0.0129018063, 0.00600450393, 0.0142789688, -0.00368607813, 0.00994398538, 0.0162215848, 0.0124833211, -0.0238774735, 0.00845417846, -0.00933164451, 0.0271758344, 0.0243887212, 0.00137757277, 0.00964843482, 0.00261947257, 0.0121601922, 0.00560365804, -0.0204877853, 0.00306832418, -0.00965227373, -0.00289846538, -0.222628102, -0.0167738609, -0.0159749277, 9.27452129e-06, -0.0195831638, -0.00253097434, 0.00940230861, 0.0015291184, 0.00550382631, 0.0122079095, 0.015904488, 0.0040326044, 0.0277500022, 0.00228198338, -0.0146176498, 0.0106381048, -0.00682555651, -0.0168628469, -0.00520636654, -0.00860715285, -0.0168668963, 0.0256756023, -0.0126984157, 0.0137336906, 0.00767197181, -0.0326879, 0.0184888337, -0.0217754878, -0.00492527429, -0.00560734328, 0.0250911918, 0.00424060691, 0.0168136954, 0.00315496745, 0.00161949766, -0.0205303393, 0.00559551455, 0.0335517935, -0.0142425876, 0.0127759948, -0.000779049064, 0.00506811449, 0.00098542776, 0.00547077646, -0.0147766676, -0.0132217212, 0.0113669746, 0.0160399713, 0.0271485075, 0.0264917631, 0.0279034041, -0.025630381, 0.00772798248, 0.0188767612, -0.000626259, 0.00681453617, -0.0184443537, 0.022153087, 0.00149120938, 0.00936500635, 0.0139155416, -0.00813096948, 0.000806402822, 0.00461943261, -0.0132865654, -0.0191132035, -0.000370723079, 0.00490342546, 0.00534722814, -0.0275206473, 0.0327815451, -0.00145096856, 0.0450942479, 0.0194581021, 0.0070701628, -0.00667819148, 0.0155338459, -0.00376940449, 0.0105888024, 0.00263463706, 0.0302414969, 0.0139903761, 0.0237196982, 0.0108069936, -0.0059791496, 0.00877019204, 0.00573092373, -0.0304008145, 0.0212532394, 0.00113852695, 0.00885448698, 0.0231905542, 0.0267617665, 0.0110923927, 0.0180721544, 0.0151220523, 0.0103253033, -0.00566923665, -0.0229257531, 0.00035277268, 0.0217013452, -0.00241013966, 0.00970340427, 0.00275848131, -0.00492739, 0.0232502, 0.0267526954, 0.0587335825, -0.00262526167, 0.0288574398, -0.0153262317, 0.0318647847, 0.0386404023, -0.00140614423, 0.0026140525, 0.0156121161, 0.0216806363, 0.00272753718, 0.0124983378, 0.0184759665, 0.00501080602, 0.0112668974, 0.00615155604, 0.00680752145, -0.012583591, 0.0191311091, -0.00309897331, 0.00237368862, -0.000294717931, 0.0028757744, 0.0121429553, -0.0113971848, -0.00280189444, 0.0161394626, -0.00174643018, 0.00700232759, -0.0114691146, -0.0135451509, -0.00580359902, 0.0239784382, 0.0200299136, -0.0242236182, 0.0203929786, 0.0208962727, -0.00357880536, 0.0202620346, -0.0186639521, -0.00512448652, 0.000542701571, 0.013768998, -0.222960398, -0.0211719349, -0.0204948373, -0.191161603, 0.018292157, 0.0341668725, 0.0172459949, 0.0226765331, -0.0305837821, -0.00833126437, 0.00172767893, 0.00381987891, -0.0106930751, -0.00371898059, 0.0241826512, -0.0185139086, 0.000279947533, 0.0113741336, -0.00519839255, 0.0209242031, 0.00733022485, -0.00700998446, 0.0203932412, -0.0157515, 0.00577165326, -0.0105951084, 0.0181022976, 0.0167090017, 0.000927328132, 0.00165232038, 0.0198884942, -0.0184796341, 0.0434897617, -0.00746314, 0.0110578509, -0.00880575739, -0.00576963183, 0.000134765272, 0.014118799, 4.16821495e-05, 0.00704357959, 0.0162467677, -0.0022676643, 0.0163631346, -0.0169316716, 0.00717461389, 0.00862024631, -0.0179115664, -0.0190468729, 0.0253630169, 0.00914026704, -0.00604584394, -0.0009360002, 0.0234067272, 0.0104284771, -0.00556138949, -0.00449386425, 0.0326995924, -0.00340668717, 0.0287285075, -0.00214142795, -0.00163749547, 0.0247330647, -0.0247727018, -0.0195454378, 0.0162194148, 0.00514898961, 0.0315160751, 0.00681271823, -0.0067805578, 0.0454584397, -0.00513270544, 0.0132453619, -0.00863847509, 0.00955485832, -0.0253192931, 0.00986977, 0.0202855896, 0.00334344804, -0.00168557093, 0.016394591, 0.00292278873, -0.0073812753, 0.0149437794, 0.0298063476, 0.00866972655, 0.0287806131, 0.00232872204, -0.00718995323, -0.00684668077, 0.0226489622, 0.0114285247, 0.0055587138, 0.0115986923, 0.0119635994, -0.00528619858, 0.00625022175, -0.00158464629, 0.00755695673, 0.00552790519, 0.00152467878, 0.0025783137, -0.00541670946, 0.00723402668, 0.00235252129, 0.0244956464, -0.00679667, -0.00627864897, 0.0292897373, -0.00561607769, 0.00556460302, 0.0137218218, -0.0123224733, 0.00376015529, 0.0185832437, 0.0153912054, 0.0171489473, 0.0143761877, 0.0114493323, -0.000256298896, 0.00480210362, 0.0182772651, 0.00397991808, 0.0248794649, 0.015100454, 0.0180235598, -0.0130333323, -0.000519669149, -0.0135277472, 0.00566503871, 0.00645282771, -0.0119592389, 0.0186573192, -0.0119047584, -0.00359830423, -0.0156497695, 0.0264182091, 0.00743204402, -0.019857496, -0.0137350885, 0.00604494382, -0.00331760454, 0.00941878837, -0.0100568272, -0.00592069607, 0.000934462121, -0.00416479586, -0.0062330896, 0.0259700958, 0.0250700545, 0.0466167033, -0.0124459807, 0.00994368084, 0.0218614768, 0.0116298487, -0.000268119271, -0.00411139755, 0.0805682093, -0.025231231, 0.0159834325, 0.0083058048, -0.000573474565, -0.0141588273, -0.00697688712, 0.0101503888, 0.0290558431, -0.020701522, 0.0165893268, -0.00980041176, 0.0272631198, 0.00485134311, -0.00995561667, 0.00416617561, 0.0130872028, 0.0201964248, 0.000855876424, -0.0149930557, -0.00814997405, 0.025206551, 0.0242034178, -0.0110378582, 0.022298852, 0.0125923762, -0.0055912789, -0.00460679876, 0.011407814, -0.00824920926, -0.00603128225, 0.0135571305, 0.0254894868, -0.000268203527, 0.00152729708, -0.012973574, -0.0054389392, -0.012557378, -0.00290674157, -0.0155148385, 0.0443412438, -0.0185439, 0.0315190963, -0.00164649705, 0.0149326231, -0.00888906419, 0.0157649219, -0.00467696926, 0.00388299325, -0.0136448694, 0.00291750953, -0.00621722359, 0.000925053144, 0.0242026206, -0.0057143122, 0.00943049509, -0.0221436, 0.0254792757, -0.0173710156, 0.0764093176, 0.0252068844, -0.004664612, 0.0252259858, 0.0135352286, -0.013248465, -0.00383155909, -0.00933681056, -0.00280920812, 0.00793778524, 0.00438061357, -0.00998395681, -0.00527293468, -0.00440080371, -0.0184603836, -9.24473716e-05, -0.00041339951, -0.00476636738, -0.0270479694, 0.223999634, 0.0391791463, 0.0292898025, -0.0267834514, -0.0057177539, 0.0125680268, -5.90703603e-05, -0.00104127, -0.0169875864, -0.00940741599, -0.00910910498, -0.0224970151, 0.00486817537, -0.00247663143, 0.0247224942, 0.00264232326, -0.00481051533, 0.0104691, 0.0391833447, 0.00897451, 0.00378534873, 0.0117932009, 0.0268109459, -0.00450915657, 0.032831084, 0.00614221208, -0.00499389041, 0.0130287269, 0.0198381525, -0.0250617936, 0.0107990559, -0.0103800632, 0.0240465403, -0.00705984514, 0.00287503935, 0.0093074562, -0.00244787661, -0.00552914198, 0.0206650496, 0.0168857, -0.00797822606, -0.00304987724, 0.0217728335, -0.0427235663, -0.00136477698, -0.000284917507, 0.0113469912, 0.014042832, 0.0129957739, -0.031315729, -0.0197472535, 0.00698776683, 0.00435969885, 0.0185942911, 0.0299551804, 0.0402360596, 0.0108966669, -0.00613529095, -0.0122435037, -0.0133723384, 0.022795219, 0.0175225381, 0.0163328853, 0.012822981, -0.0277823675, -0.00315146078, 0.0279980674, -0.0206715968, -0.011524491, 0.0158438906, 0.00629777275, -0.002174675, -0.0204714816, -0.0014384205, 0.0227126461, -0.0189583879, 0.0322822928, -0.0319383852, 0.0127205793, 0.00458356505, 0.0185698234, 0.0263096225, -0.00607819809, 0.00686548837, -0.00179028464, 0.00644918159, 0.0165212285, -0.00157984532, 0.0370912254, 0.0165448301, 0.00409790361, 0.0171388574, 0.000993969617, 0.0336020179, -0.025744101, -0.010641003, 0.00416155, 0.0317627676, 0.00361764384, 0.0117253764, -0.000247499382, -0.00246107439, 0.0139737939, 0.00475933868, -0.00249883393, 0.00795016252, 0.000104521052, -0.00465417514, -0.0164884888, -0.0258060694, -0.00227541267, -0.00382384541, -0.00274285534, -0.00567692, -0.000451617932, -0.00145303737, 0.0173595, 0.0103471363, 0.0140854307, 0.0328413881, -0.00021797129, 0.0222176686, 0.0167573635, 0.001833266, 0.0153836869, 0.0469371714, -0.00833023, 0.00881483778, -0.0107982429, -0.0046392139, 0.0171781816, -0.0157688875, -0.0426043496, 0.0093619125, -0.0179308672, 0.0158771668, 0.0129310787, 0.00177563436, 0.0212822817, -0.000844245602, 0.00464618765, -0.000786182587, -0.00195839349, -0.00303268177, 0.0414158404, -0.011101421, 0.0249428321, 0.00477509201, -0.00334195443, -0.0158717316, -0.00299344375, -0.00841517188, 0.00221045199, 0.0140419332, 0.0172031522, 0.00249167881, -0.0117397811, 0.00571018457, 0.00284194271, 0.0186581314, -0.00244241301, 0.0118193626, 0.0116327498, 0.0463388115, 0.025708288, 0.0218270924, -0.0179291535, 0.0333231874, -0.028761344, 0.00987981074, 0.0244551264, 0.00368457148, 0.017150959, 0.00673121028, 0.000660063466, 0.0110533768, 0.0248050094, 0.00757763302, 0.0233796686, -0.00574497273, 0.00134571933, 0.0214188583, 0.00497961603, 0.0136838779, 0.00355204567, 0.013302451, -0.014154138, 0.00158589135, 0.0191954598, 0.0150782624, -0.00983823184, -0.00680188648, 0.0195773523, 0.00171192351, -0.00796085317, -0.0132844765, -0.00130634767, -0.245715275, 0.0113870176, 0.0143444631, -0.00568405725, 0.0247878376, -0.00221273722, 0.00457521388, -0.00605641026, -0.00634554, 0.023873765, -0.0199355986, -0.00352518144, -0.0184472799, 0.0146852778, -0.00636779377, -0.00460161036, -0.0189697724, 0.0200090334, 0.0208479, -0.00367945014, -0.00423545437, 0.00114671735, 0.0168698095, 0.0201810803, -0.00996142533, 0.218350351, 0.0305378903, 0.00966956373, 0.00536565855, 2.18275054e-05, 0.00121151959, 0.00188701204, -0.00400859769, -0.0107698087, 0.0102253295, -0.0162292104, -0.0143794408, -0.00682462659, 0.0371908508, -0.00559402956, 0.0108100222, 0.00576888165, 0.0198197924, 0.0086312294, -0.000487990561, 0.00939172879, 0.0200185906, 0.0190047193, 0.0175830591, -0.0165835321, 0.00529965619, 0.016489828, -0.00440218346, 0.0188067276, 0.0179814473, -0.0102068018, 0.0279383622, 0.02950342, 0.010623388, 0.0187427122, -0.0126448805, 0.0127828112, -0.00819033943, -0.00308067724, 0.00899674371, -0.0258663855, -0.0219066981, -0.0168310776, 0.0106686661, 0.22673431, -0.0209494084, -0.0209063143, 0.0203318577, -0.00801697187, 0.0149593307, -0.0175564475, -0.00725674257, 0.0195127223, -0.00440142211, 0.00551027432, -0.00315441051, 0.0227186885, 0.00237702252, 0.00599973975, -0.00284320349, -0.000616509351, 0.021642575, 0.0153197041, -0.0256920271, 0.00377826602, -0.0223874543, -0.0102944504, -0.0192203149, 0.00108609174, 0.0270237681, 0.00114827033, 0.0167446937, -0.00925561, 0.0104765035, 0.0147854118, -0.0287145805, -0.0182621721, 0.00191914558, -0.00793426484, -0.00356767885, -0.00676622288, 0.00699638482, -0.0158010032, -0.226710573, 0.00629207306, -0.0126011735, -0.0126867397, 0.0156365223, -0.0174988601, 0.0121443123, 0.000825958617, 0.153823823, 0.00890946575, 0.00177524739, 0.0143718282, -0.0261651166, -0.00833302457, 0.00237096497, -0.0102856886, -0.0169793107, -0.0215322133, -0.0167380404, 0.0146894883, 0.0155440466, -0.000936854805, -0.0160557162, -0.0113407336, -0.00244330196, 0.00904586539, 0.0120671894, 0.0295897536, 0.033890672, 0.00542051811, -0.00905443, 0.0355892144, -0.219220489, -0.0039520124, 0.000506160082, 0.00557355955, -0.00561513472, -0.00843596552, 0.00763275754, 0.0139152696, -0.00148251443, 0.00675623, 0.0146089038, 0.00554304291, -0.00343061076, 0.0155450115, -0.0229220986, -0.223133475, -0.0157753639, -0.00360564818, 0.0307583772, -0.00221061311, -0.00144295138, 0.0255934522, 0.00329105346, -0.00757349515, 0.00510883518, 0.00747482, -0.00788885076, -0.00808734354, 0.0143551249, -0.00045517931, 0.00140219671, -0.0087101208, -0.00583273685, 0.00874435809, 0.00803193171, 0.0179246552, 0.00255580689, -0.00652164873, 0.0255182218, -0.00147063448, -0.0147682512, -0.00373547641, 0.00184910907, 0.0208939556, -0.00175321195, 0.013493347, 0.0233765207, -0.00464756042, 0.000265452371, 0.0148865888, 0.0216341205, 0.0041783643, -0.000286908238, 0.0210982449, -0.00613164296, 0.00209414144, -0.00309075695, 0.00632896693, 0.0131490249, 0.0172586311, 0.0110930726, -0.00452072499, 0.0211692117, -0.0070402436, -0.000736134534, 0.00449425587, 0.0211433619, 0.0047853305, -0.018156305, 0.0269742385, 0.0211799014, -0.0232659765, 0.00188305718, 0.0098795034, 0.00869563781, 0.0201430209, -0.00377181475, 0.0086734267, 0.0124535877, 0.022190433, 0.0111807175, 0.00222036056, 0.0129469447, -0.0139981965, -0.0121352468, 0.00554637937, 0.00489702309, -0.0100642024, -0.00232339115, -0.00843655784, -0.015390506, -0.0178292636, -0.0105296681, -0.045419842, -0.0080700554, 0.0111195194, 0.0176905412, -0.00241775298, 0.00441707904, 0.00369083579, -0.0259945039, -0.0341328792, 0.00399240525, -0.00818568841, 0.012163491, 0.0228856876, 0.0314382538, 0.00108183071, -0.00133756653, 5.12946754e-05, 0.00274407025, 0.021067692, 0.0237359833, 0.00692915637, 0.00447298028, 0.0141628226, -0.0223902166, -0.000768969127, 0.00843582302, 0.0332894847, -0.00256012566, -0.0369155854, 0.00426500291, 0.00788968336, 0.0278302152, 0.0194345042, -0.00237982045, -0.0150280716, -0.050842084, -0.0234291814, 0.0272791833, 0.00225635, -0.0143213356, -0.00792844407, 0.00931461, -0.0132684978, -0.00173566397, -0.00503418921, -0.00926774088, 0.00118627469, 0.00890888833, 0.019306818, 0.00027294879, 0.00575134438, 0.0140861263, -0.0152361067, -0.022206014, 0.00728356326, -0.0253477152, 0.0156403817, 0.0134468665, -0.0108437054, 0.0250694174, 0.010598626, -0.0228448659, -0.00048121353, -0.0185370781, -0.00879668165, -0.00208670972, -0.00590937585, 0.0113178054, 0.012167993, 0.00861249119, 0.0273396634, 0.00468869554, 2.03441105e-05, -0.0283051599, -0.0291654803, -0.00121465244, 0.0382571705, 0.0154694458, 0.00408218382, 0.0216123853, 0.0290710833, 0.00343999336, 0.00566945, 0.0145163471, 0.0109057771, 0.00222570729, -0.000849903619, 0.00950488728, -0.0637820959, -0.00267359149, 0.0118371649, 0.00155643944, 0.00987397134, 0.0295052901, 0.00388113759, -0.00463458709, 0.0149023728, 0.021987861, -0.0171582308, -0.0173364505, 0.00624621334, -0.0388761237, -0.0104249492, 0.0110742599, -0.0115874121, -0.0113363015, 0.00256447261, 0.0103554279, 0.0190553721, 0.00255754194, -0.0195320416, 0.012964583, -0.0123878215, -0.00169296889, 0.0129389185, 0.0168530103, 0.0268038958, 0.0333747454, 0.0268923361, 0.016797401, 0.00914941449, 0.011764409]}], deployed_model_id='', metadata=None, model_version_id='', model_resource_name='', explanations=None), image_embedding=[-0.0236896016, 0.0356282182, 0.0696170405, 0.00501603074, -0.00900954287, 0.0232526734, 0.0150296269, 0.0357618034, 0.0171036739, -0.0246649235, -0.0250481796, 0.00743578607, 0.0135792354, 0.0747958422, -0.0159286503, -0.00224923738, 0.0253776684, 0.000489564438, 0.0398099236, -0.00281910738, 0.0858200192, 0.00271397363, -0.0458734892, 0.0122623602, -0.0548906513, 0.0120308483, -0.0101645, -0.0116291856, -0.0188627243, -0.00851001311, 0.0100838337, 0.0090680616, -0.00868586358, 0.0398379713, 0.00501281349, 0.00644221297, -0.0144699337, -0.00575962709, 0.00546239875, -0.0193713661, 0.00576382224, -0.00174730248, -0.00503114844, -0.0209484342, 0.000110031164, 0.0151400147, 0.00486061862, 0.0235187095, -0.00195889571, 0.0271149576, -0.019847773, -0.0129566537, -0.00656675594, -0.00391087262, -0.00911285263, 0.0312807821, -0.0405559279, -0.000915053824, 0.032757502, 0.0104393605, -0.0101160565, 0.00352074858, -0.00182178756, 0.0067348592, 0.00822455, -0.0496296026, 0.0207597874, 0.0181719176, -0.0129450122, 0.00271167932, -0.00866695121, 0.0304177925, -0.0283110049, 0.038409926, 0.0438381173, 0.0232878048, -0.00771861244, -0.0296666697, 0.0419895798, 0.0331540927, -0.0318386778, -0.00300567714, -0.00185514567, 0.0275381487, -0.0183004867, -0.0175130144, 0.00560310949, -0.00672571, -0.0254108869, -0.00670693954, 0.0171153769, -0.000704251754, 0.0151461856, -0.151509508, -0.00509810029, 0.00649008481, 0.0108119035, -0.00605272641, 0.0366468467, -0.0257524885, -0.00978927, 0.0154755758, -0.049651619, -0.0381843746, 0.0224946532, -0.0140679125, 0.029836176, 0.0141753806, -0.0328676105, -0.0102156419, -0.0191019084, -0.0129180672, 0.00506447814, -0.0373967327, 0.0162029788, -0.0110470504, 0.0455862843, -0.0154171428, 0.00948018767, -0.00197030534, 0.0430325307, -0.00137874542, 0.00136210537, -0.0257274751, 0.00482269563, -0.0172215495, 0.0198927224, -0.0330117457, 0.00430567, -0.01996997, -0.0203471221, 0.0334615037, -0.0275062881, -0.0604047216, 0.00864394, 0.010472348, 0.0128098652, 0.00766698038, 0.00802452676, -0.00634392956, -0.0317206271, 0.0297681261, 0.000830354402, 0.00869063381, -0.0419367738, 0.0161154773, 0.0181363281, 0.0401220098, -0.0250721965, 0.0150297908, 0.030207485, 0.0121248597, 0.0140968254, -0.0325297713, -0.0289543737, -0.0306549687, 0.0222228598, -0.000684199156, 0.0167843495, 0.0177664179, -0.00039873147, -0.0133623173, 0.0226058699, -0.031522043, -0.0126154199, 0.0213900916, 0.025057042, 0.0298747, -0.0335481577, 0.00717593962, -0.00494854385, 0.0249339361, 0.0273170099, -0.0307708886, 0.0451229885, -0.0160534065, -0.0197822377, 0.0433364734, -0.00879769307, -0.0115507422, 0.00144839904, -0.00343716936, -0.00782614853, -0.00628744392, 0.000975843286, -0.0171574764, 0.0141001241, 0.00300915749, 0.0174207538, 0.00967337936, -0.00331489695, -0.00524793286, 0.0151586458, -0.0401254855, 0.0180741325, -0.00708666211, -0.00237588119, -0.0265516415, -0.0172239766, 0.0208902583, -0.0331350081, 0.00604467094, -0.00225574849, 0.0145101976, 0.00623257272, 0.00434771413, -0.0233286582, 0.00447542593, -0.0241158791, 0.0311568659, -0.0178055, -0.0424776338, -0.0206101444, 0.0491379909, -0.0167374574, 0.021161681, 0.038610287, 0.0135217011, 0.0218397863, -0.0210047886, 0.0200333577, 0.0142856743, 0.00992837, -0.0389973037, 0.0327453725, 0.0182598755, 0.00922295, -0.00018777918, -0.0319322683, 0.00321657048, -0.00107695931, 0.01979056, -0.0104914494, -0.00771729462, -0.020640159, 0.0221194271, -0.0312096719, 0.00734721124, -0.0207265839, -0.0571116731, 0.0112788109, 0.0107103456, -0.00392207364, 0.011161874, -0.00715429103, 0.0183153078, 0.00300134043, -0.00162587967, 0.0290440489, -0.00181885983, -0.00516800862, -0.0582890064, -0.0166752115, -0.00673388224, 0.00400564354, -0.0361685343, -0.0108126979, 0.00446969829, -0.0232284348, -0.03493784, -0.0251501352, 0.0192057081, -0.00732472539, -0.00425928645, -0.0242194608, -0.0234312583, -0.00786743872, 0.0410828553, 0.00496243732, -0.0151777314, -0.0257037375, -0.0262134038, 0.0228829626, 0.0778083652, -0.00953063741, 0.0305355377, -0.00910202321, 0.0168754216, -0.0183699187, 0.0911337286, 0.0121542057, -0.0147337569, 0.0206296798, 0.0142385149, -0.027676221, 0.00131332362, -0.186057761, 0.0128442636, 0.00801960751, -0.00269496557, -0.0173575375, -0.0165714975, -0.0017509968, -0.0173268076, -0.0272089504, 5.79496627e-05, 0.018772088, -0.0179932583, -0.00386022963, 0.0135583235, 0.0102520464, -0.0707758591, -0.013605156, -0.00362433773, 0.00650488306, -6.79507866e-05, 0.0243688971, 0.0415569395, 0.00627831509, -0.000113334449, -0.0260221828, -0.0275038686, 0.0113219386, -0.0399262235, -0.0131206494, 0.00763760507, -0.00600673305, -0.0186627321, 0.0127066402, 0.0153210294, -0.0435166024, -0.0403594598, 0.0181162525, 0.0156378411, -0.0240186695, -0.00857860781, 0.0190628804, 0.00810105912, -0.00946586672, -0.0511892177, -0.0294579435, 0.0118574807, -0.0357521437, -0.00163759431, -0.0170605537, 0.034503486, 0.0111704478, 0.000494970125, -0.0224812459, -0.0527463257, -0.00819239393, -0.0106058661, 0.00547331572, 0.00280762138, -0.0178244319, -0.02238537, 0.0190398972, -0.0229091514, 0.0318032876, 0.00164826, 0.0419098325, -0.0371231213, 0.00177307, 0.00360832107, 0.00363328727, 0.000101600031, -0.0441249423, 0.00965814851, 0.0143940942, -0.0251175109, -0.0295375343, -0.00915051065, 0.0286974125, -0.00199973723, -0.027669277, 0.00447523734, -0.0143178105, -0.00893330388, 0.00181459403, 0.0165193826, -0.00272526639, -0.00302375737, -0.0181135591, 0.00451663043, 0.016252853, -0.0331865549, 0.00982880127, 0.0394018032, -0.0149905663, -0.0224843398, 0.00509495381, 0.0186776072, 0.0369709283, 0.00115454535, -0.0107877292, -9.21759274e-05, 0.0100784823, 0.00126506656, -0.0273730028, 0.0178995, -0.0136704, 0.0396686867, -0.0336100571, -0.0376460589, 0.006503704, -0.042346742, 0.0710660517, 0.000202719792, -0.0323552266, 0.0242679324, 0.00745297736, -0.00351360207, 0.0228740573, -0.0261718649, -0.0211301632, -0.00477124145, 0.00496411743, -0.0383686051, 0.0089180693, -0.0130417142, -0.0381997451, -0.00550203398, -0.00464269, 0.0276651904, 0.0039702612, -0.00562283536, -0.00748122949, -0.0045146849, -0.0328173898, -0.00739650289, 0.00450979685, -0.00445167627, 0.00263016927, 0.0221115351, -0.00657633971, -0.00921035, -0.00155814632, 0.0386601388, -0.0174942948, 0.0261240881, -0.00370934256, -0.0422349423, -0.0057549919, 0.0588739552, -0.0425112024, -0.0296127535, 0.0142496098, -0.00427626865, 0.0086045675, -0.0156025281, 0.0166879781, 0.0364562906, -0.00818894804, -0.0357096829, -0.026183635, 0.00826006848, 0.00689036399, 0.00922106, -0.00384298293, 0.0305550415, 0.00496031251, -0.0224753357, 0.0122929979, 0.00909528881, 0.00109674747, -0.0125533044, -0.0341085456, 0.0133282561, 0.0272586532, -0.00299786846, -0.00384548563, 0.0112047605, 0.0493183695, -0.0194082987, 0.0372362025, -0.0469642766, -0.0119371042, -0.0253851227, -0.000567980402, 0.0378578976, -0.0169204753, -0.00734668458, 0.014829305, -0.0140835103, -0.012748397, 0.015158413, -0.0165992379, -0.00848501455, -0.00330667035, -0.00220144191, -0.0077155293, -0.00209582713, -0.00717663392, 0.00534963096, 0.000745682453, -0.031676311, -0.0246882141, 0.0321063027, 0.00598352402, -0.0224167854, -0.0179027282, -0.015387889, 0.00548243383, -0.0350857973, -0.0392904356, -0.00961091835, -0.011789, 0.0263489373, -0.0125076827, 0.00030105788, 0.0220459681, -0.0088643143, 0.018145116, -0.0119915968, -0.0146281347, -0.0510391183, -0.0165907983, 0.016799489, -0.0323992148, -0.0139014749, -0.0124362437, -0.00162271352, 0.0578727797, 0.0192934312, -0.0298365783, -0.0276910402, 0.0280121025, -0.00434203586, -0.015033165, -0.00402665371, -0.0107868947, -0.0180066228, 0.00403416064, -0.00917901937, 0.00130294601, -0.00115834456, -0.0311935302, 0.00798148, 0.00619500596, -0.005488005, 0.020863153, -0.0278311986, -0.00697534531, 0.00292993221, 0.0280844364, 0.00118922943, -0.00655850302, -0.0415951461, 0.0435914919, 0.00724205654, -0.00913013611, 0.0237595085, 0.00744014, 0.0109338984, 0.033086814, 0.00955667347, -0.00760713872, -0.00432738056, -0.0445433557, 0.0328131802, 0.00666809222, -0.000200637209, 0.0105982581, -0.0413357429, -0.0473897308, -0.0293632969, 0.00894865114, 0.0267356653, -0.0230222158, 0.00504253898, 0.021588752, -0.0130905993, 0.00145593705, -0.0194880366, 0.0267523788, -0.00884523895, -0.00622261455, 0.0300290287, 0.0282948297, -0.0107583217, -0.0215053577, 0.0100454763, 0.00901705585, -0.0054300772, -0.00895690359, 0.0129608382, 0.00471439911, 0.00804097205, -0.0247457307, -0.00647386396, 0.0218184311, 0.0367120691, -0.04984935, -0.0337915048, -0.0293000657, 0.0114956833, 0.051439248, -0.0114678405, 0.0165316276, -0.0202338714, -0.0301033836, -0.0539513901, -0.0223815646, -0.0151865035, 0.0161196887, 0.00530016562, 0.0708773807, -0.0178805403, 0.0311088022, -0.00256258668, 0.0182997324, 0.0262584854, -0.062800318, -0.00376149174, 0.00560198771, 0.0119674029, -0.00473352754, -0.0439986847, -0.00796157587, -0.0119570978, 0.0397770256, -0.00512182061, -0.0396804772, -0.0350578427, -0.012984273, 0.0114838043, 0.0103219245, -0.0147756357, -0.0423428267, 0.00243353983, 0.0243618581, -0.00655466, -0.0177250709, 0.000908309477, -0.00782094, -0.0104404986, 0.00136477896, 0.0239805263, 0.0274465065, -0.00689190859, 0.00149012648, -0.0435097031, -0.0226519872, 0.00255474565, -0.0247434899, 0.0202793069, 0.0478119813, -0.0030248682, 0.0315759704, 0.0125124995, -0.0203077942, -0.0124686072, -0.0216030274, -0.0295493286, -0.00333396695, -0.0058713411, -0.0057436456, -0.00592478877, 0.0122818667, 0.0229556244, 0.0203446057, -0.0298731979, 0.00195687474, 0.00920812786, -0.0042928257, -0.00199108687, 0.0230615791, -0.00831417833, -0.0103695104, 0.0105673401, -0.184827179, -0.00697989622, 0.00242566271, -0.0235205162, -0.00942581706, 0.0626737773, 0.0165284444, 0.0133783519, 0.00819688942, -0.0111607369, 0.0130107515, -0.0108447559, -0.265904605, -0.00175527087, -0.00032748052, -0.0304239243, -0.0285451766, -0.0218092743, 0.0133889439, 0.0212447122, -0.0345589519, 0.0104622012, 0.0605622, 0.0475033075, 0.0223786272, 0.0155198993, -0.0446526743, 0.0240341797, -0.0243007243, -0.00524839433, -0.0299112909, 0.0348810218, 0.0241768528, 0.0147804879, -0.0163717195, -0.00466449047, -0.0384934954, -0.0161211826, 0.00158419076, -0.0160420928, 0.0350409485, 0.022157969, -0.0262360331, -0.00828067493, -0.0459051207, 0.00207887962, -0.0140595781, 0.00111274631, 0.026819434, -0.0363496318, -0.00800625049, 0.0409783386, 0.000462770957, 0.00700943824, 0.00707650045, 0.0133594507, -0.0298037883, 0.0342232548, -0.00949023198, 0.0084714, -0.0510446765, 0.0257473271, -0.00907170214, -0.0295964573, 0.0140318964, 0.00589629309, 0.0260375384, -0.00371725974, 0.0148258545, 0.0139206666, 0.0351626724, 0.00811756216, -0.0105714854, -0.0180808548, -0.0187587067, -0.0366214141, -0.00952497683, -0.0292651933, 0.0116711669, 0.0288922153, 0.0410875753, 0.0228721704, 0.0106900586, 0.023960622, -0.00818449166, -0.0212525241, 0.028681, 0.0160619561, -0.104368493, 0.00247908127, 0.00822363608, -0.0285946913, -0.0332154892, -0.0141030056, 0.00214153971, -0.0232654791, 0.0034676739, -0.00900540501, -2.51926722e-05, -0.0306335129, -0.024450995, 0.0346855931, 0.00743195461, 0.0270991158, 0.0283234809, 0.000960467674, -0.0267589614, -0.00492236624, -0.0487638488, -0.00696214428, 0.0206216779, 0.00518844975, -0.0199101083, 0.0313596725, -0.0259384029, 0.00452155, 0.00366278086, 0.00430746889, -0.0542869195, -0.01535815, -0.012023462, -0.00273063267, 0.036955446, -0.0160204209, -0.0126714716, -0.0120349908, 0.0418978781, -0.0163484234, -0.0255554449, 0.0109028341, 0.0266188141, -0.00395796401, -0.00744031509, 0.0560299829, -0.0100095915, 0.038399782, 0.0260437932, -0.048558455, -0.0117811626, 0.0239054039, 0.0154008046, -0.0343478769, -0.0111590801, -0.000896833953, 0.0533803813, -0.00725620519, -0.0507010557, -0.0211249534, 0.0236150213, 0.0269767977, 0.008381675, -0.0410536416, -0.0413524471, -0.0409656689, -0.0116485721, -0.00490416447, -0.00358238025, -0.0767720863, 0.0322923958, -0.0474298708, -0.0197906345, 0.00415375922, 0.0686612055, -0.012004544, 6.48369678e-05, 0.00603615912, -0.0246878061, -0.02408823, -0.022601096, 0.0068522, 0.0296958238, -0.0196652524, 0.00763025461, -0.00860793, -0.0311347544, 0.00650140643, -0.00391608896, 0.0340168439, 0.0130956741, -0.000109792927, -0.000224097763, -0.070652239, -0.0320453718, -0.0206257012, -0.00546622556, -0.0316030346, 0.011404356, -0.00806705933, -0.0131115355, -0.0313476585, 0.00555949099, -0.0215509292, 0.00967910141, -0.0292729363, 0.0102715427, -0.00952835847, 0.00984826125, -0.00913383, -0.00285828649, -0.0381425209, 0.00138530275, -0.0203201678, 0.0306770708, 0.0226252228, -0.0434360914, 0.0022437165, 0.00840334781, -0.011017588, 0.0203999113, 0.00483377976, 0.0284199622, -0.00115099188, -0.0197274201, 0.00121729972, 0.0346295424, -0.0131005179, -0.0136917206, 0.00670327526, -0.0110313548, 0.0268335361, -0.0268971864, -0.0110852346, -0.0206667352, 0.00122988806, 0.0094123967, 0.00422196323, -0.000499008, 0.00571803283, 0.0159070659, -0.0274330247, 0.0501965322, 0.0097484244, -0.0125309806, 0.000553582155, -0.00793563575, -0.0365996845, -0.0138383191, -0.0254342798, -0.00919235405, -0.00451089488, 0.0175120309, -0.0218686834, -0.0232269187, -0.031814184, 0.0223455634, -0.0221422687, 0.000573882775, -0.0242856089, 0.0174069498, -0.0223020874, 0.0247650705, 0.124225833, -0.0345965438, 0.0273200702, 0.0109560136, -0.0012060611, -0.0123456195, -0.008472207, -0.0141546587, -0.00775817083, -0.00826667342, 0.00781467278, -0.00323698809, 0.0306838285, -0.00613267673, 0.0182178393, -0.012057378, -0.0190944914, -0.0157003533, 0.0150897121, 0.00577702932, -0.0217779092, 0.0176521633, -0.0118893394, 0.0129093984, 0.0167268142, 0.00199895119, 0.00701919803, -0.0339077674, -0.057874877, -0.0298624914, -0.0230432525, 0.00499971956, -0.0154046696, 0.0191119518, -0.0263717342, -0.0140313851, 0.00260723336, 0.0273118429, 0.00946299266, 0.0127792275, -0.00783470925, 0.0287903249, -0.0110958936, -0.00598605676, 0.0215583611, 0.0167264026, 0.0238860883, -0.0161855929, 0.00816268846, 0.0335146114, -0.0187889058, -0.0127304159, 0.050742086, -0.0148979491, -0.0170929916, -0.0258924495, -0.0466051325, 0.0528265275, -0.0460670032, 0.000275082042, -0.026106583, 0.0153218228, 0.00138084439, -0.0416623168, 0.0102855414, 0.0302610397, -0.0212549809, 0.0083922958, 0.0218311809, -0.0158553682, -0.010400339, -0.0177129433, 0.0118811391, -0.00601941068, -0.00547314435, 0.007337227, 0.0303470101, -0.0209316891, -0.0162142664, -0.0432061255, 0.0100235222, 0.00214011222, -0.0256164148, 0.0219576228, 0.0170184504, -0.00960072502, -0.018968977, -0.009692383, 0.0566336289, -0.00718616508, 0.0665547624, 0.0199246593, 0.00445640925, 0.0234260894, 0.0118676126, -0.000446826511, 0.00749088405, 0.039225474, -0.017506551, 0.0175687727, -0.0184995625, 0.0393113941, 0.0048574442, -0.00541239092, 0.0151993623, -0.0113921035, 0.00968641229, 0.0169220846, -0.00975621119, -0.0297150724, -0.0255386382, -0.000817921537, 0.00926435087, 0.00721118553, 0.0191671588, -0.0235639364, 0.00577078946, -0.018800417, -0.0383786745, -0.0289669484, -0.0197127536, -0.027023064, -0.0188591685, -0.0211347155, 0.00262766681, -0.00659447256, 0.0121315988, -0.002460405, -0.0255249161, 0.015327299, 0.0379290581, -0.0172332972, -0.0284817833, 0.0280738175, -0.029357763, -0.0422308, 0.0140539873, -0.00326427096, -0.0339173637, -0.00303397723, 0.0190513525, 0.00728659611, -0.00411653286, 0.018705992, 0.0440366045, -0.00807149, -0.0540736467, -0.045709759, 0.00744005758, 0.0393584184, 0.00147406349, 0.0322162583, -0.0180938449, 0.00689786486, 0.0160430055, 0.0462388769, -0.000261292211, -0.0311474074, -0.042664513, 0.00311535015, -0.00597611442, -0.0222897734, -0.0211524032, 0.000288278854, -0.0112374462, 0.0417795628, 0.00795519259, 0.0113188541, 0.00632365653, 0.0149564166, -0.0472236387, -0.00437642122, 0.0299363546, 0.0142820207, -0.0110779824, -0.00933198817, 0.0349223427, 0.0133968424, 0.00970731676, 0.00530518638, 0.0115677016, -0.0414296091, -0.0119962245, 0.00646354817, -0.0155814914, -0.0237737931, -0.0271325465, -0.0120522156, -0.0313919857, 0.0379001535, 0.0175088197, -0.0321639888, 0.0290101636, 0.00597330229, 0.0150845787, -0.0176861323, 0.0126635814, -0.0177944414, 0.0192040727, -0.0202083513, 0.00993661396, 0.0524791628, -0.0264010932, 0.00926786754, 0.0126110921, -0.0323211662, 0.00985067151, 0.00961482152, 0.000605669222, 0.0304524601, -0.0113745034, 0.0116352551, 0.0386316255, -0.00634462107, -0.00237306091, -0.0428721793, -0.0241881013, -0.00948186126, 0.00526448153, 0.0168316793, 0.0107315462, -0.00830418896, -0.016057767, 0.006440931, -0.0130593674, -0.0393197536, 0.0135789979, 0.0165583771, 0.00463187834, -0.0323233642, -0.0563258566, 0.0430072, 0.0236290451, 0.0550105907, 0.0115037207, -0.0504386388, 0.0154220611, 0.0145220775, -0.0247375499, -0.0438336432, -0.0375884436, -0.0264030565, -0.00693815388, -0.0280407649, 0.00548198912, -0.0189957079, -0.00226536556, 0.00311640278, 0.0214027632, -0.00522478623, -0.0103118103, 0.00884766, -0.127497315, -0.0342766307, 0.0391520038, 0.0423885919, 0.0345509425, -0.0121341581, -0.0291435439, -0.00694615208, 0.0135271084, 0.0269439258, 0.0296898913, -0.00832821243, 0.00998347346, 0.00829745363, -0.012215578, -0.0117966663, -0.0274603646, 0.000105860396, 0.0228359327, -0.0159757081, -0.0232222229, -0.0485714637, -0.00801388081, -0.0181177426, 0.00300279, -0.0155900167, 0.067925185, -0.0236273631, -0.00907271, -0.0160081442, -0.00762124686, -0.00210622512, -0.0135159763, 0.0112101417, -0.0247417968, 0.00271977438, 0.0160962306, 0.000552568876, -0.0591515079, -0.00485671498, -6.2056235e-05, -0.00414889678, 0.000776388275, -0.0417081974, -0.0145566501, -0.00734119909, -0.017116962, -0.0681040511, -0.0110671362, -0.0407237597, -0.0187073983, 0.00230192533, 0.0500940196, -0.0303241275, 0.0157205649, 0.00619904324, -0.0312343799, 0.000662120117, -0.00354154757, -0.011212334, -0.00105424237, -0.00141912897, 0.013752006, 0.0105783846, -0.0209584143, -0.0269074757, -0.0207655746, -0.0116911102, 0.0119180381, 0.00126352895, -0.0206923671, -0.024173649, 0.00545561733, -0.00174096413, -0.0135691604, -0.052137889, 0.00314111426, 0.00299115176, -0.023162147, -0.0230383817, -0.0308524687, 0.00767000299, 0.0157957114, -0.0150712691, 0.0157579333, 0.042000249, -0.0155955525, 0.0658609271, 0.0114851389, -0.0063927318, 0.0106485914, 0.0198305249, 0.00972917303, -0.0459180735, 0.0110421041, -0.0103375642, -0.0405440927, -0.00765379891, -0.0206851214, -0.0454417, -0.0183585435, 0.00866295863, 0.00314219738, 0.0238705128, 0.0166850798, -0.00500889076, -0.00407200679, -0.00271586445, -0.0173031744, 0.00477255788, 0.0281410702, -0.0269413944, 0.0435027778, -0.023567237, 0.0130369142, 0.0293565411, -0.0135540823, -0.00402825512, -0.013653324, 0.00983207393, -0.0269305035, -0.015544815, 0.0387116596, 0.0308859833, -0.0213539265, -0.0442404635, -0.00716996333, -0.0353343375, 0.00280006067, 0.00424286257, -0.0287895408, 0.0293003656, 0.0429492146, -0.00318838959, -0.00802237168, 0.00676927203, 0.00681731943, 0.0216941219, -0.0415821932, -0.0206841435, 0.00173547468, -0.0219580885, 0.00557276281, 0.0225128885, 0.0182453562, 0.00117215444, -0.023830995, 0.00110400771, -9.21466199e-05, -0.031178968, 0.00548202498, -0.0215082094, -0.0176533256, -0.00657586241, -0.0136696082, -0.00564602669, -0.0437902287, -0.0668486208, -0.060786847, -0.0132477069, 0.00101168011, -0.0358441882, -0.0397621207, 0.0083663566, 0.0131788459, 0.0341355316, 0.0195025653, 0.0801153705, -0.02633374, -0.000140815682, 0.0440377407, 0.00268360553, 0.017730454, -0.00197366765, -0.00112534116, 0.0314855613, -0.0087313, -0.0641605556, -0.00336392527, 0.00927768275, 0.00106791698, 0.0283026472, -0.00246280851, -0.0216123946, -0.0138481818, 0.00801969413, -0.0104382345, -0.0223204438, 0.0210490972, -0.0210282169, -0.012028099, 0.0306334849, 0.000244609138, -0.0128069548, -0.00520562241, 0.0295056049, 0.037308909, 0.0382756144, 0.00555858063, 0.0359536968, 0.0187346488, 0.0162516534, -0.00224073255, -0.0187543239, -0.0148363858, -0.0356487259, -0.00242036511, -0.00334975333, -0.0370509438, 0.000790188846, -0.0136607913, -0.0397135504, -0.0241989437, -0.0272525698, 0.0485889502, 0.00261012116, -0.00729377614, 0.0110446122, 0.0372010618, 0.000315077603, 0.000609919545, 0.0327707678, -0.0331436321, -0.0182919148, -0.0148818512, -0.0155633138, 0.00379619515, -0.00235738466, 0.0102694873, -0.00436681462, -0.0219307747, -0.00800209865, 0.0234198682, -0.0490035191, -0.0352773406, -0.00647006836, -0.0253951196, 0.0088939, 0.0320685059, 0.0370657258, 0.00438834075, 0.00120645727, 0.0205194298, 0.0435775183, 0.005858914], video_embeddings=[], text_embedding=[-0.01369939, 0.00507034222, 0.0306655094, 0.0140127474, 0.0166214053, 0.0177796353, -0.00224110601, 0.00889904797, 0.0156262014, 0.00539854309, 0.045914039, 0.000119304052, -0.0033782206, 0.0160696618, -0.00240984256, 0.0233479645, 0.0112553956, 0.0224828906, -0.018139299, 0.0354996547, 0.037047267, 0.0123404628, 0.00280312938, 0.00681179296, -0.00828229636, -0.0163130034, -0.0103054205, -0.0153088653, 0.00380584551, 0.0218121652, -0.0217704494, 0.03481327, 0.0148413992, -0.0116872722, -0.020796556, 0.00496687274, -0.000735312293, -0.00300116907, 0.0135989413, 0.008135763, 0.00481555378, 0.000428608328, -0.00395168737, -0.0152210528, 0.0107062, -0.0142546603, 0.000664914434, 0.015609378, 0.0162868518, 0.00543072913, 0.0146236047, 0.00289237942, 0.0332885049, -0.0143061969, -0.0103026535, 0.0199049916, -0.00365066039, 0.0035278562, 0.000574087, 0.0032494748, -0.0147378072, 0.0332371555, -0.015808614, -0.0191747323, -0.0263129491, -0.0130165722, 0.00704805227, 0.0200002603, -0.00955527928, 0.0127256541, 0.0197042301, -0.00996899791, 0.00878285151, 0.00950476807, -0.00239581475, 0.027652489, -0.00862697233, 0.0149249379, 0.026586, -0.0290803667, 0.00961297, -0.0179784857, -0.0144370114, -0.0215614252, 0.00839442853, 0.0194080528, -0.0197126046, 6.72704482e-05, -0.0327099375, -0.0116557619, 0.00748787308, -0.00332932919, 0.0119632967, -0.0010177017, -0.000521990471, -0.00834692921, 0.0412239805, 0.0111673595, 0.0153457578, -0.00746858213, 0.0151253259, 0.000299766572, -0.0285518505, 0.0111273052, -0.00142561086, -0.00870992, 0.0312827, 0.0160212461, -0.00867032632, 0.0157199986, -0.0135029694, 0.0164471492, 0.0112806298, 0.00168734451, -0.0027356802, -0.0241614059, 0.00890234113, -0.0052836393, -0.0099852439, -0.00707405154, 0.00158325944, 0.0199946519, -0.0171481855, -0.0252580233, 0.00296614319, -0.00946215075, -0.0101595884, -0.00122355, 0.00833758805, 0.0276473165, 0.0105375024, 0.0201195665, 0.0301117264, -0.0127367442, 0.0214229096, -0.0162269399, -0.00135622825, -0.0156791341, 0.0165533535, 0.00741011743, 0.0277630147, -0.022490114, -0.00200510211, -0.0161814261, -0.00515047042, 0.0219549648, 0.00853183307, 0.00630995678, -0.00369331939, 0.0291914549, 0.0112250354, -0.00284232618, 0.0124569749, -0.0189842749, 0.00592222437, -0.00246900134, 0.00435445365, 0.0146015696, -0.0284340363, 0.0160087068, -0.0246484634, -0.0171018708, 0.00310744136, 0.0241675638, -0.0171194151, 0.0100110965, 0.0111300945, 0.0100592254, 0.00362233492, -0.0222235192, -0.00100308319, 0.0011356594, -0.0383754335, 0.0230116937, 0.0166613609, -0.00270575425, -0.00682514813, 0.0381040163, -0.0136802783, 0.0169437379, 0.00549715292, -0.0011084181, 0.0150552746, -0.006589178, 0.00371086388, 0.0301928427, -0.00784999318, -0.00784286, 0.00485408586, 0.0222932156, 0.0261001233, 0.0100947302, 0.00759580871, 0.0139026884, -0.00537367165, 0.0285569858, 0.0282699596, 0.0126829436, 0.00767309731, 0.0373142287, 0.0102810422, -0.0123117706, -0.00570401782, -0.0231127664, 0.0151840933, -0.00639773672, -0.0238048173, -0.00551788462, -0.01512584, -0.00407869741, -0.00119657849, 0.00720488559, 0.00106803502, 0.00609756634, 0.000665794825, 0.0201339293, -0.00223627663, -0.00242312672, -0.00634904625, 0.0158954803, 0.00132745947, -0.0116076153, -0.0054477728, 0.0271255951, -0.00826728716, -0.0199036188, 0.0151839154, 0.0184053481, 0.0273403, -0.00154971867, 0.0309299547, 0.0340081379, 0.00462082354, 0.0160925668, -0.0352102146, 0.00696576294, 0.0318873711, -0.0124613121, -0.0312955827, 0.00471608806, -0.0163436066, 0.011410974, 0.00458379183, 0.00423006481, 0.0166734923, -0.0084298281, -0.00296830456, 0.0111056939, 0.0166265834, -0.0133619737, 0.00767342281, 0.00769957062, 0.00245829322, 0.00187060144, 0.00132316537, 0.0152996574, -0.000916698831, 0.00868723, 0.00879967, 0.0400443561, 0.014994774, -0.0162162427, -0.00359499478, 0.000355360215, -0.0165475197, 0.0196037889, -0.0231089592, 0.0260538608, -0.014617864, 0.0113242585, -0.00817444455, 0.00992829725, 0.0172009133, 0.0218453277, -0.0158233866, 0.0102548664, -0.0397207, 0.0211636741, -0.0239344276, 0.0115085095, -0.0175172798, 0.00297286757, 0.007382893, 0.0284369234, 0.00432871887, 0.0276499838, -0.00015850013, 0.0283634607, -0.0163969602, -0.0242537968, -0.0259161722, 0.0318805203, -0.0201144218, 0.00360030262, -0.0118694352, 0.0218287949, -0.0127923805, 0.0134042241, -0.0100433007, 0.042500034, 0.000468162674, -0.00735918432, 0.00260212296, 0.00857649744, -0.0108125731, 0.00174243923, 0.0317625701, -0.0248389896, 0.00553062558, 0.00452206749, -0.00336324377, -0.019839095, 0.0149125978, -0.0441200696, -0.0142797297, -0.014023236, 0.0269908085, 0.0165898893, 0.0169769693, 0.0141864317, 0.00160947186, 0.00792122912, 0.0333897322, -0.00640080078, -0.0249834228, -0.00396473845, 0.013693749, 0.00172306492, 0.00019297238, -0.0163586866, 0.00650186418, -0.0159461424, 0.0212501045, -0.0197427087, -0.0126313251, 0.0384224355, 0.000400614488, 0.000769296894, 0.00490182685, 3.8951348e-05, -0.00998464599, -0.0218721777, 0.0295867119, -0.00943217333, -0.0091159353, 0.00461748289, -0.00381279853, 0.0151845571, -0.0110702878, -0.0123139052, 0.0166696534, 0.000876356207, -0.0162325501, -0.00912174489, 0.0139555801, 4.70034502e-05, 0.0308552682, 0.0144143486, 0.00155831524, -0.010124418, 0.00677349, -0.0203166083, -0.00791449752, 0.0245912317, -0.0153451506, -0.003480274, 0.00692705298, -0.00967003871, -0.0255427845, 0.005939255, 0.0135865817, -0.0143642863, 0.0109065603, 0.00703936862, -0.00394908246, 0.0107845608, 0.0100144036, 0.00747711258, 0.0050954856, 0.022850845, -0.0253337342, 0.0066876132, -0.012199766, 0.0291007701, 0.0326842926, -0.00943816826, -0.0151621848, -0.0133621227, 0.0205120761, 0.00830968283, -0.00100058725, -0.014784514, 0.0166570973, -0.0104357498, 0.00158494187, 0.0120660774, -0.00284761027, -0.018075306, -0.00365320966, -0.0120785516, -0.00599336438, -0.00185400178, -0.0016556409, 0.0183999352, -0.0019547618, 0.0257755183, -0.0131508345, -0.0112317242, -0.0246963, -0.0153135601, -0.0330848768, 0.0112680513, -0.0144524556, -0.0106290514, 0.00567980902, 0.00609845947, -0.220794246, -0.00463403622, -0.0122951437, -0.00451954966, -0.0191465076, 0.00444365572, 0.014508564, 0.00783574209, -0.00410970347, -0.0172531791, -0.00221188692, 0.0166666694, -0.00209054, -0.0061684656, 0.0223935097, -0.0373733118, -0.0289921183, 0.00597999571, -0.00623076037, 0.0312692262, 0.0323243588, 0.0157130249, 0.0127676474, -0.231353745, 0.00203917269, -0.0165745281, 0.00255193701, 0.00863283128, -0.007759172, 0.000570572272, 0.0147195458, -0.0204704143, -0.0141247083, 0.0234390274, -0.0129018063, 0.00600450393, 0.0142789688, -0.00368607813, 0.00994398538, 0.0162215848, 0.0124833211, -0.0238774735, 0.00845417846, -0.00933164451, 0.0271758344, 0.0243887212, 0.00137757277, 0.00964843482, 0.00261947257, 0.0121601922, 0.00560365804, -0.0204877853, 0.00306832418, -0.00965227373, -0.00289846538, -0.222628102, -0.0167738609, -0.0159749277, 9.27452129e-06, -0.0195831638, -0.00253097434, 0.00940230861, 0.0015291184, 0.00550382631, 0.0122079095, 0.015904488, 0.0040326044, 0.0277500022, 0.00228198338, -0.0146176498, 0.0106381048, -0.00682555651, -0.0168628469, -0.00520636654, -0.00860715285, -0.0168668963, 0.0256756023, -0.0126984157, 0.0137336906, 0.00767197181, -0.0326879, 0.0184888337, -0.0217754878, -0.00492527429, -0.00560734328, 0.0250911918, 0.00424060691, 0.0168136954, 0.00315496745, 0.00161949766, -0.0205303393, 0.00559551455, 0.0335517935, -0.0142425876, 0.0127759948, -0.000779049064, 0.00506811449, 0.00098542776, 0.00547077646, -0.0147766676, -0.0132217212, 0.0113669746, 0.0160399713, 0.0271485075, 0.0264917631, 0.0279034041, -0.025630381, 0.00772798248, 0.0188767612, -0.000626259, 0.00681453617, -0.0184443537, 0.022153087, 0.00149120938, 0.00936500635, 0.0139155416, -0.00813096948, 0.000806402822, 0.00461943261, -0.0132865654, -0.0191132035, -0.000370723079, 0.00490342546, 0.00534722814, -0.0275206473, 0.0327815451, -0.00145096856, 0.0450942479, 0.0194581021, 0.0070701628, -0.00667819148, 0.0155338459, -0.00376940449, 0.0105888024, 0.00263463706, 0.0302414969, 0.0139903761, 0.0237196982, 0.0108069936, -0.0059791496, 0.00877019204, 0.00573092373, -0.0304008145, 0.0212532394, 0.00113852695, 0.00885448698, 0.0231905542, 0.0267617665, 0.0110923927, 0.0180721544, 0.0151220523, 0.0103253033, -0.00566923665, -0.0229257531, 0.00035277268, 0.0217013452, -0.00241013966, 0.00970340427, 0.00275848131, -0.00492739, 0.0232502, 0.0267526954, 0.0587335825, -0.00262526167, 0.0288574398, -0.0153262317, 0.0318647847, 0.0386404023, -0.00140614423, 0.0026140525, 0.0156121161, 0.0216806363, 0.00272753718, 0.0124983378, 0.0184759665, 0.00501080602, 0.0112668974, 0.00615155604, 0.00680752145, -0.012583591, 0.0191311091, -0.00309897331, 0.00237368862, -0.000294717931, 0.0028757744, 0.0121429553, -0.0113971848, -0.00280189444, 0.0161394626, -0.00174643018, 0.00700232759, -0.0114691146, -0.0135451509, -0.00580359902, 0.0239784382, 0.0200299136, -0.0242236182, 0.0203929786, 0.0208962727, -0.00357880536, 0.0202620346, -0.0186639521, -0.00512448652, 0.000542701571, 0.013768998, -0.222960398, -0.0211719349, -0.0204948373, -0.191161603, 0.018292157, 0.0341668725, 0.0172459949, 0.0226765331, -0.0305837821, -0.00833126437, 0.00172767893, 0.00381987891, -0.0106930751, -0.00371898059, 0.0241826512, -0.0185139086, 0.000279947533, 0.0113741336, -0.00519839255, 0.0209242031, 0.00733022485, -0.00700998446, 0.0203932412, -0.0157515, 0.00577165326, -0.0105951084, 0.0181022976, 0.0167090017, 0.000927328132, 0.00165232038, 0.0198884942, -0.0184796341, 0.0434897617, -0.00746314, 0.0110578509, -0.00880575739, -0.00576963183, 0.000134765272, 0.014118799, 4.16821495e-05, 0.00704357959, 0.0162467677, -0.0022676643, 0.0163631346, -0.0169316716, 0.00717461389, 0.00862024631, -0.0179115664, -0.0190468729, 0.0253630169, 0.00914026704, -0.00604584394, -0.0009360002, 0.0234067272, 0.0104284771, -0.00556138949, -0.00449386425, 0.0326995924, -0.00340668717, 0.0287285075, -0.00214142795, -0.00163749547, 0.0247330647, -0.0247727018, -0.0195454378, 0.0162194148, 0.00514898961, 0.0315160751, 0.00681271823, -0.0067805578, 0.0454584397, -0.00513270544, 0.0132453619, -0.00863847509, 0.00955485832, -0.0253192931, 0.00986977, 0.0202855896, 0.00334344804, -0.00168557093, 0.016394591, 0.00292278873, -0.0073812753, 0.0149437794, 0.0298063476, 0.00866972655, 0.0287806131, 0.00232872204, -0.00718995323, -0.00684668077, 0.0226489622, 0.0114285247, 0.0055587138, 0.0115986923, 0.0119635994, -0.00528619858, 0.00625022175, -0.00158464629, 0.00755695673, 0.00552790519, 0.00152467878, 0.0025783137, -0.00541670946, 0.00723402668, 0.00235252129, 0.0244956464, -0.00679667, -0.00627864897, 0.0292897373, -0.00561607769, 0.00556460302, 0.0137218218, -0.0123224733, 0.00376015529, 0.0185832437, 0.0153912054, 0.0171489473, 0.0143761877, 0.0114493323, -0.000256298896, 0.00480210362, 0.0182772651, 0.00397991808, 0.0248794649, 0.015100454, 0.0180235598, -0.0130333323, -0.000519669149, -0.0135277472, 0.00566503871, 0.00645282771, -0.0119592389, 0.0186573192, -0.0119047584, -0.00359830423, -0.0156497695, 0.0264182091, 0.00743204402, -0.019857496, -0.0137350885, 0.00604494382, -0.00331760454, 0.00941878837, -0.0100568272, -0.00592069607, 0.000934462121, -0.00416479586, -0.0062330896, 0.0259700958, 0.0250700545, 0.0466167033, -0.0124459807, 0.00994368084, 0.0218614768, 0.0116298487, -0.000268119271, -0.00411139755, 0.0805682093, -0.025231231, 0.0159834325, 0.0083058048, -0.000573474565, -0.0141588273, -0.00697688712, 0.0101503888, 0.0290558431, -0.020701522, 0.0165893268, -0.00980041176, 0.0272631198, 0.00485134311, -0.00995561667, 0.00416617561, 0.0130872028, 0.0201964248, 0.000855876424, -0.0149930557, -0.00814997405, 0.025206551, 0.0242034178, -0.0110378582, 0.022298852, 0.0125923762, -0.0055912789, -0.00460679876, 0.011407814, -0.00824920926, -0.00603128225, 0.0135571305, 0.0254894868, -0.000268203527, 0.00152729708, -0.012973574, -0.0054389392, -0.012557378, -0.00290674157, -0.0155148385, 0.0443412438, -0.0185439, 0.0315190963, -0.00164649705, 0.0149326231, -0.00888906419, 0.0157649219, -0.00467696926, 0.00388299325, -0.0136448694, 0.00291750953, -0.00621722359, 0.000925053144, 0.0242026206, -0.0057143122, 0.00943049509, -0.0221436, 0.0254792757, -0.0173710156, 0.0764093176, 0.0252068844, -0.004664612, 0.0252259858, 0.0135352286, -0.013248465, -0.00383155909, -0.00933681056, -0.00280920812, 0.00793778524, 0.00438061357, -0.00998395681, -0.00527293468, -0.00440080371, -0.0184603836, -9.24473716e-05, -0.00041339951, -0.00476636738, -0.0270479694, 0.223999634, 0.0391791463, 0.0292898025, -0.0267834514, -0.0057177539, 0.0125680268, -5.90703603e-05, -0.00104127, -0.0169875864, -0.00940741599, -0.00910910498, -0.0224970151, 0.00486817537, -0.00247663143, 0.0247224942, 0.00264232326, -0.00481051533, 0.0104691, 0.0391833447, 0.00897451, 0.00378534873, 0.0117932009, 0.0268109459, -0.00450915657, 0.032831084, 0.00614221208, -0.00499389041, 0.0130287269, 0.0198381525, -0.0250617936, 0.0107990559, -0.0103800632, 0.0240465403, -0.00705984514, 0.00287503935, 0.0093074562, -0.00244787661, -0.00552914198, 0.0206650496, 0.0168857, -0.00797822606, -0.00304987724, 0.0217728335, -0.0427235663, -0.00136477698, -0.000284917507, 0.0113469912, 0.014042832, 0.0129957739, -0.031315729, -0.0197472535, 0.00698776683, 0.00435969885, 0.0185942911, 0.0299551804, 0.0402360596, 0.0108966669, -0.00613529095, -0.0122435037, -0.0133723384, 0.022795219, 0.0175225381, 0.0163328853, 0.012822981, -0.0277823675, -0.00315146078, 0.0279980674, -0.0206715968, -0.011524491, 0.0158438906, 0.00629777275, -0.002174675, -0.0204714816, -0.0014384205, 0.0227126461, -0.0189583879, 0.0322822928, -0.0319383852, 0.0127205793, 0.00458356505, 0.0185698234, 0.0263096225, -0.00607819809, 0.00686548837, -0.00179028464, 0.00644918159, 0.0165212285, -0.00157984532, 0.0370912254, 0.0165448301, 0.00409790361, 0.0171388574, 0.000993969617, 0.0336020179, -0.025744101, -0.010641003, 0.00416155, 0.0317627676, 0.00361764384, 0.0117253764, -0.000247499382, -0.00246107439, 0.0139737939, 0.00475933868, -0.00249883393, 0.00795016252, 0.000104521052, -0.00465417514, -0.0164884888, -0.0258060694, -0.00227541267, -0.00382384541, -0.00274285534, -0.00567692, -0.000451617932, -0.00145303737, 0.0173595, 0.0103471363, 0.0140854307, 0.0328413881, -0.00021797129, 0.0222176686, 0.0167573635, 0.001833266, 0.0153836869, 0.0469371714, -0.00833023, 0.00881483778, -0.0107982429, -0.0046392139, 0.0171781816, -0.0157688875, -0.0426043496, 0.0093619125, -0.0179308672, 0.0158771668, 0.0129310787, 0.00177563436, 0.0212822817, -0.000844245602, 0.00464618765, -0.000786182587, -0.00195839349, -0.00303268177, 0.0414158404, -0.011101421, 0.0249428321, 0.00477509201, -0.00334195443, -0.0158717316, -0.00299344375, -0.00841517188, 0.00221045199, 0.0140419332, 0.0172031522, 0.00249167881, -0.0117397811, 0.00571018457, 0.00284194271, 0.0186581314, -0.00244241301, 0.0118193626, 0.0116327498, 0.0463388115, 0.025708288, 0.0218270924, -0.0179291535, 0.0333231874, -0.028761344, 0.00987981074, 0.0244551264, 0.00368457148, 0.017150959, 0.00673121028, 0.000660063466, 0.0110533768, 0.0248050094, 0.00757763302, 0.0233796686, -0.00574497273, 0.00134571933, 0.0214188583, 0.00497961603, 0.0136838779, 0.00355204567, 0.013302451, -0.014154138, 0.00158589135, 0.0191954598, 0.0150782624, -0.00983823184, -0.00680188648, 0.0195773523, 0.00171192351, -0.00796085317, -0.0132844765, -0.00130634767, -0.245715275, 0.0113870176, 0.0143444631, -0.00568405725, 0.0247878376, -0.00221273722, 0.00457521388, -0.00605641026, -0.00634554, 0.023873765, -0.0199355986, -0.00352518144, -0.0184472799, 0.0146852778, -0.00636779377, -0.00460161036, -0.0189697724, 0.0200090334, 0.0208479, -0.00367945014, -0.00423545437, 0.00114671735, 0.0168698095, 0.0201810803, -0.00996142533, 0.218350351, 0.0305378903, 0.00966956373, 0.00536565855, 2.18275054e-05, 0.00121151959, 0.00188701204, -0.00400859769, -0.0107698087, 0.0102253295, -0.0162292104, -0.0143794408, -0.00682462659, 0.0371908508, -0.00559402956, 0.0108100222, 0.00576888165, 0.0198197924, 0.0086312294, -0.000487990561, 0.00939172879, 0.0200185906, 0.0190047193, 0.0175830591, -0.0165835321, 0.00529965619, 0.016489828, -0.00440218346, 0.0188067276, 0.0179814473, -0.0102068018, 0.0279383622, 0.02950342, 0.010623388, 0.0187427122, -0.0126448805, 0.0127828112, -0.00819033943, -0.00308067724, 0.00899674371, -0.0258663855, -0.0219066981, -0.0168310776, 0.0106686661, 0.22673431, -0.0209494084, -0.0209063143, 0.0203318577, -0.00801697187, 0.0149593307, -0.0175564475, -0.00725674257, 0.0195127223, -0.00440142211, 0.00551027432, -0.00315441051, 0.0227186885, 0.00237702252, 0.00599973975, -0.00284320349, -0.000616509351, 0.021642575, 0.0153197041, -0.0256920271, 0.00377826602, -0.0223874543, -0.0102944504, -0.0192203149, 0.00108609174, 0.0270237681, 0.00114827033, 0.0167446937, -0.00925561, 0.0104765035, 0.0147854118, -0.0287145805, -0.0182621721, 0.00191914558, -0.00793426484, -0.00356767885, -0.00676622288, 0.00699638482, -0.0158010032, -0.226710573, 0.00629207306, -0.0126011735, -0.0126867397, 0.0156365223, -0.0174988601, 0.0121443123, 0.000825958617, 0.153823823, 0.00890946575, 0.00177524739, 0.0143718282, -0.0261651166, -0.00833302457, 0.00237096497, -0.0102856886, -0.0169793107, -0.0215322133, -0.0167380404, 0.0146894883, 0.0155440466, -0.000936854805, -0.0160557162, -0.0113407336, -0.00244330196, 0.00904586539, 0.0120671894, 0.0295897536, 0.033890672, 0.00542051811, -0.00905443, 0.0355892144, -0.219220489, -0.0039520124, 0.000506160082, 0.00557355955, -0.00561513472, -0.00843596552, 0.00763275754, 0.0139152696, -0.00148251443, 0.00675623, 0.0146089038, 0.00554304291, -0.00343061076, 0.0155450115, -0.0229220986, -0.223133475, -0.0157753639, -0.00360564818, 0.0307583772, -0.00221061311, -0.00144295138, 0.0255934522, 0.00329105346, -0.00757349515, 0.00510883518, 0.00747482, -0.00788885076, -0.00808734354, 0.0143551249, -0.00045517931, 0.00140219671, -0.0087101208, -0.00583273685, 0.00874435809, 0.00803193171, 0.0179246552, 0.00255580689, -0.00652164873, 0.0255182218, -0.00147063448, -0.0147682512, -0.00373547641, 0.00184910907, 0.0208939556, -0.00175321195, 0.013493347, 0.0233765207, -0.00464756042, 0.000265452371, 0.0148865888, 0.0216341205, 0.0041783643, -0.000286908238, 0.0210982449, -0.00613164296, 0.00209414144, -0.00309075695, 0.00632896693, 0.0131490249, 0.0172586311, 0.0110930726, -0.00452072499, 0.0211692117, -0.0070402436, -0.000736134534, 0.00449425587, 0.0211433619, 0.0047853305, -0.018156305, 0.0269742385, 0.0211799014, -0.0232659765, 0.00188305718, 0.0098795034, 0.00869563781, 0.0201430209, -0.00377181475, 0.0086734267, 0.0124535877, 0.022190433, 0.0111807175, 0.00222036056, 0.0129469447, -0.0139981965, -0.0121352468, 0.00554637937, 0.00489702309, -0.0100642024, -0.00232339115, -0.00843655784, -0.015390506, -0.0178292636, -0.0105296681, -0.045419842, -0.0080700554, 0.0111195194, 0.0176905412, -0.00241775298, 0.00441707904, 0.00369083579, -0.0259945039, -0.0341328792, 0.00399240525, -0.00818568841, 0.012163491, 0.0228856876, 0.0314382538, 0.00108183071, -0.00133756653, 5.12946754e-05, 0.00274407025, 0.021067692, 0.0237359833, 0.00692915637, 0.00447298028, 0.0141628226, -0.0223902166, -0.000768969127, 0.00843582302, 0.0332894847, -0.00256012566, -0.0369155854, 0.00426500291, 0.00788968336, 0.0278302152, 0.0194345042, -0.00237982045, -0.0150280716, -0.050842084, -0.0234291814, 0.0272791833, 0.00225635, -0.0143213356, -0.00792844407, 0.00931461, -0.0132684978, -0.00173566397, -0.00503418921, -0.00926774088, 0.00118627469, 0.00890888833, 0.019306818, 0.00027294879, 0.00575134438, 0.0140861263, -0.0152361067, -0.022206014, 0.00728356326, -0.0253477152, 0.0156403817, 0.0134468665, -0.0108437054, 0.0250694174, 0.010598626, -0.0228448659, -0.00048121353, -0.0185370781, -0.00879668165, -0.00208670972, -0.00590937585, 0.0113178054, 0.012167993, 0.00861249119, 0.0273396634, 0.00468869554, 2.03441105e-05, -0.0283051599, -0.0291654803, -0.00121465244, 0.0382571705, 0.0154694458, 0.00408218382, 0.0216123853, 0.0290710833, 0.00343999336, 0.00566945, 0.0145163471, 0.0109057771, 0.00222570729, -0.000849903619, 0.00950488728, -0.0637820959, -0.00267359149, 0.0118371649, 0.00155643944, 0.00987397134, 0.0295052901, 0.00388113759, -0.00463458709, 0.0149023728, 0.021987861, -0.0171582308, -0.0173364505, 0.00624621334, -0.0388761237, -0.0104249492, 0.0110742599, -0.0115874121, -0.0113363015, 0.00256447261, 0.0103554279, 0.0190553721, 0.00255754194, -0.0195320416, 0.012964583, -0.0123878215, -0.00169296889, 0.0129389185, 0.0168530103, 0.0268038958, 0.0333747454, 0.0268923361, 0.016797401, 0.00914941449, 0.011764409])\n",
            "going to call vector_find\n",
            "going to call show_recommendations\n",
            "\n",
            "Recommendation : 1\n",
            "CAP $26.46 , Gender: men\n",
            "Cap made of stretchy, breathable fabric. Secure fit with inner elastic band.Zara Athleticz.\n",
            "https://www.zara.com/in/en/cap-p02966306.html\n",
            "Similarity score:  0.69774055\n",
            "https://static.zara.net/photos///2023/I/0/2/p/2966/306/001/2/w/448/2966306001_6_1_1.jpg?ts=1684420908929\n"
          ]
        },
        {
          "output_type": "display_data",
          "data": {
            "text/plain": [
              "<vertexai.vision_models.Image at 0x7d1a90f39de0>"
            ]
          },
          "metadata": {}
        },
        {
          "output_type": "stream",
          "name": "stdout",
          "text": [
            "<vertexai.vision_models.Image object at 0x7d1a90f39de0>\n"
          ]
        },
        {
          "output_type": "display_data",
          "data": {
            "text/plain": [
              "<vertexai.vision_models.Image at 0x7d1a6ab88f70>"
            ]
          },
          "metadata": {}
        },
        {
          "output_type": "display_data",
          "data": {
            "text/plain": [
              "<vertexai.vision_models.Image at 0x7d1ac8108f10>"
            ]
          },
          "metadata": {}
        },
        {
          "output_type": "display_data",
          "data": {
            "text/plain": [
              "<vertexai.vision_models.Image at 0x7d1ac8108f10>"
            ]
          },
          "metadata": {}
        },
        {
          "output_type": "stream",
          "name": "stdout",
          "text": [
            "file1.jpg\n"
          ]
        },
        {
          "output_type": "display_data",
          "data": {
            "text/plain": [
              "<vertexai.vision_models.Image at 0x7d1a6ab8aad0>"
            ]
          },
          "metadata": {}
        },
        {
          "output_type": "stream",
          "name": "stdout",
          "text": [
            "\n",
            "Recommendation : 2\n",
            "GEOMETRIC PRINT SWIMMING TRUNKS $41.86 , Gender: men\n",
            "Swimming trunks made of technical fabric with a velvety finish. Elasticated waistband with drawstrings. Front pockets and pocket detail at the waist. Rear welt pocket. Lining. Includes a bag in the same fabric.Length of inner leg seam: 13 cm. / 5.1″Length of outer leg seam: 36 cm. / 14.1″View more\n",
            "https://www.zara.com/in/en/geometric-print-swimming-trunks-p02634306.html\n",
            "Similarity score:  0.6887832\n",
            "https://static.zara.net/photos///2023/I/0/2/p/2634/306/401/2/w/448/2634306401_1_1_1.jpg?ts=1689157213064\n"
          ]
        },
        {
          "output_type": "display_data",
          "data": {
            "text/plain": [
              "<vertexai.vision_models.Image at 0x7d1a6ab8b010>"
            ]
          },
          "metadata": {}
        },
        {
          "output_type": "stream",
          "name": "stdout",
          "text": [
            "<vertexai.vision_models.Image object at 0x7d1a6ab8b010>\n"
          ]
        },
        {
          "output_type": "display_data",
          "data": {
            "text/plain": [
              "<vertexai.vision_models.Image at 0x7d1a90f39de0>"
            ]
          },
          "metadata": {}
        },
        {
          "output_type": "display_data",
          "data": {
            "text/plain": [
              "<vertexai.vision_models.Image at 0x7d1a90f39de0>"
            ]
          },
          "metadata": {}
        },
        {
          "output_type": "display_data",
          "data": {
            "text/plain": [
              "<vertexai.vision_models.Image at 0x7d1a90f39de0>"
            ]
          },
          "metadata": {}
        },
        {
          "output_type": "stream",
          "name": "stdout",
          "text": [
            "file1.jpg\n"
          ]
        },
        {
          "output_type": "display_data",
          "data": {
            "text/plain": [
              "<vertexai.vision_models.Image at 0x7d1a6ab8b5e0>"
            ]
          },
          "metadata": {}
        },
        {
          "output_type": "stream",
          "name": "stdout",
          "text": [
            "\n",
            "Recommendation : 3\n",
            "WORKOUT T-SHIRT $32.06 , Gender: men\n",
            "T-shirt made of lightweight textured stretch fabric that moves in every direction.- Round neck T-shirt with short sleeves.- Printed logo detail on the hem.Zara Athleticz.View more\n",
            "https://www.zara.com/in/en/workout-t-shirt-p05320450.html\n",
            "Similarity score:  0.6876066\n",
            "https://static.zara.net/photos///2023/I/0/2/p/5320/450/250/2/w/448/5320450250_1_1_1.jpg?ts=1688985619667\n"
          ]
        },
        {
          "output_type": "display_data",
          "data": {
            "text/plain": [
              "<vertexai.vision_models.Image at 0x7d1ac8108f10>"
            ]
          },
          "metadata": {}
        },
        {
          "output_type": "stream",
          "name": "stdout",
          "text": [
            "<vertexai.vision_models.Image object at 0x7d1ac8108f10>\n"
          ]
        },
        {
          "output_type": "display_data",
          "data": {
            "text/plain": [
              "<vertexai.vision_models.Image at 0x7d1a6ab8baf0>"
            ]
          },
          "metadata": {}
        },
        {
          "output_type": "display_data",
          "data": {
            "text/plain": [
              "<vertexai.vision_models.Image at 0x7d1a6ab8baf0>"
            ]
          },
          "metadata": {}
        },
        {
          "output_type": "display_data",
          "data": {
            "text/plain": [
              "<vertexai.vision_models.Image at 0x7d1a6ab8baf0>"
            ]
          },
          "metadata": {}
        },
        {
          "output_type": "stream",
          "name": "stdout",
          "text": [
            "file1.jpg\n"
          ]
        },
        {
          "output_type": "display_data",
          "data": {
            "text/plain": [
              "<vertexai.vision_models.Image at 0x7d1a6ab88fa0>"
            ]
          },
          "metadata": {}
        }
      ]
    },
    {
      "cell_type": "code",
      "source": [
        "#to find python version\n",
        "!python --version"
      ],
      "metadata": {
        "id": "Ce5sRWMdKeZ4",
        "colab": {
          "base_uri": "https://localhost:8080/"
        },
        "outputId": "f5606499-ac3d-4a03-b4c3-0895bb53273a"
      },
      "execution_count": null,
      "outputs": [
        {
          "output_type": "stream",
          "name": "stdout",
          "text": [
            "Python 3.10.12\n"
          ]
        }
      ]
    },
    {
      "cell_type": "code",
      "source": [
        "#to list all python packages installed with version\n",
        "#!pip list"
      ],
      "metadata": {
        "id": "fWqwM27sK3wH"
      },
      "execution_count": null,
      "outputs": []
    }
  ]
}